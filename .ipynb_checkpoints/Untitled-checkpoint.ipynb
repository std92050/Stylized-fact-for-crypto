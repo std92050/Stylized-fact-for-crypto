{
 "cells": [
  {
   "cell_type": "code",
   "execution_count": 1,
   "id": "bd35ebb8-2d65-45ce-bebb-5ce994062702",
   "metadata": {
    "tags": []
   },
   "outputs": [],
   "source": [
    "import pandas as pd\n",
    "import numpy as np\n",
    "from datetime import *\n"
   ]
  },
  {
   "cell_type": "code",
   "execution_count": 46,
   "id": "ae868375-6d9a-4279-ada8-003fd139bb2a",
   "metadata": {
    "tags": []
   },
   "outputs": [],
   "source": []
  },
  {
   "cell_type": "markdown",
   "id": "ce235614-8cd7-4c56-add7-5e6f553327ff",
   "metadata": {},
   "source": [
    "## Piecewisely fetching Binance data"
   ]
  },
  {
   "cell_type": "code",
   "execution_count": 10,
   "id": "3d4616ca-3a4b-45d2-be99-ebab024d1ab4",
   "metadata": {
    "tags": []
   },
   "outputs": [
    {
     "name": "stdout",
     "output_type": "stream",
     "text": [
      "2017-01-01 00:00:00 2018-01-01 00:00:00\n",
      "Begin downloading: H1-ETH\n",
      "Download completed: H1-ETH\n",
      "There are 0 N/As in close prices.\n",
      "2018-01-01 00:00:00 2019-01-01 00:00:00\n",
      "Begin downloading: H1-ETH\n",
      "Download completed: H1-ETH\n",
      "There are 0 N/As in close prices.\n",
      "2019-01-01 00:00:00 2020-01-01 00:00:00\n",
      "Begin downloading: H1-ETH\n",
      "Download completed: H1-ETH\n",
      "There are 0 N/As in close prices.\n",
      "2020-01-01 00:00:00 2021-09-01 00:00:00\n",
      "Begin downloading: H1-ETH\n",
      "Download completed: H1-ETH\n",
      "There are 0 N/As in close prices.\n"
     ]
    }
   ],
   "source": [
    "\n",
    "from download_binance import *\n",
    "import datetime\n",
    "symbols = [ \"ETH\"]\n",
    "period = \"1m\"\n",
    "\n",
    "time_list = [datetime.datetime(2017, 1,  1, 0, 0),datetime.datetime(2018, 1,  1, 0, 0),datetime.datetime(2019, 1,  1, 0, 0),datetime.datetime(2020, 1, 1, 0, 0)\n",
    ",datetime.datetime(2021, 9, 1, 0, 0)]\n",
    "df_list = []\n",
    "for n in range(len(time_list)-1):\n",
    "    print(time_list[n], time_list[n+1])\n",
    "    for i, symbol in enumerate( symbols[:] ):\n",
    "\n",
    "        print(f\"Begin downloading: H1-{symbol}\")\n",
    "        df = get_data_since(symbol, time_list[n], time_list[n+1], period )\n",
    "        df_list.append( df )\n",
    "       \n",
    "        print(f\"Download completed: H1-{symbol}\")\n",
    "        print(f\"There are {df.close.isna().sum() } N/As in close prices.\")\n",
    "        del(df)"
   ]
  },
  {
   "cell_type": "code",
   "execution_count": 7,
   "id": "f9d03408-9022-4a24-8945-a0b737c65649",
   "metadata": {
    "tags": []
   },
   "outputs": [
    {
     "data": {
      "text/plain": [
       "RangeIndex(start=0, stop=87000, step=1)"
      ]
     },
     "execution_count": 7,
     "metadata": {},
     "output_type": "execute_result"
    }
   ],
   "source": []
  },
  {
   "cell_type": "markdown",
   "id": "fe6bc45d-320c-49f8-9606-701cacbd3c7d",
   "metadata": {
    "tags": []
   },
   "source": [
    "### Concat, remove overlapping"
   ]
  },
  {
   "cell_type": "code",
   "execution_count": 11,
   "id": "b49ff1f4-27c8-4225-8517-450e5b262cf3",
   "metadata": {
    "tags": []
   },
   "outputs": [],
   "source": [
    "for df in df_list:\n",
    "    df.set_index('timestamp',inplace = True)\n",
    "    df.index = pd.to_datetime(df.index)"
   ]
  },
  {
   "cell_type": "code",
   "execution_count": 19,
   "id": "9e5bfac9-193b-4a2d-8b58-8329b145a171",
   "metadata": {
    "tags": []
   },
   "outputs": [
    {
     "data": {
      "text/html": [
       "<div>\n",
       "<style scoped>\n",
       "    .dataframe tbody tr th:only-of-type {\n",
       "        vertical-align: middle;\n",
       "    }\n",
       "\n",
       "    .dataframe tbody tr th {\n",
       "        vertical-align: top;\n",
       "    }\n",
       "\n",
       "    .dataframe thead th {\n",
       "        text-align: right;\n",
       "    }\n",
       "</style>\n",
       "<table border=\"1\" class=\"dataframe\">\n",
       "  <thead>\n",
       "    <tr style=\"text-align: right;\">\n",
       "      <th></th>\n",
       "      <th>open</th>\n",
       "      <th>high</th>\n",
       "      <th>low</th>\n",
       "      <th>close</th>\n",
       "      <th>volume</th>\n",
       "    </tr>\n",
       "    <tr>\n",
       "      <th>timestamp</th>\n",
       "      <th></th>\n",
       "      <th></th>\n",
       "      <th></th>\n",
       "      <th></th>\n",
       "      <th></th>\n",
       "    </tr>\n",
       "  </thead>\n",
       "  <tbody>\n",
       "    <tr>\n",
       "      <th>2018-12-31 16:00:00</th>\n",
       "      <td>135.30</td>\n",
       "      <td>136.28</td>\n",
       "      <td>135.30</td>\n",
       "      <td>136.28</td>\n",
       "      <td>1361.41334</td>\n",
       "    </tr>\n",
       "    <tr>\n",
       "      <th>2018-12-31 16:01:00</th>\n",
       "      <td>136.28</td>\n",
       "      <td>136.40</td>\n",
       "      <td>135.64</td>\n",
       "      <td>135.65</td>\n",
       "      <td>2287.09117</td>\n",
       "    </tr>\n",
       "    <tr>\n",
       "      <th>2018-12-31 16:02:00</th>\n",
       "      <td>135.64</td>\n",
       "      <td>135.64</td>\n",
       "      <td>135.03</td>\n",
       "      <td>135.57</td>\n",
       "      <td>969.73136</td>\n",
       "    </tr>\n",
       "    <tr>\n",
       "      <th>2018-12-31 16:03:00</th>\n",
       "      <td>135.55</td>\n",
       "      <td>135.60</td>\n",
       "      <td>135.26</td>\n",
       "      <td>135.41</td>\n",
       "      <td>789.68422</td>\n",
       "    </tr>\n",
       "    <tr>\n",
       "      <th>2018-12-31 16:04:00</th>\n",
       "      <td>135.46</td>\n",
       "      <td>135.55</td>\n",
       "      <td>135.24</td>\n",
       "      <td>135.42</td>\n",
       "      <td>176.59864</td>\n",
       "    </tr>\n",
       "    <tr>\n",
       "      <th>...</th>\n",
       "      <td>...</td>\n",
       "      <td>...</td>\n",
       "      <td>...</td>\n",
       "      <td>...</td>\n",
       "      <td>...</td>\n",
       "    </tr>\n",
       "    <tr>\n",
       "      <th>2019-12-31 18:39:00</th>\n",
       "      <td>129.60</td>\n",
       "      <td>129.69</td>\n",
       "      <td>129.55</td>\n",
       "      <td>129.68</td>\n",
       "      <td>40.46911</td>\n",
       "    </tr>\n",
       "    <tr>\n",
       "      <th>2019-12-31 18:40:00</th>\n",
       "      <td>129.68</td>\n",
       "      <td>129.69</td>\n",
       "      <td>129.60</td>\n",
       "      <td>129.60</td>\n",
       "      <td>40.36380</td>\n",
       "    </tr>\n",
       "    <tr>\n",
       "      <th>2019-12-31 18:41:00</th>\n",
       "      <td>129.63</td>\n",
       "      <td>129.66</td>\n",
       "      <td>129.52</td>\n",
       "      <td>129.54</td>\n",
       "      <td>43.27447</td>\n",
       "    </tr>\n",
       "    <tr>\n",
       "      <th>2019-12-31 18:42:00</th>\n",
       "      <td>129.56</td>\n",
       "      <td>129.69</td>\n",
       "      <td>129.56</td>\n",
       "      <td>129.63</td>\n",
       "      <td>118.68516</td>\n",
       "    </tr>\n",
       "    <tr>\n",
       "      <th>2019-12-31 18:43:00</th>\n",
       "      <td>129.60</td>\n",
       "      <td>129.64</td>\n",
       "      <td>129.53</td>\n",
       "      <td>129.62</td>\n",
       "      <td>71.60795</td>\n",
       "    </tr>\n",
       "  </tbody>\n",
       "</table>\n",
       "<p>524000 rows × 5 columns</p>\n",
       "</div>"
      ],
      "text/plain": [
       "                       open    high     low   close      volume\n",
       "timestamp                                                      \n",
       "2018-12-31 16:00:00  135.30  136.28  135.30  136.28  1361.41334\n",
       "2018-12-31 16:01:00  136.28  136.40  135.64  135.65  2287.09117\n",
       "2018-12-31 16:02:00  135.64  135.64  135.03  135.57   969.73136\n",
       "2018-12-31 16:03:00  135.55  135.60  135.26  135.41   789.68422\n",
       "2018-12-31 16:04:00  135.46  135.55  135.24  135.42   176.59864\n",
       "...                     ...     ...     ...     ...         ...\n",
       "2019-12-31 18:39:00  129.60  129.69  129.55  129.68    40.46911\n",
       "2019-12-31 18:40:00  129.68  129.69  129.60  129.60    40.36380\n",
       "2019-12-31 18:41:00  129.63  129.66  129.52  129.54    43.27447\n",
       "2019-12-31 18:42:00  129.56  129.69  129.56  129.63   118.68516\n",
       "2019-12-31 18:43:00  129.60  129.64  129.53  129.62    71.60795\n",
       "\n",
       "[524000 rows x 5 columns]"
      ]
     },
     "execution_count": 19,
     "metadata": {},
     "output_type": "execute_result"
    }
   ],
   "source": [
    "df_list[2]"
   ]
  },
  {
   "cell_type": "code",
   "execution_count": 20,
   "id": "0d0f1877-2b3b-4456-a3f7-6b3d383a7055",
   "metadata": {
    "tags": []
   },
   "outputs": [],
   "source": [
    "df_CEX = pd.concat([df_list[1][ (df_list[1].index > '2018-01-01 08:23:00')&  (df_list[1].index<'2018-12-31 16:00:00')], \n",
    "          df_list[2][(df_list[2].index<'2022-12-31 16:00:00') & (df_list[2].index<'2019-12-31 16:00:00' )],\n",
    "          df_list[3]])"
   ]
  },
  {
   "cell_type": "code",
   "execution_count": 21,
   "id": "ab205b18-2cf2-4021-aa17-11c3d567e5fb",
   "metadata": {
    "tags": []
   },
   "outputs": [
    {
     "data": {
      "text/html": [
       "<div>\n",
       "<style scoped>\n",
       "    .dataframe tbody tr th:only-of-type {\n",
       "        vertical-align: middle;\n",
       "    }\n",
       "\n",
       "    .dataframe tbody tr th {\n",
       "        vertical-align: top;\n",
       "    }\n",
       "\n",
       "    .dataframe thead th {\n",
       "        text-align: right;\n",
       "    }\n",
       "</style>\n",
       "<table border=\"1\" class=\"dataframe\">\n",
       "  <thead>\n",
       "    <tr style=\"text-align: right;\">\n",
       "      <th></th>\n",
       "      <th>timestamp</th>\n",
       "      <th>open</th>\n",
       "      <th>high</th>\n",
       "      <th>low</th>\n",
       "      <th>close</th>\n",
       "      <th>volume</th>\n",
       "      <th>time diff</th>\n",
       "    </tr>\n",
       "  </thead>\n",
       "  <tbody>\n",
       "    <tr>\n",
       "      <th>0</th>\n",
       "      <td>2018-01-01 08:24:00</td>\n",
       "      <td>755.50</td>\n",
       "      <td>755.53</td>\n",
       "      <td>755.00</td>\n",
       "      <td>755.45</td>\n",
       "      <td>47.79923</td>\n",
       "      <td>NaT</td>\n",
       "    </tr>\n",
       "    <tr>\n",
       "      <th>3997</th>\n",
       "      <td>2018-01-04 05:06:00</td>\n",
       "      <td>927.18</td>\n",
       "      <td>928.06</td>\n",
       "      <td>922.96</td>\n",
       "      <td>927.47</td>\n",
       "      <td>75.63960</td>\n",
       "      <td>0 days 02:06:00</td>\n",
       "    </tr>\n",
       "    <tr>\n",
       "      <th>54120</th>\n",
       "      <td>2018-02-09 10:00:00</td>\n",
       "      <td>781.66</td>\n",
       "      <td>829.86</td>\n",
       "      <td>781.66</td>\n",
       "      <td>827.02</td>\n",
       "      <td>984.20805</td>\n",
       "      <td>1 days 09:32:00</td>\n",
       "    </tr>\n",
       "    <tr>\n",
       "      <th>55320</th>\n",
       "      <td>2018-02-10 06:15:00</td>\n",
       "      <td>892.59</td>\n",
       "      <td>897.00</td>\n",
       "      <td>892.58</td>\n",
       "      <td>896.57</td>\n",
       "      <td>89.08733</td>\n",
       "      <td>0 days 00:16:00</td>\n",
       "    </tr>\n",
       "    <tr>\n",
       "      <th>56626</th>\n",
       "      <td>2018-02-11 04:35:00</td>\n",
       "      <td>796.98</td>\n",
       "      <td>808.00</td>\n",
       "      <td>796.98</td>\n",
       "      <td>804.86</td>\n",
       "      <td>527.34240</td>\n",
       "      <td>0 days 00:35:00</td>\n",
       "    </tr>\n",
       "    <tr>\n",
       "      <th>250871</th>\n",
       "      <td>2018-06-26 12:00:00</td>\n",
       "      <td>455.39</td>\n",
       "      <td>455.95</td>\n",
       "      <td>449.00</td>\n",
       "      <td>449.21</td>\n",
       "      <td>1483.48648</td>\n",
       "      <td>0 days 10:01:00</td>\n",
       "    </tr>\n",
       "    <tr>\n",
       "      <th>252371</th>\n",
       "      <td>2018-06-27 14:45:00</td>\n",
       "      <td>432.34</td>\n",
       "      <td>432.34</td>\n",
       "      <td>425.00</td>\n",
       "      <td>425.29</td>\n",
       "      <td>1280.32024</td>\n",
       "      <td>0 days 01:46:00</td>\n",
       "    </tr>\n",
       "    <tr>\n",
       "      <th>261589</th>\n",
       "      <td>2018-07-04 08:00:00</td>\n",
       "      <td>460.92</td>\n",
       "      <td>461.33</td>\n",
       "      <td>458.44</td>\n",
       "      <td>460.91</td>\n",
       "      <td>168.83751</td>\n",
       "      <td>0 days 07:38:00</td>\n",
       "    </tr>\n",
       "    <tr>\n",
       "      <th>415549</th>\n",
       "      <td>2018-10-19 09:30:00</td>\n",
       "      <td>204.66</td>\n",
       "      <td>206.03</td>\n",
       "      <td>204.66</td>\n",
       "      <td>205.90</td>\n",
       "      <td>457.05068</td>\n",
       "      <td>0 days 03:31:00</td>\n",
       "    </tr>\n",
       "    <tr>\n",
       "      <th>452539</th>\n",
       "      <td>2018-11-14 09:00:00</td>\n",
       "      <td>210.28</td>\n",
       "      <td>210.28</td>\n",
       "      <td>210.16</td>\n",
       "      <td>210.16</td>\n",
       "      <td>26.21967</td>\n",
       "      <td>0 days 07:01:00</td>\n",
       "    </tr>\n",
       "    <tr>\n",
       "      <th>622039</th>\n",
       "      <td>2019-03-12 08:00:00</td>\n",
       "      <td>131.52</td>\n",
       "      <td>131.52</td>\n",
       "      <td>130.77</td>\n",
       "      <td>131.27</td>\n",
       "      <td>1140.63914</td>\n",
       "      <td>0 days 06:01:00</td>\n",
       "    </tr>\n",
       "    <tr>\n",
       "      <th>713899</th>\n",
       "      <td>2019-05-15 13:00:00</td>\n",
       "      <td>220.38</td>\n",
       "      <td>232.05</td>\n",
       "      <td>220.38</td>\n",
       "      <td>231.00</td>\n",
       "      <td>6885.62187</td>\n",
       "      <td>0 days 10:01:00</td>\n",
       "    </tr>\n",
       "    <tr>\n",
       "      <th>747513</th>\n",
       "      <td>2019-06-07 22:15:00</td>\n",
       "      <td>247.76</td>\n",
       "      <td>249.19</td>\n",
       "      <td>247.66</td>\n",
       "      <td>249.15</td>\n",
       "      <td>1364.09874</td>\n",
       "      <td>0 days 01:02:00</td>\n",
       "    </tr>\n",
       "    <tr>\n",
       "      <th>845658</th>\n",
       "      <td>2019-08-15 10:00:00</td>\n",
       "      <td>188.55</td>\n",
       "      <td>188.55</td>\n",
       "      <td>181.26</td>\n",
       "      <td>182.60</td>\n",
       "      <td>2895.75287</td>\n",
       "      <td>0 days 08:01:00</td>\n",
       "    </tr>\n",
       "    <tr>\n",
       "      <th>974778</th>\n",
       "      <td>2019-11-13 04:20:00</td>\n",
       "      <td>185.77</td>\n",
       "      <td>185.77</td>\n",
       "      <td>185.77</td>\n",
       "      <td>185.77</td>\n",
       "      <td>0.00000</td>\n",
       "      <td>0 days 02:21:00</td>\n",
       "    </tr>\n",
       "    <tr>\n",
       "      <th>974848</th>\n",
       "      <td>2019-11-13 05:33:00</td>\n",
       "      <td>185.73</td>\n",
       "      <td>185.73</td>\n",
       "      <td>185.73</td>\n",
       "      <td>185.73</td>\n",
       "      <td>0.00000</td>\n",
       "      <td>0 days 00:04:00</td>\n",
       "    </tr>\n",
       "    <tr>\n",
       "      <th>991915</th>\n",
       "      <td>2019-11-25 04:00:00</td>\n",
       "      <td>137.61</td>\n",
       "      <td>137.64</td>\n",
       "      <td>135.50</td>\n",
       "      <td>135.98</td>\n",
       "      <td>1704.87457</td>\n",
       "      <td>0 days 02:01:00</td>\n",
       "    </tr>\n",
       "    <tr>\n",
       "      <th>1101235</th>\n",
       "      <td>2020-02-09 03:00:00</td>\n",
       "      <td>225.98</td>\n",
       "      <td>226.64</td>\n",
       "      <td>225.93</td>\n",
       "      <td>226.63</td>\n",
       "      <td>1034.78039</td>\n",
       "      <td>0 days 01:01:00</td>\n",
       "    </tr>\n",
       "    <tr>\n",
       "      <th>1116151</th>\n",
       "      <td>2020-02-19 17:30:00</td>\n",
       "      <td>281.50</td>\n",
       "      <td>285.00</td>\n",
       "      <td>281.50</td>\n",
       "      <td>284.00</td>\n",
       "      <td>5363.22231</td>\n",
       "      <td>0 days 05:55:00</td>\n",
       "    </tr>\n",
       "    <tr>\n",
       "      <th>1135823</th>\n",
       "      <td>2020-03-04 11:30:00</td>\n",
       "      <td>225.46</td>\n",
       "      <td>225.46</td>\n",
       "      <td>222.48</td>\n",
       "      <td>223.00</td>\n",
       "      <td>5316.66474</td>\n",
       "      <td>0 days 02:09:00</td>\n",
       "    </tr>\n",
       "    <tr>\n",
       "      <th>1210133</th>\n",
       "      <td>2020-04-25 04:30:00</td>\n",
       "      <td>186.53</td>\n",
       "      <td>187.89</td>\n",
       "      <td>186.53</td>\n",
       "      <td>187.72</td>\n",
       "      <td>1839.06281</td>\n",
       "      <td>0 days 02:31:00</td>\n",
       "    </tr>\n",
       "    <tr>\n",
       "      <th>1302143</th>\n",
       "      <td>2020-06-28 05:30:00</td>\n",
       "      <td>219.32</td>\n",
       "      <td>220.75</td>\n",
       "      <td>219.13</td>\n",
       "      <td>219.44</td>\n",
       "      <td>2710.24663</td>\n",
       "      <td>0 days 03:31:00</td>\n",
       "    </tr>\n",
       "    <tr>\n",
       "      <th>1525373</th>\n",
       "      <td>2020-11-30 07:00:00</td>\n",
       "      <td>582.80</td>\n",
       "      <td>583.10</td>\n",
       "      <td>582.76</td>\n",
       "      <td>583.00</td>\n",
       "      <td>352.64667</td>\n",
       "      <td>0 days 01:01:00</td>\n",
       "    </tr>\n",
       "    <tr>\n",
       "      <th>1556021</th>\n",
       "      <td>2020-12-21 18:00:00</td>\n",
       "      <td>609.84</td>\n",
       "      <td>610.44</td>\n",
       "      <td>602.96</td>\n",
       "      <td>606.29</td>\n",
       "      <td>3555.55217</td>\n",
       "      <td>0 days 04:13:00</td>\n",
       "    </tr>\n",
       "    <tr>\n",
       "      <th>1560821</th>\n",
       "      <td>2020-12-25 03:00:00</td>\n",
       "      <td>611.64</td>\n",
       "      <td>611.64</td>\n",
       "      <td>608.31</td>\n",
       "      <td>608.85</td>\n",
       "      <td>1402.13864</td>\n",
       "      <td>0 days 01:01:00</td>\n",
       "    </tr>\n",
       "    <tr>\n",
       "      <th>1629982</th>\n",
       "      <td>2021-02-11 05:00:00</td>\n",
       "      <td>1721.70</td>\n",
       "      <td>1724.25</td>\n",
       "      <td>1720.12</td>\n",
       "      <td>1721.88</td>\n",
       "      <td>1156.93137</td>\n",
       "      <td>0 days 01:20:00</td>\n",
       "    </tr>\n",
       "    <tr>\n",
       "      <th>1662922</th>\n",
       "      <td>2021-03-06 03:30:00</td>\n",
       "      <td>1534.62</td>\n",
       "      <td>1534.62</td>\n",
       "      <td>1532.45</td>\n",
       "      <td>1534.16</td>\n",
       "      <td>235.46472</td>\n",
       "      <td>0 days 01:31:00</td>\n",
       "    </tr>\n",
       "    <tr>\n",
       "      <th>1727632</th>\n",
       "      <td>2021-04-20 04:30:00</td>\n",
       "      <td>2097.56</td>\n",
       "      <td>2108.70</td>\n",
       "      <td>2084.61</td>\n",
       "      <td>2103.68</td>\n",
       "      <td>1426.71509</td>\n",
       "      <td>0 days 02:31:00</td>\n",
       "    </tr>\n",
       "    <tr>\n",
       "      <th>1734803</th>\n",
       "      <td>2021-04-25 08:45:00</td>\n",
       "      <td>2193.33</td>\n",
       "      <td>2224.30</td>\n",
       "      <td>2192.26</td>\n",
       "      <td>2218.22</td>\n",
       "      <td>1665.65859</td>\n",
       "      <td>0 days 04:45:00</td>\n",
       "    </tr>\n",
       "    <tr>\n",
       "      <th>1892798</th>\n",
       "      <td>2021-08-13 06:30:00</td>\n",
       "      <td>3088.23</td>\n",
       "      <td>3140.24</td>\n",
       "      <td>3088.22</td>\n",
       "      <td>3140.01</td>\n",
       "      <td>4052.56240</td>\n",
       "      <td>0 days 04:31:00</td>\n",
       "    </tr>\n",
       "  </tbody>\n",
       "</table>\n",
       "</div>"
      ],
      "text/plain": [
       "                  timestamp     open     high      low    close      volume  \\\n",
       "0       2018-01-01 08:24:00   755.50   755.53   755.00   755.45    47.79923   \n",
       "3997    2018-01-04 05:06:00   927.18   928.06   922.96   927.47    75.63960   \n",
       "54120   2018-02-09 10:00:00   781.66   829.86   781.66   827.02   984.20805   \n",
       "55320   2018-02-10 06:15:00   892.59   897.00   892.58   896.57    89.08733   \n",
       "56626   2018-02-11 04:35:00   796.98   808.00   796.98   804.86   527.34240   \n",
       "250871  2018-06-26 12:00:00   455.39   455.95   449.00   449.21  1483.48648   \n",
       "252371  2018-06-27 14:45:00   432.34   432.34   425.00   425.29  1280.32024   \n",
       "261589  2018-07-04 08:00:00   460.92   461.33   458.44   460.91   168.83751   \n",
       "415549  2018-10-19 09:30:00   204.66   206.03   204.66   205.90   457.05068   \n",
       "452539  2018-11-14 09:00:00   210.28   210.28   210.16   210.16    26.21967   \n",
       "622039  2019-03-12 08:00:00   131.52   131.52   130.77   131.27  1140.63914   \n",
       "713899  2019-05-15 13:00:00   220.38   232.05   220.38   231.00  6885.62187   \n",
       "747513  2019-06-07 22:15:00   247.76   249.19   247.66   249.15  1364.09874   \n",
       "845658  2019-08-15 10:00:00   188.55   188.55   181.26   182.60  2895.75287   \n",
       "974778  2019-11-13 04:20:00   185.77   185.77   185.77   185.77     0.00000   \n",
       "974848  2019-11-13 05:33:00   185.73   185.73   185.73   185.73     0.00000   \n",
       "991915  2019-11-25 04:00:00   137.61   137.64   135.50   135.98  1704.87457   \n",
       "1101235 2020-02-09 03:00:00   225.98   226.64   225.93   226.63  1034.78039   \n",
       "1116151 2020-02-19 17:30:00   281.50   285.00   281.50   284.00  5363.22231   \n",
       "1135823 2020-03-04 11:30:00   225.46   225.46   222.48   223.00  5316.66474   \n",
       "1210133 2020-04-25 04:30:00   186.53   187.89   186.53   187.72  1839.06281   \n",
       "1302143 2020-06-28 05:30:00   219.32   220.75   219.13   219.44  2710.24663   \n",
       "1525373 2020-11-30 07:00:00   582.80   583.10   582.76   583.00   352.64667   \n",
       "1556021 2020-12-21 18:00:00   609.84   610.44   602.96   606.29  3555.55217   \n",
       "1560821 2020-12-25 03:00:00   611.64   611.64   608.31   608.85  1402.13864   \n",
       "1629982 2021-02-11 05:00:00  1721.70  1724.25  1720.12  1721.88  1156.93137   \n",
       "1662922 2021-03-06 03:30:00  1534.62  1534.62  1532.45  1534.16   235.46472   \n",
       "1727632 2021-04-20 04:30:00  2097.56  2108.70  2084.61  2103.68  1426.71509   \n",
       "1734803 2021-04-25 08:45:00  2193.33  2224.30  2192.26  2218.22  1665.65859   \n",
       "1892798 2021-08-13 06:30:00  3088.23  3140.24  3088.22  3140.01  4052.56240   \n",
       "\n",
       "              time diff  \n",
       "0                   NaT  \n",
       "3997    0 days 02:06:00  \n",
       "54120   1 days 09:32:00  \n",
       "55320   0 days 00:16:00  \n",
       "56626   0 days 00:35:00  \n",
       "250871  0 days 10:01:00  \n",
       "252371  0 days 01:46:00  \n",
       "261589  0 days 07:38:00  \n",
       "415549  0 days 03:31:00  \n",
       "452539  0 days 07:01:00  \n",
       "622039  0 days 06:01:00  \n",
       "713899  0 days 10:01:00  \n",
       "747513  0 days 01:02:00  \n",
       "845658  0 days 08:01:00  \n",
       "974778  0 days 02:21:00  \n",
       "974848  0 days 00:04:00  \n",
       "991915  0 days 02:01:00  \n",
       "1101235 0 days 01:01:00  \n",
       "1116151 0 days 05:55:00  \n",
       "1135823 0 days 02:09:00  \n",
       "1210133 0 days 02:31:00  \n",
       "1302143 0 days 03:31:00  \n",
       "1525373 0 days 01:01:00  \n",
       "1556021 0 days 04:13:00  \n",
       "1560821 0 days 01:01:00  \n",
       "1629982 0 days 01:20:00  \n",
       "1662922 0 days 01:31:00  \n",
       "1727632 0 days 02:31:00  \n",
       "1734803 0 days 04:45:00  \n",
       "1892798 0 days 04:31:00  "
      ]
     },
     "execution_count": 21,
     "metadata": {},
     "output_type": "execute_result"
    }
   ],
   "source": [
    "test = df_CEX.reset_index() \n",
    "test['time diff'] = test['timestamp'] - test['timestamp'].shift(1)\n",
    "test[test['time diff'] != '0 days 00:01:00' ]"
   ]
  },
  {
   "cell_type": "code",
   "execution_count": 22,
   "id": "8d960e9d-1dfb-4618-a265-98c0e4e7cdd0",
   "metadata": {
    "tags": []
   },
   "outputs": [],
   "source": [
    "df_CEX.to_csv('Data/Binance/ETH_2017to2021.csv')"
   ]
  },
  {
   "cell_type": "code",
   "execution_count": null,
   "id": "eb627365-00ef-4754-a9b3-bbc91c1d20b5",
   "metadata": {},
   "outputs": [],
   "source": []
  },
  {
   "cell_type": "markdown",
   "id": "76507c6f-1aec-4c1f-9836-5bd584b1d899",
   "metadata": {},
   "source": [
    "### Add more data"
   ]
  },
  {
   "cell_type": "code",
   "execution_count": 4,
   "id": "8f3f3fea-5c8b-4fe2-b382-43ae8662f0cd",
   "metadata": {
    "tags": []
   },
   "outputs": [
    {
     "name": "stdout",
     "output_type": "stream",
     "text": [
      "2021-08-01 00:00:00 2021-09-30 00:00:00\n",
      "Begin downloading: H1-ETH\n",
      "Download completed: H1-ETH\n",
      "There are 0 N/As in close prices.\n"
     ]
    }
   ],
   "source": [
    "\n",
    "time_list = [datetime.datetime(2021, 8, 1, 0, 0),datetime.datetime(2021, 9, 30, 0, 0)]\n",
    "\n",
    "df_list = []\n",
    "for n in range(len(time_list)-1):\n",
    "    print(time_list[n], time_list[n+1])\n",
    "    for i, symbol in enumerate( symbols[:] ):\n",
    "\n",
    "        print(f\"Begin downloading: H1-{symbol}\")\n",
    "        df = get_data_since(symbol, time_list[n], time_list[n+1], period )\n",
    "        df_list.append( df )\n",
    "       \n",
    "        print(f\"Download completed: H1-{symbol}\")\n",
    "        print(f\"There are {df.close.isna().sum() } N/As in close prices.\")\n",
    "        del(df)"
   ]
  },
  {
   "cell_type": "code",
   "execution_count": 13,
   "id": "b9947e33-7978-47e2-bbef-7aea04856a8a",
   "metadata": {
    "tags": []
   },
   "outputs": [],
   "source": [
    "df = df_list[0]\n",
    "df.rename(columns={'timestamp':'datetime'},inplace=True)\n",
    "df= df.set_index('datetime')\n",
    "df[ (df.index > '2021-08-31 19:06:00')&( df.index<'2021-09-01 00:01:00')]\n",
    "df0 = pd.read_csv('Data/Binance/ETH_2017to2021.csv',index_col='timestamp')\n",
    "df0.rename(columns={'timestamp':'datetime'},inplace=True)\n",
    "df0.index =pd.to_datetime(df0.index)\n"
   ]
  },
  {
   "cell_type": "code",
   "execution_count": 18,
   "id": "9fd7f0de-d501-4de2-94ce-fe1fbc22de20",
   "metadata": {
    "tags": []
   },
   "outputs": [],
   "source": [
    "df_CEX = pd.concat([df0,df])\n",
    "df_CEX.to_csv('Data/Binance/ETH_2017to2021.csv')"
   ]
  },
  {
   "cell_type": "code",
   "execution_count": 97,
   "id": "35c9db25-87f9-4602-9cd1-22d3f08cb072",
   "metadata": {
    "tags": []
   },
   "outputs": [],
   "source": [
    "test2.to_csv(\"Data/ETH_USD_Biance.csv\")"
   ]
  },
  {
   "cell_type": "code",
   "execution_count": null,
   "id": "8f3edc2e-63ae-4609-92c4-86c9acc14286",
   "metadata": {},
   "outputs": [],
   "source": []
  },
  {
   "cell_type": "code",
   "execution_count": 25,
   "id": "ec8def39-94ba-4c81-ac2f-9cb9b1b78bc6",
   "metadata": {
    "tags": []
   },
   "outputs": [
    {
     "name": "stdout",
     "output_type": "stream",
     "text": [
      "2024-01-25 06:45:35.183589+00:00\n",
      "Fetched 1000 ETH/USDT candles from 2023-03-24T00:00:00.000Z to 2023-05-04T16:00:00.000Z\n",
      "Fetched 1000 ETH/USDT candles from 2023-05-04T16:00:00.000Z to 2023-06-15T07:00:00.000Z\n",
      "Fetched 1000 ETH/USDT candles from 2023-06-15T08:00:00.000Z to 2023-07-26T23:00:00.000Z\n",
      "Fetched 1000 ETH/USDT candles from 2023-07-27T00:00:00.000Z to 2023-09-06T15:00:00.000Z\n",
      "Fetched 1000 ETH/USDT candles from 2023-09-06T16:00:00.000Z to 2023-10-18T07:00:00.000Z\n",
      "Fetched 1000 ETH/USDT candles from 2023-10-18T08:00:00.000Z to 2023-11-28T23:00:00.000Z\n",
      "Fetched 1000 ETH/USDT candles from 2023-11-29T00:00:00.000Z to 2024-01-09T15:00:00.000Z\n",
      "Fetched 375 ETH/USDT candles from 2024-01-09T16:00:00.000Z to 2024-01-25T06:00:00.000Z\n",
      "Saved 7375 candles from 2023-03-24T00:00:00.000Z to 2024-01-25T06:00:00.000Z to (2023-03-24,2024-01-25)_ETHUSDT_1h.csv\n",
      "----------------------------------------------------------------------------------------------------\n",
      "sleep 1 sec\n",
      "----------------------------------------------------------------------------------------------------\n"
     ]
    }
   ],
   "source": [
    "from query_data.QueryBinance import *\n",
    "import os\n",
    "timeframe = \"1h\" # 1m, 1h, 1d \n",
    "since = '2023-03-24T00:00:00Z'\n",
    "end = '2023-03-25T00:00:00Z'\n",
    "newT = pd.Timestamp.today(tz='UTC')+timedelta(hours=-1)\n",
    "end = str(newT)\n",
    "print(end)\n",
    "base_token = \"ETH\"\n",
    "quote_token = \"USDT\"\n",
    "#base_token_list = [\"BTC\",\"ETH\",\"SOL\",\"ATOM\",\"LINK\",\"AVAX\",\"MATIC\",\"CRV\",\"BNB\"]\n",
    "base_token_list = ['ETH']\n",
    "\n",
    "for base_token in base_token_list:\n",
    "    exchange_id = 'binance'\n",
    "    symbol = f\"{base_token}/{quote_token}\"\n",
    "    filename = f\"({since[:10]},{end[:10]})_{base_token}{quote_token}_{timeframe}.csv\"\n",
    "    if not os.path.exists(filename):\n",
    "        scrape_candles_to_csv(filename=filename, exchange_id=exchange_id, symbol=symbol,\n",
    "                                            timeframe=timeframe, since=since, end=end, max_retries=3, limit=1000,\n",
    "                                            rest_time=1, cat=None)"
   ]
  },
  {
   "cell_type": "code",
   "execution_count": 30,
   "id": "634ad909-00cb-4b80-abf6-0c0c6a2dc193",
   "metadata": {
    "tags": []
   },
   "outputs": [
    {
     "data": {
      "text/plain": [
       "Timestamp('2024-01-25 17:03:34.798698+0800', tz='UTC+08:00')"
      ]
     },
     "execution_count": 30,
     "metadata": {},
     "output_type": "execute_result"
    }
   ],
   "source": [
    "pd.Timestamp.today(tz='UTC+08:00')"
   ]
  },
  {
   "cell_type": "code",
   "execution_count": 8,
   "id": "fdd521f4-8b9c-4571-98a3-a165ed50f456",
   "metadata": {},
   "outputs": [
    {
     "data": {
      "text/plain": [
       "9"
      ]
     },
     "execution_count": 8,
     "metadata": {},
     "output_type": "execute_result"
    }
   ],
   "source": []
  },
  {
   "cell_type": "code",
   "execution_count": 6,
   "id": "f3435d84-c248-49f6-a238-6554401954bf",
   "metadata": {
    "tags": []
   },
   "outputs": [],
   "source": []
  },
  {
   "cell_type": "code",
   "execution_count": 7,
   "id": "4b326f2d-8334-4c0c-9550-1b782a3d64b1",
   "metadata": {
    "tags": []
   },
   "outputs": [
    {
     "data": {
      "text/plain": [
       "0"
      ]
     },
     "execution_count": 7,
     "metadata": {},
     "output_type": "execute_result"
    }
   ],
   "source": []
  },
  {
   "cell_type": "markdown",
   "id": "314c5af7-fe6c-48b6-bd0a-f4b43dd4e771",
   "metadata": {},
   "source": [
    "#### Test"
   ]
  },
  {
   "cell_type": "code",
   "execution_count": 2,
   "id": "8d550ab8-c931-4623-a00b-028125d6d84b",
   "metadata": {
    "tags": []
   },
   "outputs": [],
   "source": [
    "import numpy as np\n",
    "import matplotlib.pyplot as plt"
   ]
  },
  {
   "cell_type": "code",
   "execution_count": 3,
   "id": "22c9c9b8-4bc2-40f1-bb58-e21992ce1f51",
   "metadata": {
    "tags": []
   },
   "outputs": [],
   "source": [
    "x=[-99,-4,-4,-4,-3,-2,-2.5,-1.3,-1.02,0,0,-1.02,1,1,1,1,2,2.3,3,3,4.66,4.9,133,55,5]"
   ]
  },
  {
   "cell_type": "code",
   "execution_count": 4,
   "id": "33065350-0810-4b52-8a69-18cd4b568af7",
   "metadata": {
    "tags": []
   },
   "outputs": [
    {
     "data": {
      "text/plain": [
       "array([-5, -4, -3, -2, -1,  0,  1,  2,  3,  4])"
      ]
     },
     "execution_count": 4,
     "metadata": {},
     "output_type": "execute_result"
    }
   ],
   "source": [
    "np.arange(-5,5)"
   ]
  },
  {
   "cell_type": "code",
   "execution_count": 5,
   "id": "b6d30590-eb52-4ebd-8eaf-22dd6b70246b",
   "metadata": {
    "tags": []
   },
   "outputs": [
    {
     "data": {
      "image/png": "[encoded data removed]",
      "text/plain": [
       "<Figure size 640x480 with 1 Axes>"
      ]
     },
     "metadata": {},
     "output_type": "display_data"
    }
   ],
   "source": [
    "c, b = np.histogram(x,bins=np.arange(-5,6))\n",
    "plt.bar(x=b[:-1],height=c);"
   ]
  },
  {
   "cell_type": "code",
   "execution_count": 8,
   "id": "dc2580aa-0602-429c-aa61-3cec0a4eaad3",
   "metadata": {
    "tags": []
   },
   "outputs": [
    {
     "data": {
      "text/plain": [
       "(22, 25)"
      ]
     },
     "execution_count": 8,
     "metadata": {},
     "output_type": "execute_result"
    }
   ],
   "source": [
    "c"
   ]
  },
  {
   "cell_type": "code",
   "execution_count": 14,
   "id": "66b131e1-7d93-4e58-9ac0-f30c797a638b",
   "metadata": {
    "tags": []
   },
   "outputs": [
    {
     "data": {
      "text/plain": [
       "array([-99. , -75.8, -52.6, -29.4,  -6.2,  17. ,  40.2,  63.4,  86.6,\n",
       "       109.8, 133. ])"
      ]
     },
     "execution_count": 14,
     "metadata": {},
     "output_type": "execute_result"
    }
   ],
   "source": [
    "b"
   ]
  },
  {
   "cell_type": "code",
   "execution_count": 18,
   "id": "3db65753-a09b-4091-9814-375dd8dbb448",
   "metadata": {
    "tags": []
   },
   "outputs": [
    {
     "data": {
      "text/plain": [
       "[-99,\n",
       " -4,\n",
       " -4,\n",
       " -4,\n",
       " -3,\n",
       " -2,\n",
       " -2.5,\n",
       " -1.3,\n",
       " -1.02,\n",
       " 0,\n",
       " 0,\n",
       " -1.02,\n",
       " 1,\n",
       " 1,\n",
       " 1,\n",
       " 1,\n",
       " 2,\n",
       " 2.3,\n",
       " 3,\n",
       " 3,\n",
       " 4.66,\n",
       " 4.9,\n",
       " 133,\n",
       " 55,\n",
       " 5]"
      ]
     },
     "execution_count": 18,
     "metadata": {},
     "output_type": "execute_result"
    }
   ],
   "source": [
    "x"
   ]
  },
  {
   "cell_type": "code",
   "execution_count": null,
   "id": "6bdd44dd-7dc3-49d9-afe3-b104c18412e1",
   "metadata": {},
   "outputs": [],
   "source": []
  }
 ],
 "metadata": {
  "kernelspec": {
   "display_name": "Python 3 (ipykernel)",
   "language": "python",
   "name": "python3"
  },
  "language_info": {
   "codemirror_mode": {
    "name": "ipython",
    "version": 3
   },
   "file_extension": ".py",
   "mimetype": "text/x-python",
   "name": "python",
   "nbconvert_exporter": "python",
   "pygments_lexer": "ipython3",
   "version": "3.10.13"
  }
 },
 "nbformat": 4,
 "nbformat_minor": 5
}
