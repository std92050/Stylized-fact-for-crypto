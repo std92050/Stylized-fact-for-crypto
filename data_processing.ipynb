{
 "cells": [
  {
   "cell_type": "markdown",
   "id": "45e7e6db-cf50-406e-8985-ecfefaac9b2d",
   "metadata": {},
   "source": [
    "### Import"
   ]
  },
  {
   "cell_type": "code",
   "execution_count": 1,
   "id": "6f560944-f9de-435d-9a44-9ef8630e465a",
   "metadata": {
    "tags": []
   },
   "outputs": [],
   "source": [
    "import pandas as pd\n",
    "import json\n",
    "import os \n",
    "import numpy as np\n",
    "import matplotlib.pyplot as plt\n",
    "from datetime import datetime , timedelta\n",
    "import TransformData\n",
    "from statsmodels.graphics.tsaplots import plot_acf"
   ]
  },
  {
   "cell_type": "markdown",
   "id": "6b12987b-bb4a-43f2-b874-3693dc536f45",
   "metadata": {},
   "source": [
    "In this notebook, we do the data processing for token pairs (WETH vs USDC, USDT, DAI)on Arbitrum and Mainnet . And we can study the order flow, especially the arrival process and arrival time. Here we consider two fee tiers: 0.3% and 0.05%. \n"
   ]
  },
  {
   "cell_type": "markdown",
   "id": "fa3b5b7e-f5a7-4f65-a80a-7bf509bf68dc",
   "metadata": {
    "tags": [],
    "toc-hr-collapsed": true
   },
   "source": [
    "# Arbitrium"
   ]
  },
  {
   "cell_type": "markdown",
   "id": "0a4fd710-180e-4d34-839e-fd862bc84656",
   "metadata": {
    "tags": [],
    "toc-hr-collapsed": true
   },
   "source": [
    "## WETH vs USDC Arbitrum 0.3%"
   ]
  },
  {
   "cell_type": "code",
   "execution_count": 3,
   "id": "4bc8fe4c-9009-414c-8577-fe7b1a435c94",
   "metadata": {},
   "outputs": [
    {
     "name": "stderr",
     "output_type": "stream",
     "text": [
      "C:\\Users\\std92\\OneDrive\\文件\\AMM\\other's notes and codes\\token_style\\TransformData.py:52: DtypeWarning: Columns (5) have mixed types. Specify dtype option on import or set low_memory=False.\n",
      "  df = pd.read_csv(path + \".csv\", index_col=0)\n"
     ]
    }
   ],
   "source": [
    "#using WETH vs USDC\n",
    "token_0 ='WETH'\n",
    "token_1 ='USDC'\n",
    "\n",
    "path = \"Data/Arbitrum/WETH_USDC_arbitrum_3000\"\n",
    "with open(path + \"_config.json\", 'r') as f:\n",
    "    TransformData.config = json.load(f)\n",
    "df_arb_3000 = TransformData.main(path,token_0,token_1)"
   ]
  },
  {
   "cell_type": "markdown",
   "id": "1856ef78-730e-4a46-b3c8-06c5a91f2587",
   "metadata": {
    "tags": []
   },
   "source": [
    "### A first look at data\n",
    "Before processing the data, we need to check the data first and pick out those defected data ponits. Sometimes the\n",
    "values may be too big or too small and they lead to some unexpected problems."
   ]
  },
  {
   "cell_type": "code",
   "execution_count": 3,
   "id": "bfdfd758-2934-47e7-9dac-08632b46b641",
   "metadata": {
    "tags": []
   },
   "outputs": [
    {
     "data": {
      "text/html": [
       "<div>\n",
       "<style scoped>\n",
       "    .dataframe tbody tr th:only-of-type {\n",
       "        vertical-align: middle;\n",
       "    }\n",
       "\n",
       "    .dataframe tbody tr th {\n",
       "        vertical-align: top;\n",
       "    }\n",
       "\n",
       "    .dataframe thead th {\n",
       "        text-align: right;\n",
       "    }\n",
       "</style>\n",
       "<table border=\"1\" class=\"dataframe\">\n",
       "  <thead>\n",
       "    <tr style=\"text-align: right;\">\n",
       "      <th></th>\n",
       "      <th>blockNumber</th>\n",
       "      <th>price</th>\n",
       "      <th>WETH</th>\n",
       "      <th>USDC</th>\n",
       "      <th>liquidity</th>\n",
       "    </tr>\n",
       "    <tr>\n",
       "      <th>datetime</th>\n",
       "      <th></th>\n",
       "      <th></th>\n",
       "      <th></th>\n",
       "      <th></th>\n",
       "      <th></th>\n",
       "    </tr>\n",
       "  </thead>\n",
       "  <tbody>\n",
       "    <tr>\n",
       "      <th>2021-07-12 20:41:58</th>\n",
       "      <td>100904</td>\n",
       "      <td>2.229348e+03</td>\n",
       "      <td>0.010000</td>\n",
       "      <td>-22.751132</td>\n",
       "      <td>20418025159608</td>\n",
       "    </tr>\n",
       "    <tr>\n",
       "      <th>2021-07-14 02:19:44</th>\n",
       "      <td>106836</td>\n",
       "      <td>2.224725e+03</td>\n",
       "      <td>0.000450</td>\n",
       "      <td>-1.000000</td>\n",
       "      <td>20418025159608</td>\n",
       "    </tr>\n",
       "    <tr>\n",
       "      <th>2021-08-27 22:09:33</th>\n",
       "      <td>225259</td>\n",
       "      <td>2.135287e+03</td>\n",
       "      <td>0.009000</td>\n",
       "      <td>-19.557077</td>\n",
       "      <td>20418025159608</td>\n",
       "    </tr>\n",
       "    <tr>\n",
       "      <th>2021-08-29 19:40:40</th>\n",
       "      <td>226206</td>\n",
       "      <td>2.134323e+03</td>\n",
       "      <td>0.000100</td>\n",
       "      <td>-0.212840</td>\n",
       "      <td>20418025159608</td>\n",
       "    </tr>\n",
       "    <tr>\n",
       "      <th>2021-08-29 19:43:24</th>\n",
       "      <td>226207</td>\n",
       "      <td>2.124726e+03</td>\n",
       "      <td>0.001000</td>\n",
       "      <td>-2.123130</td>\n",
       "      <td>20418025159608</td>\n",
       "    </tr>\n",
       "    <tr>\n",
       "      <th>2021-08-30 22:05:00</th>\n",
       "      <td>226850</td>\n",
       "      <td>2.032215e+03</td>\n",
       "      <td>0.010000</td>\n",
       "      <td>-20.717222</td>\n",
       "      <td>20418025159608</td>\n",
       "    </tr>\n",
       "    <tr>\n",
       "      <th>2021-08-31 21:47:56</th>\n",
       "      <td>228325</td>\n",
       "      <td>1.991279e+03</td>\n",
       "      <td>0.005000</td>\n",
       "      <td>-10.034475</td>\n",
       "      <td>3058815925277</td>\n",
       "    </tr>\n",
       "    <tr>\n",
       "      <th>2021-08-31 21:56:27</th>\n",
       "      <td>228377</td>\n",
       "      <td>2.154670e+03</td>\n",
       "      <td>-0.020000</td>\n",
       "      <td>41.578811</td>\n",
       "      <td>23476841084885</td>\n",
       "    </tr>\n",
       "    <tr>\n",
       "      <th>2021-08-31 21:56:27</th>\n",
       "      <td>228378</td>\n",
       "      <td>3.402568e+50</td>\n",
       "      <td>-0.262960</td>\n",
       "      <td>841.003815</td>\n",
       "      <td>0</td>\n",
       "    </tr>\n",
       "    <tr>\n",
       "      <th>2021-08-31 22:32:40</th>\n",
       "      <td>228520</td>\n",
       "      <td>3.908127e+03</td>\n",
       "      <td>0.001000</td>\n",
       "      <td>-3.977448</td>\n",
       "      <td>3058815925277</td>\n",
       "    </tr>\n",
       "    <tr>\n",
       "      <th>2021-08-31 22:33:48</th>\n",
       "      <td>228525</td>\n",
       "      <td>3.542126e+03</td>\n",
       "      <td>0.010000</td>\n",
       "      <td>-35.775236</td>\n",
       "      <td>594240310320894</td>\n",
       "    </tr>\n",
       "    <tr>\n",
       "      <th>2021-08-31 22:48:03</th>\n",
       "      <td>228559</td>\n",
       "      <td>3.473513e+03</td>\n",
       "      <td>0.100000</td>\n",
       "      <td>-349.684112</td>\n",
       "      <td>614658335480502</td>\n",
       "    </tr>\n",
       "    <tr>\n",
       "      <th>2021-08-31 22:49:03</th>\n",
       "      <td>228563</td>\n",
       "      <td>3.388246e+03</td>\n",
       "      <td>0.050000</td>\n",
       "      <td>-172.246895</td>\n",
       "      <td>23476841084885</td>\n",
       "    </tr>\n",
       "    <tr>\n",
       "      <th>2021-08-31 23:28:49</th>\n",
       "      <td>228684</td>\n",
       "      <td>3.365241e+03</td>\n",
       "      <td>0.010000</td>\n",
       "      <td>-33.665936</td>\n",
       "      <td>170075640680223</td>\n",
       "    </tr>\n",
       "    <tr>\n",
       "      <th>2021-08-31 23:44:32</th>\n",
       "      <td>228749</td>\n",
       "      <td>3.358423e+03</td>\n",
       "      <td>0.002984</td>\n",
       "      <td>-10.000000</td>\n",
       "      <td>170075640680223</td>\n",
       "    </tr>\n",
       "  </tbody>\n",
       "</table>\n",
       "</div>"
      ],
      "text/plain": [
       "                     blockNumber         price      WETH        USDC  \\\n",
       "datetime                                                               \n",
       "2021-07-12 20:41:58       100904  2.229348e+03  0.010000  -22.751132   \n",
       "2021-07-14 02:19:44       106836  2.224725e+03  0.000450   -1.000000   \n",
       "2021-08-27 22:09:33       225259  2.135287e+03  0.009000  -19.557077   \n",
       "2021-08-29 19:40:40       226206  2.134323e+03  0.000100   -0.212840   \n",
       "2021-08-29 19:43:24       226207  2.124726e+03  0.001000   -2.123130   \n",
       "2021-08-30 22:05:00       226850  2.032215e+03  0.010000  -20.717222   \n",
       "2021-08-31 21:47:56       228325  1.991279e+03  0.005000  -10.034475   \n",
       "2021-08-31 21:56:27       228377  2.154670e+03 -0.020000   41.578811   \n",
       "2021-08-31 21:56:27       228378  3.402568e+50 -0.262960  841.003815   \n",
       "2021-08-31 22:32:40       228520  3.908127e+03  0.001000   -3.977448   \n",
       "2021-08-31 22:33:48       228525  3.542126e+03  0.010000  -35.775236   \n",
       "2021-08-31 22:48:03       228559  3.473513e+03  0.100000 -349.684112   \n",
       "2021-08-31 22:49:03       228563  3.388246e+03  0.050000 -172.246895   \n",
       "2021-08-31 23:28:49       228684  3.365241e+03  0.010000  -33.665936   \n",
       "2021-08-31 23:44:32       228749  3.358423e+03  0.002984  -10.000000   \n",
       "\n",
       "                           liquidity  \n",
       "datetime                              \n",
       "2021-07-12 20:41:58   20418025159608  \n",
       "2021-07-14 02:19:44   20418025159608  \n",
       "2021-08-27 22:09:33   20418025159608  \n",
       "2021-08-29 19:40:40   20418025159608  \n",
       "2021-08-29 19:43:24   20418025159608  \n",
       "2021-08-30 22:05:00   20418025159608  \n",
       "2021-08-31 21:47:56    3058815925277  \n",
       "2021-08-31 21:56:27   23476841084885  \n",
       "2021-08-31 21:56:27                0  \n",
       "2021-08-31 22:32:40    3058815925277  \n",
       "2021-08-31 22:33:48  594240310320894  \n",
       "2021-08-31 22:48:03  614658335480502  \n",
       "2021-08-31 22:49:03   23476841084885  \n",
       "2021-08-31 23:28:49  170075640680223  \n",
       "2021-08-31 23:44:32  170075640680223  "
      ]
     },
     "execution_count": 3,
     "metadata": {},
     "output_type": "execute_result"
    }
   ],
   "source": [
    "df_arb_3000.head(15)"
   ]
  },
  {
   "cell_type": "markdown",
   "id": "2ddb0945-4e5c-4ff7-8f1b-a8eefcad856a",
   "metadata": {},
   "source": [
    "#### Anomalously high price\n",
    "Trying to plot the price trajectory. It shows that there's a data point with the price having rougly $10^{50}$ order, which doesn't make sense."
   ]
  },
  {
   "cell_type": "code",
   "execution_count": 4,
   "id": "fd1c84e2-6bae-48b5-897b-1617059f56d5",
   "metadata": {
    "tags": []
   },
   "outputs": [
    {
     "data": {
      "image/png": "[encoded data removed]",
      "text/plain": [
       "<Figure size 640x480 with 1 Axes>"
      ]
     },
     "metadata": {},
     "output_type": "display_data"
    }
   ],
   "source": [
    "plt.plot(df_arb_3000.index.values,df_arb_3000['price'].values)\n",
    "plt.xlabel(\"date\")\n",
    "plt.ylabel(\"price\")\n",
    "plt.xticks(rotation=45);"
   ]
  },
  {
   "cell_type": "code",
   "execution_count": 5,
   "id": "2a359327-5379-44c9-91a8-c65d2fccaa43",
   "metadata": {
    "tags": []
   },
   "outputs": [
    {
     "data": {
      "text/html": [
       "<div>\n",
       "<style scoped>\n",
       "    .dataframe tbody tr th:only-of-type {\n",
       "        vertical-align: middle;\n",
       "    }\n",
       "\n",
       "    .dataframe tbody tr th {\n",
       "        vertical-align: top;\n",
       "    }\n",
       "\n",
       "    .dataframe thead th {\n",
       "        text-align: right;\n",
       "    }\n",
       "</style>\n",
       "<table border=\"1\" class=\"dataframe\">\n",
       "  <thead>\n",
       "    <tr style=\"text-align: right;\">\n",
       "      <th></th>\n",
       "      <th>blockNumber</th>\n",
       "      <th>price</th>\n",
       "      <th>WETH</th>\n",
       "      <th>USDC</th>\n",
       "      <th>liquidity</th>\n",
       "    </tr>\n",
       "    <tr>\n",
       "      <th>datetime</th>\n",
       "      <th></th>\n",
       "      <th></th>\n",
       "      <th></th>\n",
       "      <th></th>\n",
       "      <th></th>\n",
       "    </tr>\n",
       "  </thead>\n",
       "  <tbody>\n",
       "    <tr>\n",
       "      <th>2021-08-31 21:56:27</th>\n",
       "      <td>228378</td>\n",
       "      <td>3.402568e+50</td>\n",
       "      <td>-0.26296</td>\n",
       "      <td>841.003815</td>\n",
       "      <td>0</td>\n",
       "    </tr>\n",
       "  </tbody>\n",
       "</table>\n",
       "</div>"
      ],
      "text/plain": [
       "                     blockNumber         price     WETH        USDC liquidity\n",
       "datetime                                                                     \n",
       "2021-08-31 21:56:27       228378  3.402568e+50 -0.26296  841.003815         0"
      ]
     },
     "execution_count": 5,
     "metadata": {},
     "output_type": "execute_result"
    }
   ],
   "source": [
    "df_arb_3000[df_arb_3000['price']>10**4]"
   ]
  },
  {
   "cell_type": "code",
   "execution_count": 4,
   "id": "16fc9095-7916-4c66-9595-dba26a48513d",
   "metadata": {
    "tags": []
   },
   "outputs": [],
   "source": [
    "#drop the flawed data points whose price is greater than 10**5 (from the raw data, such cases have zero liquidity) \n",
    "df_arb_3000.drop( df_arb_3000[ df_arb_3000['price']>10**5 ].index , inplace=True ) "
   ]
  },
  {
   "cell_type": "markdown",
   "id": "e0b44203-9ba7-47c2-a520-4a39d96fa004",
   "metadata": {},
   "source": [
    "#### Repeated datetime"
   ]
  },
  {
   "cell_type": "markdown",
   "id": "b7cb1aef-8022-49d1-9e29-a26bd93aa442",
   "metadata": {},
   "source": [
    "If we show the dataframe, we can see that the datetimes are repeated sometimes. This is due to the fact that trade may come in the same time interval, or even the same block time (the the block time of Arbitrium is 0.25s). "
   ]
  },
  {
   "cell_type": "markdown",
   "id": "0ea643e0-3408-453d-be7e-1946d7b484ad",
   "metadata": {
    "tags": []
   },
   "source": [
    "#### The type of price(not certain)\n",
    "Note that the price is the one after the trade and is in the sense of closing price. For example, if there are 3 trades that happend at time $t_1, t_2$ and $t_3$ in an one-second interval $[t,t+1)$. The prices after trades are $p_1, p_2$ and $p_3$ respectively. Then there will be three data points that are at time $t$ and with the price $p_1, p_2$ and $p_3$ respectively.\n",
    "This might be seen directly from the type of trades,the direction of price change( sell WETH, price goes up, vice versa) and partial historical data on oku. "
   ]
  },
  {
   "cell_type": "markdown",
   "id": "6718d884-196f-4acf-82f7-9ebd420c8ce6",
   "metadata": {
    "tags": []
   },
   "source": [
    "#### Liquidity dtype\n",
    "The liquidity is too large (not sure what unit it is in raw data) so that pandas reads it as str."
   ]
  },
  {
   "cell_type": "code",
   "execution_count": 5,
   "id": "150f9f52-ec51-4a53-abd6-e02bd058de01",
   "metadata": {
    "tags": []
   },
   "outputs": [],
   "source": [
    "df_arb_3000['liquidity']=df_arb_3000['liquidity'].astype(float)"
   ]
  },
  {
   "cell_type": "markdown",
   "id": "db7501db-9e96-44cf-8ad4-f550a08b5afe",
   "metadata": {},
   "source": [
    "#### Early data points\n",
    "Before 2021-09-01, the frequency of trading is very low. This may be because the pool is just started. So we ignore those data points. "
   ]
  },
  {
   "cell_type": "code",
   "execution_count": 6,
   "id": "e56de4e0-0ef8-4770-a88a-70bb269e5ce5",
   "metadata": {
    "tags": []
   },
   "outputs": [],
   "source": [
    "df_arb_3000 = df_arb_3000[df_arb_3000.index> '2021-09-01'] #discard first few data points "
   ]
  },
  {
   "cell_type": "markdown",
   "id": "dde6186a-e794-466f-bba7-cc28b976d5bd",
   "metadata": {},
   "source": [
    "#### Trades with no price impact/reserves change "
   ]
  },
  {
   "cell_type": "markdown",
   "id": "bdcebf31-5c9f-45b2-86a5-ab3e4593044d",
   "metadata": {},
   "source": [
    "Even though the dataframe ```df_arb_3000``` stores the info of price everytime after a trade occurs in the pool, the below shows that sometime the trade has no impact to the price. The raw data shows that the variable **sqrtPriceX96** does change, but after transformed into pool price the difference is ignored by the computer. \n",
    "We also see that the amount of tokens traded in this case is zero (the amount of another token in the trade is extremely small)."
   ]
  },
  {
   "cell_type": "code",
   "execution_count": 7,
   "id": "7747c344-8eaa-45aa-8b8e-103b64a3640c",
   "metadata": {
    "tags": []
   },
   "outputs": [
    {
     "data": {
      "text/html": [
       "<div>\n",
       "<style scoped>\n",
       "    .dataframe tbody tr th:only-of-type {\n",
       "        vertical-align: middle;\n",
       "    }\n",
       "\n",
       "    .dataframe tbody tr th {\n",
       "        vertical-align: top;\n",
       "    }\n",
       "\n",
       "    .dataframe thead th {\n",
       "        text-align: right;\n",
       "    }\n",
       "</style>\n",
       "<table border=\"1\" class=\"dataframe\">\n",
       "  <thead>\n",
       "    <tr style=\"text-align: right;\">\n",
       "      <th></th>\n",
       "      <th>price</th>\n",
       "    </tr>\n",
       "    <tr>\n",
       "      <th>datetime</th>\n",
       "      <th></th>\n",
       "    </tr>\n",
       "  </thead>\n",
       "  <tbody>\n",
       "    <tr>\n",
       "      <th>2022-04-05 18:36:04</th>\n",
       "      <td>0.0</td>\n",
       "    </tr>\n",
       "    <tr>\n",
       "      <th>2022-04-05 18:36:19</th>\n",
       "      <td>0.0</td>\n",
       "    </tr>\n",
       "    <tr>\n",
       "      <th>2022-05-02 05:33:33</th>\n",
       "      <td>0.0</td>\n",
       "    </tr>\n",
       "    <tr>\n",
       "      <th>2022-06-18 07:22:43</th>\n",
       "      <td>0.0</td>\n",
       "    </tr>\n",
       "    <tr>\n",
       "      <th>2022-06-21 08:24:00</th>\n",
       "      <td>0.0</td>\n",
       "    </tr>\n",
       "    <tr>\n",
       "      <th>...</th>\n",
       "      <td>...</td>\n",
       "    </tr>\n",
       "    <tr>\n",
       "      <th>2023-08-25 10:22:06</th>\n",
       "      <td>0.0</td>\n",
       "    </tr>\n",
       "    <tr>\n",
       "      <th>2023-08-25 10:22:08</th>\n",
       "      <td>0.0</td>\n",
       "    </tr>\n",
       "    <tr>\n",
       "      <th>2023-08-25 10:22:10</th>\n",
       "      <td>0.0</td>\n",
       "    </tr>\n",
       "    <tr>\n",
       "      <th>2023-08-26 11:55:44</th>\n",
       "      <td>0.0</td>\n",
       "    </tr>\n",
       "    <tr>\n",
       "      <th>2023-08-29 11:56:20</th>\n",
       "      <td>0.0</td>\n",
       "    </tr>\n",
       "  </tbody>\n",
       "</table>\n",
       "<p>113 rows × 1 columns</p>\n",
       "</div>"
      ],
      "text/plain": [
       "                     price\n",
       "datetime                  \n",
       "2022-04-05 18:36:04    0.0\n",
       "2022-04-05 18:36:19    0.0\n",
       "2022-05-02 05:33:33    0.0\n",
       "2022-06-18 07:22:43    0.0\n",
       "2022-06-21 08:24:00    0.0\n",
       "...                    ...\n",
       "2023-08-25 10:22:06    0.0\n",
       "2023-08-25 10:22:08    0.0\n",
       "2023-08-25 10:22:10    0.0\n",
       "2023-08-26 11:55:44    0.0\n",
       "2023-08-29 11:56:20    0.0\n",
       "\n",
       "[113 rows x 1 columns]"
      ]
     },
     "execution_count": 7,
     "metadata": {},
     "output_type": "execute_result"
    }
   ],
   "source": [
    "# data points where trades have no price impact.\n",
    "test =df_arb_3000[['price']]-df_arb_3000[['price']].shift(1)\n",
    "bad_price_diff = test[test['price']==0]\n",
    "bad_price_diff"
   ]
  },
  {
   "cell_type": "markdown",
   "id": "f56e23a0-6216-45fe-8912-b3fabf868caf",
   "metadata": {},
   "source": [
    "We can see that the data points with no price impact is the subset of those with zero volume. We'll just ignore them."
   ]
  },
  {
   "cell_type": "code",
   "execution_count": 8,
   "id": "0a100b0c-a330-43f8-bcff-9854e4bb0da6",
   "metadata": {
    "tags": []
   },
   "outputs": [
    {
     "data": {
      "text/plain": [
       "array([], dtype=float64)"
      ]
     },
     "execution_count": 8,
     "metadata": {},
     "output_type": "execute_result"
    }
   ],
   "source": [
    "#data points where the aamounts of one of token in trades are zero \n",
    "bad_volume = df_arb_3000[  (df_arb_3000['WETH']==0) | (df_arb_3000['USDC']==0) ]\n",
    "np.setdiff1d(bad_price_diff, bad_volume )"
   ]
  },
  {
   "cell_type": "code",
   "execution_count": 9,
   "id": "fc72491e-73ec-4fe8-8be0-9406c8add1ff",
   "metadata": {
    "tags": []
   },
   "outputs": [],
   "source": [
    "df_arb_3000 = df_arb_3000[ ~ ( (df_arb_3000['WETH']==0) | (df_arb_3000['USDC']==0) )]"
   ]
  },
  {
   "cell_type": "code",
   "execution_count": 10,
   "id": "aa332e4c-780a-4207-8dff-ad2d4965c19d",
   "metadata": {
    "tags": []
   },
   "outputs": [
    {
     "data": {
      "image/png": "[encoded data removed]",
      "text/plain": [
       "<Figure size 640x480 with 1 Axes>"
      ]
     },
     "metadata": {},
     "output_type": "display_data"
    }
   ],
   "source": [
    "#plot again\n",
    "plt.plot(df_arb_3000.index.values,df_arb_3000['price'].values)\n",
    "plt.xlabel(\"date\")\n",
    "plt.ylabel(\"price\")\n",
    "plt.xticks(rotation=45);"
   ]
  },
  {
   "cell_type": "markdown",
   "id": "527a64dc-a009-4fd7-b0b2-b77475bfaa9b",
   "metadata": {},
   "source": [
    "#### Output to csv"
   ]
  },
  {
   "cell_type": "code",
   "execution_count": 20,
   "id": "ee0ad70c-cf7a-43de-b67e-e18487a4c212",
   "metadata": {
    "tags": []
   },
   "outputs": [],
   "source": [
    "df_arb_3000.to_csv(f'Data/organized data/{token_0}_{token_1}_arb_3000/{token_0}_{token_1}_arb_3000_original.csv') "
   ]
  },
  {
   "cell_type": "markdown",
   "id": "4035c896-4416-4297-8874-a1b2d327072c",
   "metadata": {
    "tags": []
   },
   "source": [
    "### Resampling\n",
    "Now we deal with the time-duplicated data. We only keep the last data point of those with the same arrival time and discard others. The price is set to be the price after the last trade and the amount of traded token is the sum of those of data points with duplicated time. Also we add another column ```No.``` as the relative indices of time-duplicated data points. This can help us to keep track of the number of trades in that period.  \n",
    "\n",
    "\n",
    "Note that the trade is \"path-dependent\" when there's trading fee, so one can not get the same price by directly using the data of volume and trading mechanism. "
   ]
  },
  {
   "cell_type": "markdown",
   "id": "cec04c2b-beac-4373-a40e-2ce4e4aff5b2",
   "metadata": {},
   "source": [
    "Parameters:\n",
    "\n",
    "* ```df```: The original dataframe we want to modify.\n",
    "* ```T```: Timedelta string that corresponds to the time interval for resample.\n",
    "\n",
    "Functions:\n",
    "\n",
    "* ```order```: Add a new column to the input dataframe. The values index the duplicated data points by their relative order of coming in to the pool.\n",
    "\n",
    "* ```resemple```: Resample the input dataframe w.r.t the given interval. The ouput dataframe has 5 columns **'open','close'**, `token_0`, `token_1`, **\"No.\"**. Given arbitrary time interval $[ kT , (k+1)T  )$, their values are\n",
    "\n",
    "    1. **'open'** is the close on $[ (k-1)T , kT  )$ (NaN if k=0)\n",
    "    2. **'close'** is the last price of  $[ kT , (k+1)T  )$ in the original dataframe (before resampling)\n",
    "    3. `token_0` and `token_1` are the sum of volumes in  $[ (k-1)T , kT  )$ \n",
    "    4. **'No.'** is the sum of numbers of trades in  $[ kT , (k+1)T  )$ ."
   ]
  },
  {
   "cell_type": "code",
   "execution_count": 35,
   "id": "05f6bc14-e9f2-4049-bef6-6ca7b71ea706",
   "metadata": {
    "tags": []
   },
   "outputs": [],
   "source": [
    "def order(df):\n",
    "    if 'No.' not in df.columns:\n",
    "        df['No.']= df.groupby(df.index).cumcount() + 1 \n",
    "        \n",
    "def resample(df,T):\n",
    "    volume_res = df[[ token_0 , token_1 ]].resample(T).sum()  #trading volumns(net reserves change) in one unit of T  \n",
    "    \n",
    "    #new df by dropping duplicated,keeping the last trade  \n",
    "    df_res=df[~df.index.duplicated(keep='last')]\n",
    "    datetime_ini = df_res.index.values[0]\n",
    "    \n",
    "    #resampling price, volume and order repectively then concat\n",
    "    price_res = df_res['price'].resample(T).last().ffill()\n",
    "    \n",
    "    No_res = df_res['No.'].resample(T).sum()  \n",
    "    df_res= pd.concat([price_res, volume_res, No_res ],axis=1)\n",
    "\n",
    "    #df_res=df_res.reset_index()\n",
    "    df_res.rename(columns={'price':'close'},inplace = True)\n",
    "    df_res['open']= df_res['close'].shift(1)\n",
    "    df_res = df_res[['open', 'close',  token_0 , token_1 ,'No.'] ]\n",
    "    return df_res"
   ]
  },
  {
   "cell_type": "markdown",
   "id": "d2814d00-a10e-4fc5-bf02-23fed5925045",
   "metadata": {
    "tags": []
   },
   "source": [
    "#### Check the correctness (can ignore this part)\n",
    "We need to check the function work as expected.\n",
    "Choose those datapoints that are on the hour. So we can check the sampling interval is indeed left closed right open"
   ]
  },
  {
   "cell_type": "code",
   "execution_count": 13,
   "id": "c88ec93d-f10d-4b4f-ad42-95112cfb1d18",
   "metadata": {
    "tags": []
   },
   "outputs": [],
   "source": [
    "# df_arb_3000 = pd.read_csv('Data/organized data/WETH_USDC_arb_3000/WETH_USDC_arb_3000_original.csv', index_col='datetime')\n",
    "# df_arb_3000.index=pd.to_datetime(df_arb_3000.index)"
   ]
  },
  {
   "cell_type": "code",
   "execution_count": 22,
   "id": "a9dc6650-0475-42f2-af4b-3ea2564962ff",
   "metadata": {
    "tags": []
   },
   "outputs": [],
   "source": [
    "order(df_arb_3000)\n",
    "res_arb_3000_1hr = resample(df_arb_3000,\"1H\")"
   ]
  },
  {
   "cell_type": "code",
   "execution_count": 23,
   "id": "80d923d7-cf1c-4e67-9d12-66775cab9ec5",
   "metadata": {
    "tags": []
   },
   "outputs": [
    {
     "data": {
      "text/html": [
       "<div>\n",
       "<style scoped>\n",
       "    .dataframe tbody tr th:only-of-type {\n",
       "        vertical-align: middle;\n",
       "    }\n",
       "\n",
       "    .dataframe tbody tr th {\n",
       "        vertical-align: top;\n",
       "    }\n",
       "\n",
       "    .dataframe thead th {\n",
       "        text-align: right;\n",
       "    }\n",
       "</style>\n",
       "<table border=\"1\" class=\"dataframe\">\n",
       "  <thead>\n",
       "    <tr style=\"text-align: right;\">\n",
       "      <th></th>\n",
       "      <th>blockNumber</th>\n",
       "      <th>price</th>\n",
       "      <th>WETH</th>\n",
       "      <th>USDC</th>\n",
       "      <th>liquidity</th>\n",
       "      <th>No.</th>\n",
       "    </tr>\n",
       "    <tr>\n",
       "      <th>datetime</th>\n",
       "      <th></th>\n",
       "      <th></th>\n",
       "      <th></th>\n",
       "      <th></th>\n",
       "      <th></th>\n",
       "      <th></th>\n",
       "    </tr>\n",
       "  </thead>\n",
       "  <tbody>\n",
       "    <tr>\n",
       "      <th>2021-09-12 00:00:00</th>\n",
       "      <td>460475</td>\n",
       "      <td>3233.239014</td>\n",
       "      <td>1.000000</td>\n",
       "      <td>-3224.551360</td>\n",
       "      <td>1.806240e+17</td>\n",
       "      <td>1</td>\n",
       "    </tr>\n",
       "    <tr>\n",
       "      <th>2021-09-12 00:00:00</th>\n",
       "      <td>460515</td>\n",
       "      <td>3235.263459</td>\n",
       "      <td>-0.994010</td>\n",
       "      <td>3224.551360</td>\n",
       "      <td>1.806240e+17</td>\n",
       "      <td>2</td>\n",
       "    </tr>\n",
       "    <tr>\n",
       "      <th>2021-09-12 00:00:00</th>\n",
       "      <td>460519</td>\n",
       "      <td>3239.967228</td>\n",
       "      <td>-2.305970</td>\n",
       "      <td>7488.306407</td>\n",
       "      <td>1.806240e+17</td>\n",
       "      <td>3</td>\n",
       "    </tr>\n",
       "    <tr>\n",
       "      <th>2021-09-12 00:00:00</th>\n",
       "      <td>460536</td>\n",
       "      <td>3238.135676</td>\n",
       "      <td>0.900000</td>\n",
       "      <td>-2906.400751</td>\n",
       "      <td>1.806240e+17</td>\n",
       "      <td>4</td>\n",
       "    </tr>\n",
       "    <tr>\n",
       "      <th>2021-09-13 06:00:00</th>\n",
       "      <td>691950</td>\n",
       "      <td>3192.252552</td>\n",
       "      <td>-0.320693</td>\n",
       "      <td>1026.777779</td>\n",
       "      <td>5.354562e+17</td>\n",
       "      <td>1</td>\n",
       "    </tr>\n",
       "    <tr>\n",
       "      <th>...</th>\n",
       "      <td>...</td>\n",
       "      <td>...</td>\n",
       "      <td>...</td>\n",
       "      <td>...</td>\n",
       "      <td>...</td>\n",
       "      <td>...</td>\n",
       "    </tr>\n",
       "    <tr>\n",
       "      <th>2023-08-03 16:00:00</th>\n",
       "      <td>117787890</td>\n",
       "      <td>1843.876367</td>\n",
       "      <td>2.668634</td>\n",
       "      <td>-4906.460250</td>\n",
       "      <td>9.479304e+17</td>\n",
       "      <td>1</td>\n",
       "    </tr>\n",
       "    <tr>\n",
       "      <th>2023-08-06 16:00:00</th>\n",
       "      <td>118767673</td>\n",
       "      <td>1829.607175</td>\n",
       "      <td>-0.001420</td>\n",
       "      <td>2.605088</td>\n",
       "      <td>9.258473e+17</td>\n",
       "      <td>1</td>\n",
       "    </tr>\n",
       "    <tr>\n",
       "      <th>2023-08-09 18:00:00</th>\n",
       "      <td>119779535</td>\n",
       "      <td>1851.399549</td>\n",
       "      <td>0.001802</td>\n",
       "      <td>-3.326176</td>\n",
       "      <td>9.513045e+17</td>\n",
       "      <td>1</td>\n",
       "    </tr>\n",
       "    <tr>\n",
       "      <th>2023-08-25 15:00:00</th>\n",
       "      <td>124859405</td>\n",
       "      <td>1642.916979</td>\n",
       "      <td>2.202263</td>\n",
       "      <td>-3607.454540</td>\n",
       "      <td>1.847211e+18</td>\n",
       "      <td>1</td>\n",
       "    </tr>\n",
       "    <tr>\n",
       "      <th>2023-10-06 23:00:00</th>\n",
       "      <td>138227802</td>\n",
       "      <td>1650.311816</td>\n",
       "      <td>1.089893</td>\n",
       "      <td>-1793.360890</td>\n",
       "      <td>8.423681e+17</td>\n",
       "      <td>1</td>\n",
       "    </tr>\n",
       "  </tbody>\n",
       "</table>\n",
       "<p>114 rows × 6 columns</p>\n",
       "</div>"
      ],
      "text/plain": [
       "                     blockNumber        price      WETH         USDC  \\\n",
       "datetime                                                               \n",
       "2021-09-12 00:00:00       460475  3233.239014  1.000000 -3224.551360   \n",
       "2021-09-12 00:00:00       460515  3235.263459 -0.994010  3224.551360   \n",
       "2021-09-12 00:00:00       460519  3239.967228 -2.305970  7488.306407   \n",
       "2021-09-12 00:00:00       460536  3238.135676  0.900000 -2906.400751   \n",
       "2021-09-13 06:00:00       691950  3192.252552 -0.320693  1026.777779   \n",
       "...                          ...          ...       ...          ...   \n",
       "2023-08-03 16:00:00    117787890  1843.876367  2.668634 -4906.460250   \n",
       "2023-08-06 16:00:00    118767673  1829.607175 -0.001420     2.605088   \n",
       "2023-08-09 18:00:00    119779535  1851.399549  0.001802    -3.326176   \n",
       "2023-08-25 15:00:00    124859405  1642.916979  2.202263 -3607.454540   \n",
       "2023-10-06 23:00:00    138227802  1650.311816  1.089893 -1793.360890   \n",
       "\n",
       "                        liquidity  No.  \n",
       "datetime                                \n",
       "2021-09-12 00:00:00  1.806240e+17    1  \n",
       "2021-09-12 00:00:00  1.806240e+17    2  \n",
       "2021-09-12 00:00:00  1.806240e+17    3  \n",
       "2021-09-12 00:00:00  1.806240e+17    4  \n",
       "2021-09-13 06:00:00  5.354562e+17    1  \n",
       "...                           ...  ...  \n",
       "2023-08-03 16:00:00  9.479304e+17    1  \n",
       "2023-08-06 16:00:00  9.258473e+17    1  \n",
       "2023-08-09 18:00:00  9.513045e+17    1  \n",
       "2023-08-25 15:00:00  1.847211e+18    1  \n",
       "2023-10-06 23:00:00  8.423681e+17    1  \n",
       "\n",
       "[114 rows x 6 columns]"
      ]
     },
     "execution_count": 23,
     "metadata": {},
     "output_type": "execute_result"
    }
   ],
   "source": [
    "df_arb_3000[ (df_arb_3000.index.minute ==0) & (df_arb_3000.index.second ==0 ) ]"
   ]
  },
  {
   "cell_type": "markdown",
   "id": "a913f890-995b-4c9f-ade1-a53d15be6f99",
   "metadata": {},
   "source": [
    "Consider the data poins roughly in the range '2022-05-11 21:00:00' ~ '2022-05-11 21:59:59' and check the resampled result at the time\n",
    "'2022-05-11 21:00:00'. We expected the open price to be 2167.968372 (from the time ' 20:59:02') and close price to be 2325.594443 (from the time '21:58:07'). Also, volumes and the number of trades should not include the values at '2022-05-11 22:00:00'.  "
   ]
  },
  {
   "cell_type": "code",
   "execution_count": 24,
   "id": "a0e67b75-a606-4215-8d61-b80ef9b518b4",
   "metadata": {
    "tags": []
   },
   "outputs": [
    {
     "data": {
      "text/html": [
       "<div>\n",
       "<style scoped>\n",
       "    .dataframe tbody tr th:only-of-type {\n",
       "        vertical-align: middle;\n",
       "    }\n",
       "\n",
       "    .dataframe tbody tr th {\n",
       "        vertical-align: top;\n",
       "    }\n",
       "\n",
       "    .dataframe thead th {\n",
       "        text-align: right;\n",
       "    }\n",
       "</style>\n",
       "<table border=\"1\" class=\"dataframe\">\n",
       "  <thead>\n",
       "    <tr style=\"text-align: right;\">\n",
       "      <th></th>\n",
       "      <th>blockNumber</th>\n",
       "      <th>price</th>\n",
       "      <th>WETH</th>\n",
       "      <th>USDC</th>\n",
       "      <th>liquidity</th>\n",
       "      <th>No.</th>\n",
       "    </tr>\n",
       "    <tr>\n",
       "      <th>datetime</th>\n",
       "      <th></th>\n",
       "      <th></th>\n",
       "      <th></th>\n",
       "      <th></th>\n",
       "      <th></th>\n",
       "      <th></th>\n",
       "    </tr>\n",
       "  </thead>\n",
       "  <tbody>\n",
       "    <tr>\n",
       "      <th>2022-05-11 20:59:09</th>\n",
       "      <td>11833029</td>\n",
       "      <td>2035.969446</td>\n",
       "      <td>-5.003671</td>\n",
       "      <td>10195.251000</td>\n",
       "      <td>1.012944e+17</td>\n",
       "      <td>1</td>\n",
       "    </tr>\n",
       "    <tr>\n",
       "      <th>2022-05-11 21:00:31</th>\n",
       "      <td>11833114</td>\n",
       "      <td>2034.753942</td>\n",
       "      <td>0.672442</td>\n",
       "      <td>-1364.556285</td>\n",
       "      <td>1.012944e+17</td>\n",
       "      <td>1</td>\n",
       "    </tr>\n",
       "    <tr>\n",
       "      <th>2022-05-11 21:01:40</th>\n",
       "      <td>11833244</td>\n",
       "      <td>2040.207459</td>\n",
       "      <td>-3.003257</td>\n",
       "      <td>6137.485634</td>\n",
       "      <td>1.012944e+17</td>\n",
       "      <td>1</td>\n",
       "    </tr>\n",
       "    <tr>\n",
       "      <th>2022-05-11 21:01:40</th>\n",
       "      <td>11833270</td>\n",
       "      <td>2049.315134</td>\n",
       "      <td>-4.998842</td>\n",
       "      <td>10252.182600</td>\n",
       "      <td>1.015734e+17</td>\n",
       "      <td>2</td>\n",
       "    </tr>\n",
       "    <tr>\n",
       "      <th>2022-05-11 21:02:00</th>\n",
       "      <td>11833377</td>\n",
       "      <td>2058.478516</td>\n",
       "      <td>-5.000128</td>\n",
       "      <td>10300.624400</td>\n",
       "      <td>1.015991e+17</td>\n",
       "      <td>1</td>\n",
       "    </tr>\n",
       "    <tr>\n",
       "      <th>...</th>\n",
       "      <td>...</td>\n",
       "      <td>...</td>\n",
       "      <td>...</td>\n",
       "      <td>...</td>\n",
       "      <td>...</td>\n",
       "      <td>...</td>\n",
       "    </tr>\n",
       "    <tr>\n",
       "      <th>2022-05-11 21:54:57</th>\n",
       "      <td>11837881</td>\n",
       "      <td>2086.519245</td>\n",
       "      <td>4.447345</td>\n",
       "      <td>-9268.148421</td>\n",
       "      <td>1.136526e+17</td>\n",
       "      <td>1</td>\n",
       "    </tr>\n",
       "    <tr>\n",
       "      <th>2022-05-11 21:55:38</th>\n",
       "      <td>11837967</td>\n",
       "      <td>2088.685092</td>\n",
       "      <td>-1.290344</td>\n",
       "      <td>2701.829950</td>\n",
       "      <td>1.136526e+17</td>\n",
       "      <td>1</td>\n",
       "    </tr>\n",
       "    <tr>\n",
       "      <th>2022-05-11 21:56:49</th>\n",
       "      <td>11838036</td>\n",
       "      <td>2086.342385</td>\n",
       "      <td>1.400000</td>\n",
       "      <td>-2913.751217</td>\n",
       "      <td>1.136526e+17</td>\n",
       "      <td>1</td>\n",
       "    </tr>\n",
       "    <tr>\n",
       "      <th>2022-05-11 21:57:44</th>\n",
       "      <td>11838080</td>\n",
       "      <td>2082.676808</td>\n",
       "      <td>2.195285</td>\n",
       "      <td>-4562.361622</td>\n",
       "      <td>1.136526e+17</td>\n",
       "      <td>1</td>\n",
       "    </tr>\n",
       "    <tr>\n",
       "      <th>2022-05-11 21:59:12</th>\n",
       "      <td>11838259</td>\n",
       "      <td>2088.285311</td>\n",
       "      <td>-3.346473</td>\n",
       "      <td>7000.000000</td>\n",
       "      <td>1.136526e+17</td>\n",
       "      <td>1</td>\n",
       "    </tr>\n",
       "  </tbody>\n",
       "</table>\n",
       "<p>63 rows × 6 columns</p>\n",
       "</div>"
      ],
      "text/plain": [
       "                     blockNumber        price      WETH          USDC  \\\n",
       "datetime                                                                \n",
       "2022-05-11 20:59:09     11833029  2035.969446 -5.003671  10195.251000   \n",
       "2022-05-11 21:00:31     11833114  2034.753942  0.672442  -1364.556285   \n",
       "2022-05-11 21:01:40     11833244  2040.207459 -3.003257   6137.485634   \n",
       "2022-05-11 21:01:40     11833270  2049.315134 -4.998842  10252.182600   \n",
       "2022-05-11 21:02:00     11833377  2058.478516 -5.000128  10300.624400   \n",
       "...                          ...          ...       ...           ...   \n",
       "2022-05-11 21:54:57     11837881  2086.519245  4.447345  -9268.148421   \n",
       "2022-05-11 21:55:38     11837967  2088.685092 -1.290344   2701.829950   \n",
       "2022-05-11 21:56:49     11838036  2086.342385  1.400000  -2913.751217   \n",
       "2022-05-11 21:57:44     11838080  2082.676808  2.195285  -4562.361622   \n",
       "2022-05-11 21:59:12     11838259  2088.285311 -3.346473   7000.000000   \n",
       "\n",
       "                        liquidity  No.  \n",
       "datetime                                \n",
       "2022-05-11 20:59:09  1.012944e+17    1  \n",
       "2022-05-11 21:00:31  1.012944e+17    1  \n",
       "2022-05-11 21:01:40  1.012944e+17    1  \n",
       "2022-05-11 21:01:40  1.015734e+17    2  \n",
       "2022-05-11 21:02:00  1.015991e+17    1  \n",
       "...                           ...  ...  \n",
       "2022-05-11 21:54:57  1.136526e+17    1  \n",
       "2022-05-11 21:55:38  1.136526e+17    1  \n",
       "2022-05-11 21:56:49  1.136526e+17    1  \n",
       "2022-05-11 21:57:44  1.136526e+17    1  \n",
       "2022-05-11 21:59:12  1.136526e+17    1  \n",
       "\n",
       "[63 rows x 6 columns]"
      ]
     },
     "execution_count": 24,
     "metadata": {},
     "output_type": "execute_result"
    }
   ],
   "source": [
    "df_arb_3000[ (df_arb_3000.index>='2022-05-11 20:59') & (df_arb_3000.index <= '2022-05-11 22:00:00')]"
   ]
  },
  {
   "cell_type": "code",
   "execution_count": 25,
   "id": "558eafe7-7c7e-4428-bebf-a1a293cbee9a",
   "metadata": {
    "tags": []
   },
   "outputs": [
    {
     "data": {
      "text/plain": [
       "WETH      -27.828200\n",
       "USDC    58483.684541\n",
       "dtype: float64"
      ]
     },
     "execution_count": 25,
     "metadata": {},
     "output_type": "execute_result"
    }
   ],
   "source": [
    "# trading volumes in the range '2022-05-11 21:00:00' ~ '2022-05-11 21:59:59'\n",
    "test =df_arb_3000[(df_arb_3000.index>='2022-05-11 21:00') & (df_arb_3000.index < '2022-05-11 22:00:00')]\n",
    "test[ [token_0 , token_1] ].sum()"
   ]
  },
  {
   "cell_type": "code",
   "execution_count": 26,
   "id": "9d6cc9df-b199-4e60-a71f-d1b7c73381cf",
   "metadata": {
    "tags": []
   },
   "outputs": [
    {
     "data": {
      "text/plain": [
       "62"
      ]
     },
     "execution_count": 26,
     "metadata": {},
     "output_type": "execute_result"
    }
   ],
   "source": [
    "# number of trades in the range '2022-05-11 21:00:00' ~ '2022-05-11 21:59:59'\n",
    "test= df_arb_3000[~df_arb_3000.index.duplicated(keep='last')]\n",
    "test[(test.index>='2022-05-11 21:00') & (test.index < '2022-05-11 22:00:00')]['No.'].sum()"
   ]
  },
  {
   "cell_type": "code",
   "execution_count": 27,
   "id": "d256445a-ee93-4e4f-a6a4-d1a404f93f7f",
   "metadata": {
    "tags": []
   },
   "outputs": [
    {
     "data": {
      "text/html": [
       "<div>\n",
       "<style scoped>\n",
       "    .dataframe tbody tr th:only-of-type {\n",
       "        vertical-align: middle;\n",
       "    }\n",
       "\n",
       "    .dataframe tbody tr th {\n",
       "        vertical-align: top;\n",
       "    }\n",
       "\n",
       "    .dataframe thead th {\n",
       "        text-align: right;\n",
       "    }\n",
       "</style>\n",
       "<table border=\"1\" class=\"dataframe\">\n",
       "  <thead>\n",
       "    <tr style=\"text-align: right;\">\n",
       "      <th></th>\n",
       "      <th>open</th>\n",
       "      <th>close</th>\n",
       "      <th>WETH</th>\n",
       "      <th>USDC</th>\n",
       "      <th>No.</th>\n",
       "    </tr>\n",
       "    <tr>\n",
       "      <th>datetime</th>\n",
       "      <th></th>\n",
       "      <th></th>\n",
       "      <th></th>\n",
       "      <th></th>\n",
       "      <th></th>\n",
       "    </tr>\n",
       "  </thead>\n",
       "  <tbody>\n",
       "    <tr>\n",
       "      <th>2022-05-11 21:00:00</th>\n",
       "      <td>2035.969446</td>\n",
       "      <td>2088.285311</td>\n",
       "      <td>-27.8282</td>\n",
       "      <td>58483.684541</td>\n",
       "      <td>62</td>\n",
       "    </tr>\n",
       "  </tbody>\n",
       "</table>\n",
       "</div>"
      ],
      "text/plain": [
       "                            open        close     WETH          USDC  No.\n",
       "datetime                                                                 \n",
       "2022-05-11 21:00:00  2035.969446  2088.285311 -27.8282  58483.684541   62"
      ]
     },
     "execution_count": 27,
     "metadata": {},
     "output_type": "execute_result"
    }
   ],
   "source": [
    "# match!\n",
    "res_arb_3000_1hr[ res_arb_3000_1hr.index== '2022-05-11 21:00:00' ]"
   ]
  },
  {
   "cell_type": "markdown",
   "id": "471f7440-2da9-40e3-aceb-f193f52af670",
   "metadata": {},
   "source": [
    "#### Output to csv"
   ]
  },
  {
   "cell_type": "code",
   "execution_count": 16,
   "id": "0fcdb3e4-6ce7-4db6-ad22-e60dcfe01463",
   "metadata": {},
   "outputs": [],
   "source": [
    "time_list = ['1min', '5min','10min','30min','1H','6H','12H','1D','1W']\n",
    "order(df_arb_3000)\n",
    "for T in time_list:\n",
    "    df_res=  resample(df_arb_3000,T)\n",
    "    df_res.to_csv(f'Data/organized data/{token_0}_{token_1}_arb_3000/{token_0}_{token_1}_arb_3000_{T}.csv') "
   ]
  },
  {
   "cell_type": "markdown",
   "id": "d0ef0a41-0216-4acf-9bc2-00c7d7305306",
   "metadata": {
    "jp-MarkdownHeadingCollapsed": true,
    "tags": []
   },
   "source": [
    "### Arrival"
   ]
  },
  {
   "cell_type": "code",
   "execution_count": 36,
   "id": "cd756c66-1058-4920-b7c3-a536fe0e18bb",
   "metadata": {
    "tags": []
   },
   "outputs": [],
   "source": [
    "def arrival(df):\n",
    "    order(df)\n",
    "    arrival_df = df[[\"No.\"]]\n",
    "    arrival_df = arrival_df[~arrival_df.index.duplicated(keep='last')] \n",
    "    arrival_df = arrival_df.reset_index()\n",
    "    #record the time intervals between orders\n",
    "    datetime_ini = df.index.values[0]\n",
    "    arrival_df['interval']= (arrival_df['datetime'] - arrival_df['datetime'].shift(1)).dt.total_seconds()\n",
    "    return arrival_df"
   ]
  },
  {
   "cell_type": "code",
   "execution_count": 37,
   "id": "eff9cb2c-4fbc-4629-bf65-aae260d95256",
   "metadata": {},
   "outputs": [
    {
     "data": {
      "text/html": [
       "<div>\n",
       "<style scoped>\n",
       "    .dataframe tbody tr th:only-of-type {\n",
       "        vertical-align: middle;\n",
       "    }\n",
       "\n",
       "    .dataframe tbody tr th {\n",
       "        vertical-align: top;\n",
       "    }\n",
       "\n",
       "    .dataframe thead th {\n",
       "        text-align: right;\n",
       "    }\n",
       "</style>\n",
       "<table border=\"1\" class=\"dataframe\">\n",
       "  <thead>\n",
       "    <tr style=\"text-align: right;\">\n",
       "      <th></th>\n",
       "      <th>datetime</th>\n",
       "      <th>No.</th>\n",
       "      <th>interval</th>\n",
       "    </tr>\n",
       "  </thead>\n",
       "  <tbody>\n",
       "    <tr>\n",
       "      <th>0</th>\n",
       "      <td>2021-09-01 00:00:46</td>\n",
       "      <td>1</td>\n",
       "      <td>NaN</td>\n",
       "    </tr>\n",
       "    <tr>\n",
       "      <th>1</th>\n",
       "      <td>2021-09-01 00:12:50</td>\n",
       "      <td>1</td>\n",
       "      <td>724.0</td>\n",
       "    </tr>\n",
       "    <tr>\n",
       "      <th>2</th>\n",
       "      <td>2021-09-01 00:19:28</td>\n",
       "      <td>1</td>\n",
       "      <td>398.0</td>\n",
       "    </tr>\n",
       "    <tr>\n",
       "      <th>3</th>\n",
       "      <td>2021-09-01 01:09:55</td>\n",
       "      <td>1</td>\n",
       "      <td>3027.0</td>\n",
       "    </tr>\n",
       "    <tr>\n",
       "      <th>4</th>\n",
       "      <td>2021-09-01 02:12:08</td>\n",
       "      <td>1</td>\n",
       "      <td>3733.0</td>\n",
       "    </tr>\n",
       "    <tr>\n",
       "      <th>...</th>\n",
       "      <td>...</td>\n",
       "      <td>...</td>\n",
       "      <td>...</td>\n",
       "    </tr>\n",
       "    <tr>\n",
       "      <th>297256</th>\n",
       "      <td>2023-10-18 15:13:06</td>\n",
       "      <td>1</td>\n",
       "      <td>30.0</td>\n",
       "    </tr>\n",
       "    <tr>\n",
       "      <th>297257</th>\n",
       "      <td>2023-10-18 15:50:02</td>\n",
       "      <td>1</td>\n",
       "      <td>2216.0</td>\n",
       "    </tr>\n",
       "    <tr>\n",
       "      <th>297258</th>\n",
       "      <td>2023-10-18 15:56:34</td>\n",
       "      <td>2</td>\n",
       "      <td>392.0</td>\n",
       "    </tr>\n",
       "    <tr>\n",
       "      <th>297259</th>\n",
       "      <td>2023-10-18 16:20:24</td>\n",
       "      <td>1</td>\n",
       "      <td>1430.0</td>\n",
       "    </tr>\n",
       "    <tr>\n",
       "      <th>297260</th>\n",
       "      <td>2023-10-18 16:20:53</td>\n",
       "      <td>1</td>\n",
       "      <td>29.0</td>\n",
       "    </tr>\n",
       "  </tbody>\n",
       "</table>\n",
       "<p>297261 rows × 3 columns</p>\n",
       "</div>"
      ],
      "text/plain": [
       "                  datetime  No.  interval\n",
       "0      2021-09-01 00:00:46    1       NaN\n",
       "1      2021-09-01 00:12:50    1     724.0\n",
       "2      2021-09-01 00:19:28    1     398.0\n",
       "3      2021-09-01 01:09:55    1    3027.0\n",
       "4      2021-09-01 02:12:08    1    3733.0\n",
       "...                    ...  ...       ...\n",
       "297256 2023-10-18 15:13:06    1      30.0\n",
       "297257 2023-10-18 15:50:02    1    2216.0\n",
       "297258 2023-10-18 15:56:34    2     392.0\n",
       "297259 2023-10-18 16:20:24    1    1430.0\n",
       "297260 2023-10-18 16:20:53    1      29.0\n",
       "\n",
       "[297261 rows x 3 columns]"
      ]
     },
     "execution_count": 37,
     "metadata": {},
     "output_type": "execute_result"
    }
   ],
   "source": [
    "df_arb_3000 = pd.read_csv(f'Data/organized data/WETH_USDC_arb_3000/{token_0}_{token_1}_arb_3000_original.csv',index_col='datetime') \n",
    "df_arb_3000.index = pd.to_datetime(df_arb_3000.index)\n",
    "arrival_3000 =arrival(df_arb_3000)\n",
    "arrival_3000"
   ]
  },
  {
   "cell_type": "code",
   "execution_count": 109,
   "id": "7af3245c-6188-4823-90b1-8d78731ee5e4",
   "metadata": {
    "tags": []
   },
   "outputs": [],
   "source": [
    "arrival_df.to_csv('Data/WETH_USDC_arb_3000_arrival_1sec.csv') "
   ]
  },
  {
   "cell_type": "markdown",
   "id": "8578bf74-b665-41bc-ae25-3d3a8cefe5b5",
   "metadata": {
    "jp-MarkdownHeadingCollapsed": true,
    "tags": []
   },
   "source": [
    "#### Try to fit Poisson and exponential dist(log linear?)"
   ]
  },
  {
   "cell_type": "code",
   "execution_count": 110,
   "id": "115dd38f-0e73-439d-8506-ddb73239e5e3",
   "metadata": {
    "tags": []
   },
   "outputs": [
    {
     "data": {
      "image/png": "[encoded data removed]",
      "text/plain": [
       "<Figure size 640x480 with 1 Axes>"
      ]
     },
     "metadata": {},
     "output_type": "display_data"
    }
   ],
   "source": [
    "Total_sec = (arrival_df.iloc[-1,0] - arrival_df.iloc[0,0]).total_seconds()\n",
    "num_0 = Total_sec - len(arrival_df) +1 #number of one-sec interval that has no trade\n",
    "\n",
    "b =np.unique(arrival_df['No.'].values)\n",
    "hist = np.histogram(arrival_df['No.'].values , bins = b)[0]\n",
    "\n",
    "b = np.append(0 , b)\n",
    "hist = np.append(num_0 , hist)\n",
    "\n",
    "\n",
    "plt.hist(hist,bins =b , density = True); # empirical distribution of arrival in one sec"
   ]
  },
  {
   "cell_type": "code",
   "execution_count": 82,
   "id": "fbeed265-e3b3-4ce9-a06d-fe94b9e040a5",
   "metadata": {
    "tags": []
   },
   "outputs": [
    {
     "data": {
      "text/html": [
       "<div>\n",
       "<style scoped>\n",
       "    .dataframe tbody tr th:only-of-type {\n",
       "        vertical-align: middle;\n",
       "    }\n",
       "\n",
       "    .dataframe tbody tr th {\n",
       "        vertical-align: top;\n",
       "    }\n",
       "\n",
       "    .dataframe thead th {\n",
       "        text-align: right;\n",
       "    }\n",
       "</style>\n",
       "<table border=\"1\" class=\"dataframe\">\n",
       "  <thead>\n",
       "    <tr style=\"text-align: right;\">\n",
       "      <th></th>\n",
       "      <th>datetime</th>\n",
       "      <th>order</th>\n",
       "      <th>interval</th>\n",
       "    </tr>\n",
       "  </thead>\n",
       "  <tbody>\n",
       "    <tr>\n",
       "      <th>5399</th>\n",
       "      <td>2021-09-17 15:39:41</td>\n",
       "      <td>131</td>\n",
       "      <td>16.0</td>\n",
       "    </tr>\n",
       "    <tr>\n",
       "      <th>5411</th>\n",
       "      <td>2021-09-17 15:49:48</td>\n",
       "      <td>111</td>\n",
       "      <td>42.0</td>\n",
       "    </tr>\n",
       "    <tr>\n",
       "      <th>5415</th>\n",
       "      <td>2021-09-17 15:52:20</td>\n",
       "      <td>103</td>\n",
       "      <td>13.0</td>\n",
       "    </tr>\n",
       "    <tr>\n",
       "      <th>5421</th>\n",
       "      <td>2021-09-17 15:56:54</td>\n",
       "      <td>118</td>\n",
       "      <td>37.0</td>\n",
       "    </tr>\n",
       "    <tr>\n",
       "      <th>5431</th>\n",
       "      <td>2021-09-17 16:04:18</td>\n",
       "      <td>183</td>\n",
       "      <td>3.0</td>\n",
       "    </tr>\n",
       "    <tr>\n",
       "      <th>7982</th>\n",
       "      <td>2021-09-22 20:25:11</td>\n",
       "      <td>116</td>\n",
       "      <td>4.0</td>\n",
       "    </tr>\n",
       "  </tbody>\n",
       "</table>\n",
       "</div>"
      ],
      "text/plain": [
       "                datetime  order  interval\n",
       "5399 2021-09-17 15:39:41    131      16.0\n",
       "5411 2021-09-17 15:49:48    111      42.0\n",
       "5415 2021-09-17 15:52:20    103      13.0\n",
       "5421 2021-09-17 15:56:54    118      37.0\n",
       "5431 2021-09-17 16:04:18    183       3.0\n",
       "7982 2021-09-22 20:25:11    116       4.0"
      ]
     },
     "execution_count": 82,
     "metadata": {},
     "output_type": "execute_result"
    }
   ],
   "source": [
    "arrival_df[arrival_df['order']>100] #2021/9/17 numbers of trades is large! why?"
   ]
  },
  {
   "cell_type": "code",
   "execution_count": 43,
   "id": "9aebbd3f-72ea-4bea-884f-3ef4f82b0276",
   "metadata": {
    "collapsed": true,
    "jupyter": {
     "outputs_hidden": true
    },
    "tags": []
   },
   "outputs": [
    {
     "data": {
      "image/png": "[encoded data removed]",
      "text/plain": [
       "<Figure size 640x480 with 1 Axes>"
      ]
     },
     "metadata": {},
     "output_type": "display_data"
    }
   ],
   "source": [
    "plt.hist(arrival_df['interval'].values,bins=100);"
   ]
  },
  {
   "cell_type": "markdown",
   "id": "59aa02e3-19f1-4273-b153-3ff35de9cdcb",
   "metadata": {
    "jp-MarkdownHeadingCollapsed": true,
    "tags": [],
    "toc-hr-collapsed": true
   },
   "source": [
    "## WETH vs USDC Arbitrium 0.05%"
   ]
  },
  {
   "cell_type": "code",
   "execution_count": 8,
   "id": "5bff72cb-cd27-4aaf-8647-35d360f6d0d2",
   "metadata": {
    "tags": []
   },
   "outputs": [
    {
     "name": "stderr",
     "output_type": "stream",
     "text": [
      "C:\\Users\\std92\\OneDrive\\文件\\AMM\\other's notes and codes\\token_style\\TransformData.py:52: DtypeWarning: Columns (5) have mixed types. Specify dtype option on import or set low_memory=False.\n",
      "  df = pd.read_csv(path + \".csv\", index_col=0)\n"
     ]
    }
   ],
   "source": [
    "#using WETH vs USDC\n",
    "token_0 ='WETH'\n",
    "token_1 ='USDC'\n",
    "\n",
    "path =\"Data/Arbitrum/WETH_USDC_arbitrum_3000\"\n",
    "path2 = \"Data/Arbitrum/WETH_USDC_arbitrum_500\"\n",
    "with open(path + \"_config.json\", 'r') as f:\n",
    "    TransformData.config = json.load(f)\n",
    "df_arb_500 = TransformData.main(path2, token_0,token_1)"
   ]
  },
  {
   "cell_type": "markdown",
   "id": "638e0649-fded-4847-a210-f37c6d94ab9b",
   "metadata": {
    "tags": []
   },
   "source": [
    "### A first look at data\n",
    "Before processing the data, we need to check the data first and pick out those defected data ponits. Sometimes the\n",
    "values may be too big or too small and they lead to some unexpected problems."
   ]
  },
  {
   "cell_type": "code",
   "execution_count": 9,
   "id": "69841e03-2765-4de5-b9fe-9c52d99951fb",
   "metadata": {
    "tags": []
   },
   "outputs": [
    {
     "data": {
      "text/html": [
       "<div>\n",
       "<style scoped>\n",
       "    .dataframe tbody tr th:only-of-type {\n",
       "        vertical-align: middle;\n",
       "    }\n",
       "\n",
       "    .dataframe tbody tr th {\n",
       "        vertical-align: top;\n",
       "    }\n",
       "\n",
       "    .dataframe thead th {\n",
       "        text-align: right;\n",
       "    }\n",
       "</style>\n",
       "<table border=\"1\" class=\"dataframe\">\n",
       "  <thead>\n",
       "    <tr style=\"text-align: right;\">\n",
       "      <th></th>\n",
       "      <th>blockNumber</th>\n",
       "      <th>price</th>\n",
       "      <th>WETH</th>\n",
       "      <th>USDC</th>\n",
       "      <th>liquidity</th>\n",
       "    </tr>\n",
       "    <tr>\n",
       "      <th>datetime</th>\n",
       "      <th></th>\n",
       "      <th></th>\n",
       "      <th></th>\n",
       "      <th></th>\n",
       "      <th></th>\n",
       "    </tr>\n",
       "  </thead>\n",
       "  <tbody>\n",
       "    <tr>\n",
       "      <th>2021-08-31 14:15:16</th>\n",
       "      <td>227484</td>\n",
       "      <td>1602.691065</td>\n",
       "      <td>0.010000</td>\n",
       "      <td>-18.001595</td>\n",
       "      <td>3632971980651</td>\n",
       "    </tr>\n",
       "    <tr>\n",
       "      <th>2021-08-31 22:07:06</th>\n",
       "      <td>228417</td>\n",
       "      <td>2024.232403</td>\n",
       "      <td>-0.010000</td>\n",
       "      <td>18.020728</td>\n",
       "      <td>3632971980651</td>\n",
       "    </tr>\n",
       "    <tr>\n",
       "      <th>2021-08-31 23:39:43</th>\n",
       "      <td>228739</td>\n",
       "      <td>2024.419128</td>\n",
       "      <td>-0.004937</td>\n",
       "      <td>10.000000</td>\n",
       "      <td>4816711909698018</td>\n",
       "    </tr>\n",
       "    <tr>\n",
       "      <th>2021-08-31 23:41:48</th>\n",
       "      <td>228740</td>\n",
       "      <td>2025.352882</td>\n",
       "      <td>-0.024680</td>\n",
       "      <td>50.000000</td>\n",
       "      <td>4816711909698018</td>\n",
       "    </tr>\n",
       "    <tr>\n",
       "      <th>2021-08-31 23:44:32</th>\n",
       "      <td>228753</td>\n",
       "      <td>3526.784880</td>\n",
       "      <td>-0.036069</td>\n",
       "      <td>75.000000</td>\n",
       "      <td>919807797226</td>\n",
       "    </tr>\n",
       "  </tbody>\n",
       "</table>\n",
       "</div>"
      ],
      "text/plain": [
       "                     blockNumber        price      WETH       USDC  \\\n",
       "datetime                                                             \n",
       "2021-08-31 14:15:16       227484  1602.691065  0.010000 -18.001595   \n",
       "2021-08-31 22:07:06       228417  2024.232403 -0.010000  18.020728   \n",
       "2021-08-31 23:39:43       228739  2024.419128 -0.004937  10.000000   \n",
       "2021-08-31 23:41:48       228740  2025.352882 -0.024680  50.000000   \n",
       "2021-08-31 23:44:32       228753  3526.784880 -0.036069  75.000000   \n",
       "\n",
       "                            liquidity  \n",
       "datetime                               \n",
       "2021-08-31 14:15:16     3632971980651  \n",
       "2021-08-31 22:07:06     3632971980651  \n",
       "2021-08-31 23:39:43  4816711909698018  \n",
       "2021-08-31 23:41:48  4816711909698018  \n",
       "2021-08-31 23:44:32      919807797226  "
      ]
     },
     "execution_count": 9,
     "metadata": {},
     "output_type": "execute_result"
    }
   ],
   "source": [
    "df_arb_500.head()"
   ]
  },
  {
   "cell_type": "code",
   "execution_count": 10,
   "id": "ecb779be-097c-4382-9ce6-70acaff39e10",
   "metadata": {
    "tags": []
   },
   "outputs": [
    {
     "data": {
      "image/png": "[encoded data removed]",
      "text/plain": [
       "<Figure size 640x480 with 1 Axes>"
      ]
     },
     "metadata": {},
     "output_type": "display_data"
    }
   ],
   "source": [
    "plt.plot(df_arb_500.index.values,df_arb_500['price'].values)\n",
    "plt.xlabel(\"date\")\n",
    "plt.ylabel(\"price\")\n",
    "plt.xticks(rotation=45);"
   ]
  },
  {
   "cell_type": "markdown",
   "id": "dccb4575-89a5-4961-8461-5f0471d1dc3c",
   "metadata": {
    "tags": []
   },
   "source": [
    "#### Liquidity dtype"
   ]
  },
  {
   "cell_type": "code",
   "execution_count": 43,
   "id": "59f967b7-8d9e-4a21-8e9f-4ded0414380d",
   "metadata": {
    "tags": []
   },
   "outputs": [],
   "source": [
    "df_arb_500['liquidity']=df_arb_500['liquidity'].astype(float)"
   ]
  },
  {
   "cell_type": "markdown",
   "id": "f17ca1ba-af28-43d2-9e76-71f402ec7b0c",
   "metadata": {
    "tags": []
   },
   "source": [
    "#### Early data points"
   ]
  },
  {
   "cell_type": "code",
   "execution_count": 11,
   "id": "45050388-73a8-4a9e-98cb-0115d0f49caa",
   "metadata": {},
   "outputs": [],
   "source": [
    "df_arb_500 = df_arb_500[df_arb_500.index> '2021-09-01']"
   ]
  },
  {
   "cell_type": "markdown",
   "id": "c0ed4ae7-0c8e-4446-b916-d284c960f77f",
   "metadata": {
    "tags": []
   },
   "source": [
    "#### Trades with no price impact/reserves change "
   ]
  },
  {
   "cell_type": "code",
   "execution_count": 13,
   "id": "710d05a8-d8ee-4f60-bf16-d7a447ace5e2",
   "metadata": {
    "tags": []
   },
   "outputs": [
    {
     "data": {
      "text/html": [
       "<div>\n",
       "<style scoped>\n",
       "    .dataframe tbody tr th:only-of-type {\n",
       "        vertical-align: middle;\n",
       "    }\n",
       "\n",
       "    .dataframe tbody tr th {\n",
       "        vertical-align: top;\n",
       "    }\n",
       "\n",
       "    .dataframe thead th {\n",
       "        text-align: right;\n",
       "    }\n",
       "</style>\n",
       "<table border=\"1\" class=\"dataframe\">\n",
       "  <thead>\n",
       "    <tr style=\"text-align: right;\">\n",
       "      <th></th>\n",
       "      <th>price</th>\n",
       "    </tr>\n",
       "    <tr>\n",
       "      <th>datetime</th>\n",
       "      <th></th>\n",
       "    </tr>\n",
       "  </thead>\n",
       "  <tbody>\n",
       "    <tr>\n",
       "      <th>2021-11-11 09:22:51</th>\n",
       "      <td>0.0</td>\n",
       "    </tr>\n",
       "    <tr>\n",
       "      <th>2021-11-16 16:04:07</th>\n",
       "      <td>0.0</td>\n",
       "    </tr>\n",
       "    <tr>\n",
       "      <th>2021-11-16 16:05:01</th>\n",
       "      <td>0.0</td>\n",
       "    </tr>\n",
       "    <tr>\n",
       "      <th>2021-11-16 16:58:34</th>\n",
       "      <td>0.0</td>\n",
       "    </tr>\n",
       "    <tr>\n",
       "      <th>2021-11-17 12:34:54</th>\n",
       "      <td>0.0</td>\n",
       "    </tr>\n",
       "    <tr>\n",
       "      <th>...</th>\n",
       "      <td>...</td>\n",
       "    </tr>\n",
       "    <tr>\n",
       "      <th>2023-09-25 14:00:38</th>\n",
       "      <td>0.0</td>\n",
       "    </tr>\n",
       "    <tr>\n",
       "      <th>2023-10-03 15:48:29</th>\n",
       "      <td>0.0</td>\n",
       "    </tr>\n",
       "    <tr>\n",
       "      <th>2023-10-04 14:36:34</th>\n",
       "      <td>0.0</td>\n",
       "    </tr>\n",
       "    <tr>\n",
       "      <th>2023-10-15 22:05:23</th>\n",
       "      <td>0.0</td>\n",
       "    </tr>\n",
       "    <tr>\n",
       "      <th>2023-10-16 13:51:45</th>\n",
       "      <td>0.0</td>\n",
       "    </tr>\n",
       "  </tbody>\n",
       "</table>\n",
       "<p>317 rows × 1 columns</p>\n",
       "</div>"
      ],
      "text/plain": [
       "                     price\n",
       "datetime                  \n",
       "2021-11-11 09:22:51    0.0\n",
       "2021-11-16 16:04:07    0.0\n",
       "2021-11-16 16:05:01    0.0\n",
       "2021-11-16 16:58:34    0.0\n",
       "2021-11-17 12:34:54    0.0\n",
       "...                    ...\n",
       "2023-09-25 14:00:38    0.0\n",
       "2023-10-03 15:48:29    0.0\n",
       "2023-10-04 14:36:34    0.0\n",
       "2023-10-15 22:05:23    0.0\n",
       "2023-10-16 13:51:45    0.0\n",
       "\n",
       "[317 rows x 1 columns]"
      ]
     },
     "execution_count": 13,
     "metadata": {},
     "output_type": "execute_result"
    }
   ],
   "source": [
    "# data points where trades have no price impact.\n",
    "test =df_arb_500[['price']]-df_arb_500[['price']].shift(1)\n",
    "bad_price_diff = test[test['price']==0]\n",
    "bad_price_diff"
   ]
  },
  {
   "cell_type": "code",
   "execution_count": 15,
   "id": "bbebc900-94d7-4c5c-9c86-59a216c66bcf",
   "metadata": {
    "tags": []
   },
   "outputs": [],
   "source": [
    "#data points where the aamounts of one of token in trades are zero \n",
    "bad_volume = df_arb_500[  (df_arb_500['WETH']==0) | (df_arb_500['USDC']==0) ]"
   ]
  },
  {
   "cell_type": "code",
   "execution_count": 16,
   "id": "6511a387-da72-417c-b452-8be2f6fbd525",
   "metadata": {
    "tags": []
   },
   "outputs": [],
   "source": [
    "df_arb_500 = df_arb_500[ ~ ( (df_arb_500['WETH']==0) | (df_arb_500['USDC']==0) )]"
   ]
  },
  {
   "cell_type": "markdown",
   "id": "402a4ab8-2182-4806-8494-18f3f49ea7e3",
   "metadata": {},
   "source": [
    "#### Output to csv"
   ]
  },
  {
   "cell_type": "code",
   "execution_count": 18,
   "id": "68d3acd7-855c-4484-b17f-10846247033c",
   "metadata": {
    "tags": []
   },
   "outputs": [],
   "source": [
    "df_arb_500.to_csv(f'Data/organized data/WETH_USDC_arb_500/{token_0}_{token_1}_arb_500_original.csv') "
   ]
  },
  {
   "cell_type": "markdown",
   "id": "2d067b6b-2979-45f2-89d2-68144574f206",
   "metadata": {
    "jp-MarkdownHeadingCollapsed": true,
    "tags": []
   },
   "source": [
    "### Resampling"
   ]
  },
  {
   "cell_type": "markdown",
   "id": "a392b388-808b-4c94-b949-1305f9643a7e",
   "metadata": {
    "tags": []
   },
   "source": [
    "#### Check the correctness(can ignore this part)"
   ]
  },
  {
   "cell_type": "code",
   "execution_count": 18,
   "id": "934ec385-4b15-4845-ae44-e8c51a71b20f",
   "metadata": {
    "tags": []
   },
   "outputs": [],
   "source": [
    "# df_arb_500 = pd.read_csv(f'Data/organized data/WETH_USDC_arb_500/{token_0}_{token_1}_arb_500_original.csv',index_col='datetime')\n",
    "# df_arb_500.index=pd.to_datetime(df_arb_500.index)\n",
    "# order(df_arb_500)"
   ]
  },
  {
   "cell_type": "code",
   "execution_count": 15,
   "id": "c8c9bd31-09fa-40fd-8790-e4a0cbe5cf7e",
   "metadata": {
    "tags": []
   },
   "outputs": [],
   "source": [
    "res_arb_500_30min  =resample(df_arb_500,'30min')"
   ]
  },
  {
   "cell_type": "code",
   "execution_count": 317,
   "id": "e1bf709c-758b-4c71-895a-ed37eb785df0",
   "metadata": {
    "tags": []
   },
   "outputs": [
    {
     "data": {
      "text/html": [
       "<div>\n",
       "<style scoped>\n",
       "    .dataframe tbody tr th:only-of-type {\n",
       "        vertical-align: middle;\n",
       "    }\n",
       "\n",
       "    .dataframe tbody tr th {\n",
       "        vertical-align: top;\n",
       "    }\n",
       "\n",
       "    .dataframe thead th {\n",
       "        text-align: right;\n",
       "    }\n",
       "</style>\n",
       "<table border=\"1\" class=\"dataframe\">\n",
       "  <thead>\n",
       "    <tr style=\"text-align: right;\">\n",
       "      <th></th>\n",
       "      <th>blockNumber</th>\n",
       "      <th>price</th>\n",
       "      <th>WETH</th>\n",
       "      <th>USDC</th>\n",
       "      <th>liquidity</th>\n",
       "      <th>No.</th>\n",
       "    </tr>\n",
       "    <tr>\n",
       "      <th>datetime</th>\n",
       "      <th></th>\n",
       "      <th></th>\n",
       "      <th></th>\n",
       "      <th></th>\n",
       "      <th></th>\n",
       "      <th></th>\n",
       "    </tr>\n",
       "  </thead>\n",
       "  <tbody>\n",
       "    <tr>\n",
       "      <th>2021-09-01 14:30:00</th>\n",
       "      <td>234180</td>\n",
       "      <td>3449.141636</td>\n",
       "      <td>0.001450</td>\n",
       "      <td>-5.000000</td>\n",
       "      <td>9.523267e+14</td>\n",
       "      <td>1</td>\n",
       "    </tr>\n",
       "    <tr>\n",
       "      <th>2021-09-18 11:30:00</th>\n",
       "      <td>1180220</td>\n",
       "      <td>3392.849566</td>\n",
       "      <td>-3.281449</td>\n",
       "      <td>11108.225386</td>\n",
       "      <td>8.466080e+16</td>\n",
       "      <td>1</td>\n",
       "    </tr>\n",
       "    <tr>\n",
       "      <th>2021-09-18 14:30:00</th>\n",
       "      <td>1187868</td>\n",
       "      <td>3443.618831</td>\n",
       "      <td>0.031000</td>\n",
       "      <td>-106.701649</td>\n",
       "      <td>6.826676e+16</td>\n",
       "      <td>1</td>\n",
       "    </tr>\n",
       "    <tr>\n",
       "      <th>2021-09-19 20:30:00</th>\n",
       "      <td>1281293</td>\n",
       "      <td>3298.927598</td>\n",
       "      <td>-0.002121</td>\n",
       "      <td>7.000000</td>\n",
       "      <td>6.181990e+16</td>\n",
       "      <td>1</td>\n",
       "    </tr>\n",
       "    <tr>\n",
       "      <th>2021-09-19 20:30:00</th>\n",
       "      <td>1281316</td>\n",
       "      <td>3299.116457</td>\n",
       "      <td>-0.030022</td>\n",
       "      <td>99.092539</td>\n",
       "      <td>6.024311e+16</td>\n",
       "      <td>2</td>\n",
       "    </tr>\n",
       "    <tr>\n",
       "      <th>...</th>\n",
       "      <td>...</td>\n",
       "      <td>...</td>\n",
       "      <td>...</td>\n",
       "      <td>...</td>\n",
       "      <td>...</td>\n",
       "      <td>...</td>\n",
       "    </tr>\n",
       "    <tr>\n",
       "      <th>2023-10-13 08:30:00</th>\n",
       "      <td>140114690</td>\n",
       "      <td>1543.133463</td>\n",
       "      <td>-1.905816</td>\n",
       "      <td>2942.360000</td>\n",
       "      <td>5.604045e+18</td>\n",
       "      <td>2</td>\n",
       "    </tr>\n",
       "    <tr>\n",
       "      <th>2023-10-13 08:30:00</th>\n",
       "      <td>140114692</td>\n",
       "      <td>1543.176732</td>\n",
       "      <td>-2.000000</td>\n",
       "      <td>3087.854123</td>\n",
       "      <td>5.604045e+18</td>\n",
       "      <td>3</td>\n",
       "    </tr>\n",
       "    <tr>\n",
       "      <th>2023-10-13 21:30:00</th>\n",
       "      <td>140276647</td>\n",
       "      <td>1551.129110</td>\n",
       "      <td>0.126661</td>\n",
       "      <td>-196.368782</td>\n",
       "      <td>1.204607e+19</td>\n",
       "      <td>1</td>\n",
       "    </tr>\n",
       "    <tr>\n",
       "      <th>2023-10-16 15:30:00</th>\n",
       "      <td>141025917</td>\n",
       "      <td>1579.696638</td>\n",
       "      <td>-1.000000</td>\n",
       "      <td>1580.477784</td>\n",
       "      <td>6.905050e+18</td>\n",
       "      <td>1</td>\n",
       "    </tr>\n",
       "    <tr>\n",
       "      <th>2023-10-17 05:30:00</th>\n",
       "      <td>141210808</td>\n",
       "      <td>1585.710393</td>\n",
       "      <td>-0.504255</td>\n",
       "      <td>800.000000</td>\n",
       "      <td>5.719785e+18</td>\n",
       "      <td>1</td>\n",
       "    </tr>\n",
       "  </tbody>\n",
       "</table>\n",
       "<p>2043 rows × 6 columns</p>\n",
       "</div>"
      ],
      "text/plain": [
       "                     blockNumber        price      WETH          USDC  \\\n",
       "datetime                                                                \n",
       "2021-09-01 14:30:00       234180  3449.141636  0.001450     -5.000000   \n",
       "2021-09-18 11:30:00      1180220  3392.849566 -3.281449  11108.225386   \n",
       "2021-09-18 14:30:00      1187868  3443.618831  0.031000   -106.701649   \n",
       "2021-09-19 20:30:00      1281293  3298.927598 -0.002121      7.000000   \n",
       "2021-09-19 20:30:00      1281316  3299.116457 -0.030022     99.092539   \n",
       "...                          ...          ...       ...           ...   \n",
       "2023-10-13 08:30:00    140114690  1543.133463 -1.905816   2942.360000   \n",
       "2023-10-13 08:30:00    140114692  1543.176732 -2.000000   3087.854123   \n",
       "2023-10-13 21:30:00    140276647  1551.129110  0.126661   -196.368782   \n",
       "2023-10-16 15:30:00    141025917  1579.696638 -1.000000   1580.477784   \n",
       "2023-10-17 05:30:00    141210808  1585.710393 -0.504255    800.000000   \n",
       "\n",
       "                        liquidity  No.  \n",
       "datetime                                \n",
       "2021-09-01 14:30:00  9.523267e+14    1  \n",
       "2021-09-18 11:30:00  8.466080e+16    1  \n",
       "2021-09-18 14:30:00  6.826676e+16    1  \n",
       "2021-09-19 20:30:00  6.181990e+16    1  \n",
       "2021-09-19 20:30:00  6.024311e+16    2  \n",
       "...                           ...  ...  \n",
       "2023-10-13 08:30:00  5.604045e+18    2  \n",
       "2023-10-13 08:30:00  5.604045e+18    3  \n",
       "2023-10-13 21:30:00  1.204607e+19    1  \n",
       "2023-10-16 15:30:00  6.905050e+18    1  \n",
       "2023-10-17 05:30:00  5.719785e+18    1  \n",
       "\n",
       "[2043 rows x 6 columns]"
      ]
     },
     "execution_count": 317,
     "metadata": {},
     "output_type": "execute_result"
    }
   ],
   "source": [
    "df_arb_500[ (df_arb_500.index.minute ==30) & (df_arb_500.index.second ==0 ) ]"
   ]
  },
  {
   "cell_type": "code",
   "execution_count": 326,
   "id": "8761c435-999e-467a-8973-cc64f643f884",
   "metadata": {
    "tags": []
   },
   "outputs": [
    {
     "data": {
      "text/html": [
       "<div>\n",
       "<style scoped>\n",
       "    .dataframe tbody tr th:only-of-type {\n",
       "        vertical-align: middle;\n",
       "    }\n",
       "\n",
       "    .dataframe tbody tr th {\n",
       "        vertical-align: top;\n",
       "    }\n",
       "\n",
       "    .dataframe thead th {\n",
       "        text-align: right;\n",
       "    }\n",
       "</style>\n",
       "<table border=\"1\" class=\"dataframe\">\n",
       "  <thead>\n",
       "    <tr style=\"text-align: right;\">\n",
       "      <th></th>\n",
       "      <th>blockNumber</th>\n",
       "      <th>price</th>\n",
       "      <th>WETH</th>\n",
       "      <th>USDC</th>\n",
       "      <th>liquidity</th>\n",
       "      <th>No.</th>\n",
       "    </tr>\n",
       "    <tr>\n",
       "      <th>datetime</th>\n",
       "      <th></th>\n",
       "      <th></th>\n",
       "      <th></th>\n",
       "      <th></th>\n",
       "      <th></th>\n",
       "      <th></th>\n",
       "    </tr>\n",
       "  </thead>\n",
       "  <tbody>\n",
       "    <tr>\n",
       "      <th>2023-06-13 19:59:18</th>\n",
       "      <td>100731182</td>\n",
       "      <td>1753.501671</td>\n",
       "      <td>-0.011577</td>\n",
       "      <td>20.311280</td>\n",
       "      <td>7.358753e+18</td>\n",
       "      <td>1</td>\n",
       "    </tr>\n",
       "    <tr>\n",
       "      <th>2023-06-13 20:00:08</th>\n",
       "      <td>100731380</td>\n",
       "      <td>1753.504089</td>\n",
       "      <td>-0.121191</td>\n",
       "      <td>212.614207</td>\n",
       "      <td>7.358753e+18</td>\n",
       "      <td>1</td>\n",
       "    </tr>\n",
       "    <tr>\n",
       "      <th>2023-06-13 20:00:12</th>\n",
       "      <td>100731394</td>\n",
       "      <td>1753.504031</td>\n",
       "      <td>0.002921</td>\n",
       "      <td>-5.120000</td>\n",
       "      <td>7.358753e+18</td>\n",
       "      <td>1</td>\n",
       "    </tr>\n",
       "    <tr>\n",
       "      <th>2023-06-13 20:00:14</th>\n",
       "      <td>100731402</td>\n",
       "      <td>1753.507444</td>\n",
       "      <td>-0.171000</td>\n",
       "      <td>300.000000</td>\n",
       "      <td>7.358753e+18</td>\n",
       "      <td>1</td>\n",
       "    </tr>\n",
       "    <tr>\n",
       "      <th>2023-06-13 20:00:18</th>\n",
       "      <td>100731419</td>\n",
       "      <td>1753.507716</td>\n",
       "      <td>-0.013640</td>\n",
       "      <td>23.929216</td>\n",
       "      <td>7.358753e+18</td>\n",
       "      <td>1</td>\n",
       "    </tr>\n",
       "    <tr>\n",
       "      <th>...</th>\n",
       "      <td>...</td>\n",
       "      <td>...</td>\n",
       "      <td>...</td>\n",
       "      <td>...</td>\n",
       "      <td>...</td>\n",
       "      <td>...</td>\n",
       "    </tr>\n",
       "    <tr>\n",
       "      <th>2023-06-13 20:29:57</th>\n",
       "      <td>100738562</td>\n",
       "      <td>1753.266323</td>\n",
       "      <td>0.879465</td>\n",
       "      <td>-1541.173047</td>\n",
       "      <td>7.258465e+18</td>\n",
       "      <td>2</td>\n",
       "    </tr>\n",
       "    <tr>\n",
       "      <th>2023-06-13 20:29:57</th>\n",
       "      <td>100738562</td>\n",
       "      <td>1753.284105</td>\n",
       "      <td>-2.399585</td>\n",
       "      <td>4209.200000</td>\n",
       "      <td>7.258465e+18</td>\n",
       "      <td>3</td>\n",
       "    </tr>\n",
       "    <tr>\n",
       "      <th>2023-06-13 20:29:57</th>\n",
       "      <td>100738561</td>\n",
       "      <td>1753.367569</td>\n",
       "      <td>-18.000000</td>\n",
       "      <td>31573.125900</td>\n",
       "      <td>7.258465e+18</td>\n",
       "      <td>4</td>\n",
       "    </tr>\n",
       "    <tr>\n",
       "      <th>2023-06-13 20:29:57</th>\n",
       "      <td>100738561</td>\n",
       "      <td>1753.003487</td>\n",
       "      <td>-3.596298</td>\n",
       "      <td>6307.346000</td>\n",
       "      <td>7.258465e+18</td>\n",
       "      <td>5</td>\n",
       "    </tr>\n",
       "    <tr>\n",
       "      <th>2023-06-13 20:29:57</th>\n",
       "      <td>100738562</td>\n",
       "      <td>1753.235566</td>\n",
       "      <td>6.528797</td>\n",
       "      <td>-11441.226354</td>\n",
       "      <td>7.258465e+18</td>\n",
       "      <td>6</td>\n",
       "    </tr>\n",
       "  </tbody>\n",
       "</table>\n",
       "<p>417 rows × 6 columns</p>\n",
       "</div>"
      ],
      "text/plain": [
       "                     blockNumber        price       WETH          USDC  \\\n",
       "datetime                                                                 \n",
       "2023-06-13 19:59:18    100731182  1753.501671  -0.011577     20.311280   \n",
       "2023-06-13 20:00:08    100731380  1753.504089  -0.121191    212.614207   \n",
       "2023-06-13 20:00:12    100731394  1753.504031   0.002921     -5.120000   \n",
       "2023-06-13 20:00:14    100731402  1753.507444  -0.171000    300.000000   \n",
       "2023-06-13 20:00:18    100731419  1753.507716  -0.013640     23.929216   \n",
       "...                          ...          ...        ...           ...   \n",
       "2023-06-13 20:29:57    100738562  1753.266323   0.879465  -1541.173047   \n",
       "2023-06-13 20:29:57    100738562  1753.284105  -2.399585   4209.200000   \n",
       "2023-06-13 20:29:57    100738561  1753.367569 -18.000000  31573.125900   \n",
       "2023-06-13 20:29:57    100738561  1753.003487  -3.596298   6307.346000   \n",
       "2023-06-13 20:29:57    100738562  1753.235566   6.528797 -11441.226354   \n",
       "\n",
       "                        liquidity  No.  \n",
       "datetime                                \n",
       "2023-06-13 19:59:18  7.358753e+18    1  \n",
       "2023-06-13 20:00:08  7.358753e+18    1  \n",
       "2023-06-13 20:00:12  7.358753e+18    1  \n",
       "2023-06-13 20:00:14  7.358753e+18    1  \n",
       "2023-06-13 20:00:18  7.358753e+18    1  \n",
       "...                           ...  ...  \n",
       "2023-06-13 20:29:57  7.258465e+18    2  \n",
       "2023-06-13 20:29:57  7.258465e+18    3  \n",
       "2023-06-13 20:29:57  7.258465e+18    4  \n",
       "2023-06-13 20:29:57  7.258465e+18    5  \n",
       "2023-06-13 20:29:57  7.258465e+18    6  \n",
       "\n",
       "[417 rows x 6 columns]"
      ]
     },
     "execution_count": 326,
     "metadata": {},
     "output_type": "execute_result"
    }
   ],
   "source": [
    "df_arb_500[ (df_arb_500.index>='2023-06-13 19:59:18') & (df_arb_500.index < '2023-06-13 20:30:00')]"
   ]
  },
  {
   "cell_type": "code",
   "execution_count": 331,
   "id": "62d4c4aa-a571-4517-baf8-bca23aa2d7d7",
   "metadata": {
    "tags": []
   },
   "outputs": [
    {
     "data": {
      "text/plain": [
       "WETH      -51.033148\n",
       "USDC    90893.150215\n",
       "dtype: float64"
      ]
     },
     "execution_count": 331,
     "metadata": {},
     "output_type": "execute_result"
    }
   ],
   "source": [
    "# trading volumes in the range '2022-05-11 21:00:00' ~ '2022-05-11 21:59:59'\n",
    "test =df_arb_500[(df_arb_500.index>='2023-06-13 20:00:00') & (df_arb_500.index < '2023-06-13 20:30:00')]\n",
    "test[ [token_0 , token_1] ].sum()"
   ]
  },
  {
   "cell_type": "code",
   "execution_count": 332,
   "id": "b54d6fa0-faf8-4b5d-8049-57f43136f7e5",
   "metadata": {
    "tags": []
   },
   "outputs": [
    {
     "data": {
      "text/plain": [
       "416"
      ]
     },
     "execution_count": 332,
     "metadata": {},
     "output_type": "execute_result"
    }
   ],
   "source": [
    "# number of trades in the range '2022-05-11 21:00:00' ~ '2022-05-11 21:59:59'\n",
    "test= df_arb_500[~df_arb_500.index.duplicated(keep='last')]\n",
    "test[(test.index>='2023-06-13 20:00:00') & (test.index < '2023-06-13 20:30:00')]['No.'].sum()"
   ]
  },
  {
   "cell_type": "code",
   "execution_count": null,
   "id": "369eb299-132b-493a-b0f2-de667d093382",
   "metadata": {
    "tags": []
   },
   "outputs": [],
   "source": [
    "# match!\n",
    "res_arb_500_30min[ res_arb_500_30min.index== '2023-06-13 20:00:00']"
   ]
  },
  {
   "cell_type": "markdown",
   "id": "da554c11-c5a1-4d5f-b9e7-e34d958b7ecd",
   "metadata": {},
   "source": [
    "#### Output to csv"
   ]
  },
  {
   "cell_type": "code",
   "execution_count": 21,
   "id": "0274d949-7b8e-47e3-b579-090b5e02118b",
   "metadata": {},
   "outputs": [],
   "source": [
    "time_list = ['1min', '5min','10min','30min','1H','6H','12H','1D','1W']\n",
    "order(df_arb_500)\n",
    "for T in time_list:\n",
    "    df_res=  resample(df_arb_500,T)\n",
    "    df_res.to_csv(f'Data/organized data/WETH_USDC_arb_500/{token_0}_{token_1}_arb_500_{T}.csv') "
   ]
  },
  {
   "cell_type": "markdown",
   "id": "8faa912c-d7e1-4e0e-a14d-07fbd4295524",
   "metadata": {
    "tags": []
   },
   "source": [
    "### Arrival"
   ]
  },
  {
   "cell_type": "markdown",
   "id": "76abd70d-3c15-435a-8c18-746089d4b1f2",
   "metadata": {},
   "source": [
    "Number of trades"
   ]
  },
  {
   "cell_type": "code",
   "execution_count": 50,
   "id": "22ca0ea1-9275-4c47-a361-f7a84965a17a",
   "metadata": {
    "tags": []
   },
   "outputs": [
    {
     "name": "stderr",
     "output_type": "stream",
     "text": [
      "C:\\Users\\std92\\AppData\\Local\\Temp\\ipykernel_15568\\1882988677.py:3: DtypeWarning: Columns (5) have mixed types. Specify dtype option on import or set low_memory=False.\n",
      "  df_arb_500 = pd.read_csv(f'Data/organized data/WETH_USDC_arb_500/{token_0}_{token_1}_arb_500_original.csv',index_col='datetime')\n"
     ]
    }
   ],
   "source": [
    "token_0 ='WETH'\n",
    "token_1 ='USDC'\n",
    "df_arb_500 = pd.read_csv(f'Data/organized data/WETH_USDC_arb_500/{token_0}_{token_1}_arb_500_original.csv',index_col='datetime') \n",
    "df_arb_500.index = pd.to_datetime(df_arb_500.index)"
   ]
  },
  {
   "cell_type": "code",
   "execution_count": 51,
   "id": "712e8c38-2ff1-401d-be55-7402fa12d479",
   "metadata": {
    "tags": []
   },
   "outputs": [
    {
     "data": {
      "text/plain": [
       "(6711932, 398196, 226.0364899414654, 15.90259482663127)"
      ]
     },
     "execution_count": 51,
     "metadata": {},
     "output_type": "execute_result"
    }
   ],
   "source": [
    "arrival_500 = arrival(df_arb_500)\n",
    "#USDC\n",
    "arrival_500['No.'].sum(),arrival_3000['No.'].sum(), arrival_3000['interval'].mean(),arrival_500['interval'].mean()"
   ]
  },
  {
   "cell_type": "code",
   "execution_count": 49,
   "id": "0c8fc0b1-1d0b-4203-9e2b-4d9044bb0540",
   "metadata": {
    "tags": []
   },
   "outputs": [
    {
     "data": {
      "text/plain": [
       "[<matplotlib.lines.Line2D at 0x21fa7993640>]"
      ]
     },
     "execution_count": 49,
     "metadata": {},
     "output_type": "execute_result"
    },
    {
     "data": {
      "image/png": "[encoded data removed]",
      "text/plain": [
       "<Figure size 640x480 with 1 Axes>"
      ]
     },
     "metadata": {},
     "output_type": "display_data"
    }
   ],
   "source": [
    "Total_sec = (arrival_df_500.iloc[-1,0] - arrival_df_500.iloc[0,0]).total_seconds()\n",
    "num_0 = Total_sec - len(arrival_df_500) +1 #number of  intervals that have no trade\n",
    "\n",
    "b =np.unique(arrival_df_500['No.'].values)\n",
    "b = np.insert(b ,0, 0)\n",
    "b= np.insert(b , len(b) , max(b))\n",
    "hist = np.histogram(arrival_df_500['No.'].values , bins = b ,density = True)[0]\n",
    "\n",
    "plt.plot(b[:-1],hist)"
   ]
  },
  {
   "cell_type": "markdown",
   "id": "363452ab-bb92-4d0d-a60a-0aac46b8eeb6",
   "metadata": {},
   "source": [
    "The arrival time is shorter compared with 0.3% fee case"
   ]
  },
  {
   "cell_type": "code",
   "execution_count": 30,
   "id": "5bb620a2-8be5-4fe5-a821-b78d2c46b975",
   "metadata": {
    "tags": []
   },
   "outputs": [],
   "source": [
    "time_interval_500 = arrival_df_500['interval'].values[1:]"
   ]
  },
  {
   "cell_type": "code",
   "execution_count": 42,
   "id": "6aba5676-c950-4987-9da1-7efa1cab911d",
   "metadata": {
    "tags": []
   },
   "outputs": [
    {
     "data": {
      "text/plain": [
       "array([2.831e+04, 5.557e+03, 1.250e+02, ..., 1.300e+01, 5.400e+01,\n",
       "       3.200e+01])"
      ]
     },
     "execution_count": 42,
     "metadata": {},
     "output_type": "execute_result"
    }
   ],
   "source": [
    "time_interval_500"
   ]
  },
  {
   "cell_type": "code",
   "execution_count": 103,
   "id": "1836c2ae-cb0b-4bb4-b4c2-cd822ea63e72",
   "metadata": {
    "tags": []
   },
   "outputs": [
    {
     "data": {
      "text/plain": [
       "(0.0, 300.0)"
      ]
     },
     "execution_count": 103,
     "metadata": {},
     "output_type": "execute_result"
    },
    {
     "data": {
      "image/png": "[encoded data removed]",
      "text/plain": [
       "<Figure size 640x480 with 1 Axes>"
      ]
     },
     "metadata": {},
     "output_type": "display_data"
    }
   ],
   "source": [
    "prob,b =np.histogram(time_interval_500,density=True)\n",
    "plt.plot(b,bp.log(prob))"
   ]
  },
  {
   "cell_type": "code",
   "execution_count": 117,
   "id": "e4941025-3438-43dc-aea0-87e0064c3656",
   "metadata": {
    "tags": []
   },
   "outputs": [
    {
     "data": {
      "text/plain": [
       "(25.961, 53.729500339753315)"
      ]
     },
     "execution_count": 117,
     "metadata": {},
     "output_type": "execute_result"
    }
   ],
   "source": [
    "np.mean(arrival_df2['interval'][-5000:]) , np.std(arrival_df2['interval'])"
   ]
  },
  {
   "cell_type": "markdown",
   "id": "13ec6d04-20a6-41d0-bdca-f6764b5900fc",
   "metadata": {
    "jp-MarkdownHeadingCollapsed": true,
    "tags": [],
    "toc-hr-collapsed": true
   },
   "source": [
    "## WETH vs USDT 0.05% Arbitrium"
   ]
  },
  {
   "cell_type": "code",
   "execution_count": 56,
   "id": "9b54ce6b-09b1-4365-a48b-e633f3f5862a",
   "metadata": {
    "tags": []
   },
   "outputs": [
    {
     "name": "stderr",
     "output_type": "stream",
     "text": [
      "C:\\Users\\std92\\OneDrive\\文件\\AMM\\other's notes and codes\\token_style\\TransformData.py:52: DtypeWarning: Columns (5) have mixed types. Specify dtype option on import or set low_memory=False.\n",
      "  df = pd.read_csv(path + \".csv\", index_col=0)\n"
     ]
    }
   ],
   "source": [
    "#using WETH vs USDC\n",
    "token_0 ='WETH'\n",
    "token_1 ='USDT'\n",
    "path0 = \"Data/Arbitrum/WETH_USDC_arbitrum_3000\"\n",
    "\n",
    "path = \"Data/Arbitrum/WETH_USDT_arbitrum_500\"\n",
    "with open(path0 + \"_config.json\", 'r') as f:\n",
    "    TransformData.config = json.load(f)\n",
    "df_arb_500 = TransformData.main(path,token_0,token_1)"
   ]
  },
  {
   "cell_type": "markdown",
   "id": "5ed536b7-8503-444d-89d2-641080dfe766",
   "metadata": {
    "tags": []
   },
   "source": [
    "### A first look at data"
   ]
  },
  {
   "cell_type": "code",
   "execution_count": null,
   "id": "450eabe3-d4f9-4388-9ca4-ecd34ae363f6",
   "metadata": {},
   "outputs": [],
   "source": []
  },
  {
   "cell_type": "markdown",
   "id": "8373c824-a82e-483b-ac8e-0bed3a88aa9d",
   "metadata": {},
   "source": [
    "#### Anomalously high price"
   ]
  },
  {
   "cell_type": "code",
   "execution_count": 57,
   "id": "ad6fdfa7-9e95-4434-9f1f-0fb3380ec155",
   "metadata": {
    "tags": []
   },
   "outputs": [
    {
     "data": {
      "image/png": "[encoded data removed]",
      "text/plain": [
       "<Figure size 640x480 with 1 Axes>"
      ]
     },
     "metadata": {},
     "output_type": "display_data"
    }
   ],
   "source": [
    "plt.plot(df_arb_500.index.values,df_arb_500['price'].values)\n",
    "plt.xlabel(\"date\")\n",
    "plt.ylabel(\"price\")\n",
    "plt.xticks(rotation=45);"
   ]
  },
  {
   "cell_type": "markdown",
   "id": "fc9e5d7e-6f0f-487f-a14f-0c945be2d056",
   "metadata": {
    "tags": []
   },
   "source": [
    "Some price too high??"
   ]
  },
  {
   "cell_type": "code",
   "execution_count": 58,
   "id": "98a3450d-3838-4210-a4ea-8e60382f7165",
   "metadata": {
    "tags": []
   },
   "outputs": [
    {
     "data": {
      "text/html": [
       "<div>\n",
       "<style scoped>\n",
       "    .dataframe tbody tr th:only-of-type {\n",
       "        vertical-align: middle;\n",
       "    }\n",
       "\n",
       "    .dataframe tbody tr th {\n",
       "        vertical-align: top;\n",
       "    }\n",
       "\n",
       "    .dataframe thead th {\n",
       "        text-align: right;\n",
       "    }\n",
       "</style>\n",
       "<table border=\"1\" class=\"dataframe\">\n",
       "  <thead>\n",
       "    <tr style=\"text-align: right;\">\n",
       "      <th></th>\n",
       "      <th>blockNumber</th>\n",
       "      <th>price</th>\n",
       "      <th>WETH</th>\n",
       "      <th>USDT</th>\n",
       "      <th>liquidity</th>\n",
       "    </tr>\n",
       "    <tr>\n",
       "      <th>datetime</th>\n",
       "      <th></th>\n",
       "      <th></th>\n",
       "      <th></th>\n",
       "      <th></th>\n",
       "      <th></th>\n",
       "    </tr>\n",
       "  </thead>\n",
       "  <tbody>\n",
       "    <tr>\n",
       "      <th>2021-10-24 01:00:27</th>\n",
       "      <td>2484096</td>\n",
       "      <td>4148.726019</td>\n",
       "      <td>0.300000</td>\n",
       "      <td>-1244.354463</td>\n",
       "      <td>66950074488675404</td>\n",
       "    </tr>\n",
       "    <tr>\n",
       "      <th>2021-10-24 01:10:24</th>\n",
       "      <td>2484201</td>\n",
       "      <td>6553.984667</td>\n",
       "      <td>-45.163641</td>\n",
       "      <td>200000.000000</td>\n",
       "      <td>1103537214114283</td>\n",
       "    </tr>\n",
       "    <tr>\n",
       "      <th>2021-10-24 01:10:24</th>\n",
       "      <td>2484202</td>\n",
       "      <td>4442.316044</td>\n",
       "      <td>14.464900</td>\n",
       "      <td>-68410.065648</td>\n",
       "      <td>49312341298035154</td>\n",
       "    </tr>\n",
       "    <tr>\n",
       "      <th>2021-10-24 01:10:24</th>\n",
       "      <td>2484203</td>\n",
       "      <td>4147.455734</td>\n",
       "      <td>30.880579</td>\n",
       "      <td>-132150.168619</td>\n",
       "      <td>66950074488675404</td>\n",
       "    </tr>\n",
       "    <tr>\n",
       "      <th>2021-10-24 01:18:03</th>\n",
       "      <td>2484312</td>\n",
       "      <td>4146.419169</td>\n",
       "      <td>0.130000</td>\n",
       "      <td>-538.832313</td>\n",
       "      <td>66950074488675404</td>\n",
       "    </tr>\n",
       "  </tbody>\n",
       "</table>\n",
       "</div>"
      ],
      "text/plain": [
       "                     blockNumber        price       WETH           USDT  \\\n",
       "datetime                                                                  \n",
       "2021-10-24 01:00:27      2484096  4148.726019   0.300000   -1244.354463   \n",
       "2021-10-24 01:10:24      2484201  6553.984667 -45.163641  200000.000000   \n",
       "2021-10-24 01:10:24      2484202  4442.316044  14.464900  -68410.065648   \n",
       "2021-10-24 01:10:24      2484203  4147.455734  30.880579 -132150.168619   \n",
       "2021-10-24 01:18:03      2484312  4146.419169   0.130000    -538.832313   \n",
       "\n",
       "                             liquidity  \n",
       "datetime                                \n",
       "2021-10-24 01:00:27  66950074488675404  \n",
       "2021-10-24 01:10:24   1103537214114283  \n",
       "2021-10-24 01:10:24  49312341298035154  \n",
       "2021-10-24 01:10:24  66950074488675404  \n",
       "2021-10-24 01:18:03  66950074488675404  "
      ]
     },
     "execution_count": 58,
     "metadata": {},
     "output_type": "execute_result"
    }
   ],
   "source": [
    "df_arb_500[df_arb_500.index >'2021-10-24 01' ].head(5)"
   ]
  },
  {
   "cell_type": "code",
   "execution_count": 59,
   "id": "9ef3164f-9dd9-40fe-85ac-97385418b688",
   "metadata": {
    "tags": []
   },
   "outputs": [
    {
     "data": {
      "image/png": "[encoded data removed]",
      "text/plain": [
       "<Figure size 640x480 with 1 Axes>"
      ]
     },
     "metadata": {},
     "output_type": "display_data"
    }
   ],
   "source": [
    "plt.plot(df_arb_500.index.values,df_arb_500['price'].values)\n",
    "plt.xlabel(\"date\")\n",
    "plt.ylabel(\"price\")\n",
    "plt.xlim(datetime(2022,3,20,14,0,0),datetime(2022,4,10,16,0,0))\n",
    "plt.xticks(rotation=45);"
   ]
  },
  {
   "cell_type": "markdown",
   "id": "b5da95f3-3487-4659-95b3-b59c5756bb1d",
   "metadata": {},
   "source": [
    "Here we just drop them( or leave them since two points won't affect the analysis)"
   ]
  },
  {
   "cell_type": "code",
   "execution_count": 60,
   "id": "5753978d-c6ac-40dd-8f8e-4109d63e2e97",
   "metadata": {
    "tags": []
   },
   "outputs": [
    {
     "data": {
      "text/html": [
       "<div>\n",
       "<style scoped>\n",
       "    .dataframe tbody tr th:only-of-type {\n",
       "        vertical-align: middle;\n",
       "    }\n",
       "\n",
       "    .dataframe tbody tr th {\n",
       "        vertical-align: top;\n",
       "    }\n",
       "\n",
       "    .dataframe thead th {\n",
       "        text-align: right;\n",
       "    }\n",
       "</style>\n",
       "<table border=\"1\" class=\"dataframe\">\n",
       "  <thead>\n",
       "    <tr style=\"text-align: right;\">\n",
       "      <th></th>\n",
       "      <th>blockNumber</th>\n",
       "      <th>price</th>\n",
       "      <th>WETH</th>\n",
       "      <th>USDT</th>\n",
       "      <th>liquidity</th>\n",
       "    </tr>\n",
       "    <tr>\n",
       "      <th>datetime</th>\n",
       "      <th></th>\n",
       "      <th></th>\n",
       "      <th></th>\n",
       "      <th></th>\n",
       "      <th></th>\n",
       "    </tr>\n",
       "  </thead>\n",
       "  <tbody>\n",
       "    <tr>\n",
       "      <th>2022-04-01 14:14:49</th>\n",
       "      <td>9036889</td>\n",
       "      <td>3385.729992</td>\n",
       "      <td>0.000296</td>\n",
       "      <td>-1.000200</td>\n",
       "      <td>40220797983805915</td>\n",
       "    </tr>\n",
       "    <tr>\n",
       "      <th>2022-04-01 14:14:49</th>\n",
       "      <td>9036884</td>\n",
       "      <td>3385.732886</td>\n",
       "      <td>-0.295332</td>\n",
       "      <td>1000.000000</td>\n",
       "      <td>40220797983805915</td>\n",
       "    </tr>\n",
       "    <tr>\n",
       "      <th>2022-04-01 14:14:57</th>\n",
       "      <td>9036911</td>\n",
       "      <td>3390.595487</td>\n",
       "      <td>-0.498971</td>\n",
       "      <td>1691.443380</td>\n",
       "      <td>40652393692533294</td>\n",
       "    </tr>\n",
       "    <tr>\n",
       "      <th>2022-04-01 14:14:57</th>\n",
       "      <td>9036946</td>\n",
       "      <td>3381.093922</td>\n",
       "      <td>1.000000</td>\n",
       "      <td>-3384.073940</td>\n",
       "      <td>50033280322388606</td>\n",
       "    </tr>\n",
       "    <tr>\n",
       "      <th>2022-04-01 14:20:11</th>\n",
       "      <td>9037230</td>\n",
       "      <td>3373.123010</td>\n",
       "      <td>1.000000</td>\n",
       "      <td>-3375.426176</td>\n",
       "      <td>50879494168012937</td>\n",
       "    </tr>\n",
       "    <tr>\n",
       "      <th>2022-04-01 14:22:53</th>\n",
       "      <td>9037364</td>\n",
       "      <td>4444.399695</td>\n",
       "      <td>-28.649072</td>\n",
       "      <td>102298.623301</td>\n",
       "      <td>11579374271257572</td>\n",
       "    </tr>\n",
       "    <tr>\n",
       "      <th>2022-04-01 14:22:53</th>\n",
       "      <td>9037365</td>\n",
       "      <td>3446.924247</td>\n",
       "      <td>20.652782</td>\n",
       "      <td>-74941.547309</td>\n",
       "      <td>38947856127822794</td>\n",
       "    </tr>\n",
       "    <tr>\n",
       "      <th>2022-04-01 14:23:45</th>\n",
       "      <td>9037397</td>\n",
       "      <td>3380.208604</td>\n",
       "      <td>1.021650</td>\n",
       "      <td>-3456.363404</td>\n",
       "      <td>50033280322388606</td>\n",
       "    </tr>\n",
       "    <tr>\n",
       "      <th>2022-04-01 14:26:26</th>\n",
       "      <td>9037553</td>\n",
       "      <td>3380.183040</td>\n",
       "      <td>0.003256</td>\n",
       "      <td>-11.000000</td>\n",
       "      <td>50033280322388606</td>\n",
       "    </tr>\n",
       "    <tr>\n",
       "      <th>2022-04-01 14:28:57</th>\n",
       "      <td>9037748</td>\n",
       "      <td>3389.472972</td>\n",
       "      <td>-0.999833</td>\n",
       "      <td>3385.808000</td>\n",
       "      <td>40652393692533294</td>\n",
       "    </tr>\n",
       "  </tbody>\n",
       "</table>\n",
       "</div>"
      ],
      "text/plain": [
       "                     blockNumber        price       WETH           USDT  \\\n",
       "datetime                                                                  \n",
       "2022-04-01 14:14:49      9036889  3385.729992   0.000296      -1.000200   \n",
       "2022-04-01 14:14:49      9036884  3385.732886  -0.295332    1000.000000   \n",
       "2022-04-01 14:14:57      9036911  3390.595487  -0.498971    1691.443380   \n",
       "2022-04-01 14:14:57      9036946  3381.093922   1.000000   -3384.073940   \n",
       "2022-04-01 14:20:11      9037230  3373.123010   1.000000   -3375.426176   \n",
       "2022-04-01 14:22:53      9037364  4444.399695 -28.649072  102298.623301   \n",
       "2022-04-01 14:22:53      9037365  3446.924247  20.652782  -74941.547309   \n",
       "2022-04-01 14:23:45      9037397  3380.208604   1.021650   -3456.363404   \n",
       "2022-04-01 14:26:26      9037553  3380.183040   0.003256     -11.000000   \n",
       "2022-04-01 14:28:57      9037748  3389.472972  -0.999833    3385.808000   \n",
       "\n",
       "                             liquidity  \n",
       "datetime                                \n",
       "2022-04-01 14:14:49  40220797983805915  \n",
       "2022-04-01 14:14:49  40220797983805915  \n",
       "2022-04-01 14:14:57  40652393692533294  \n",
       "2022-04-01 14:14:57  50033280322388606  \n",
       "2022-04-01 14:20:11  50879494168012937  \n",
       "2022-04-01 14:22:53  11579374271257572  \n",
       "2022-04-01 14:22:53  38947856127822794  \n",
       "2022-04-01 14:23:45  50033280322388606  \n",
       "2022-04-01 14:26:26  50033280322388606  \n",
       "2022-04-01 14:28:57  40652393692533294  "
      ]
     },
     "execution_count": 60,
     "metadata": {},
     "output_type": "execute_result"
    }
   ],
   "source": [
    "test=df_arb_500[df_arb_500.index >'2022-4-1 14:14'].head(10)\n",
    "test"
   ]
  },
  {
   "cell_type": "code",
   "execution_count": 61,
   "id": "75c9a16f-e690-4c0c-92ca-4ac72e5e1810",
   "metadata": {
    "tags": []
   },
   "outputs": [],
   "source": [
    "df_arb_500 = df_arb_500[(df_arb_500.index !='2021-10-24 01:10:24') & (df_arb_500.index !='2022-04-01 14:22:53') ]"
   ]
  },
  {
   "cell_type": "markdown",
   "id": "e43b3a59-a0f4-4780-9112-b4b67a4474c1",
   "metadata": {
    "tags": []
   },
   "source": [
    "#### Liquidity dtype"
   ]
  },
  {
   "cell_type": "code",
   "execution_count": 62,
   "id": "ad79cd0c-6cfb-4392-b750-c16cfe925e00",
   "metadata": {
    "tags": []
   },
   "outputs": [],
   "source": [
    "df_arb_500['liquidity']=df_arb_500['liquidity'].astype(float)"
   ]
  },
  {
   "cell_type": "markdown",
   "id": "3132ed9c-45e9-4225-af70-936ca7519cef",
   "metadata": {},
   "source": [
    "#### Early data points\n",
    "Before 2021-09-01, the frequency of trading is very low. This may be because the pool is just started. So we ignore those data points. "
   ]
  },
  {
   "cell_type": "code",
   "execution_count": 63,
   "id": "f9ddcbcd-0c25-4112-9db2-a09dc572feb9",
   "metadata": {
    "tags": []
   },
   "outputs": [],
   "source": [
    "df_arb_500 = df_arb_500[df_arb_500.index> '2021-09-01'] #discard first few data points "
   ]
  },
  {
   "cell_type": "markdown",
   "id": "206a3d7a-1ef7-4054-95c4-6bee80e6991e",
   "metadata": {},
   "source": [
    "#### Trades with no price impact/reserves change "
   ]
  },
  {
   "cell_type": "code",
   "execution_count": 64,
   "id": "98566102-ccc5-4a92-8079-ef1a06b0b27a",
   "metadata": {
    "tags": []
   },
   "outputs": [],
   "source": [
    "# data points where trades have no price impact.\n",
    "test =df_arb_500[['price']]-df_arb_500[['price']].shift(1)\n",
    "bad_price_diff = test[test['price']==0]"
   ]
  },
  {
   "cell_type": "markdown",
   "id": "c3858f1b-7e51-4900-9a5e-5b1c2782b40b",
   "metadata": {},
   "source": [
    "We can see that the data points with no price impact is the subset of those with zero volume. We'll just ignore them."
   ]
  },
  {
   "cell_type": "code",
   "execution_count": 93,
   "id": "39d3694d-1c39-48c2-8098-84bd93ce6614",
   "metadata": {
    "tags": []
   },
   "outputs": [],
   "source": [
    "#data points where the aamounts of one of token in trades are zero \n",
    "bad_volume = df_arb_500[  (df_arb_500['WETH']==0) | (df_arb_500['USDT']==0) ]"
   ]
  },
  {
   "cell_type": "markdown",
   "id": "ef671675-b7b9-4abf-a6f1-9b79f3220c0c",
   "metadata": {},
   "source": [
    "#### Output to csv"
   ]
  },
  {
   "cell_type": "code",
   "execution_count": 65,
   "id": "243f670a-9c9f-4f63-b0f8-fbeb1662d07c",
   "metadata": {
    "tags": []
   },
   "outputs": [],
   "source": [
    "df_arb_500 = df_arb_500[ ~ ( (df_arb_500['WETH']==0) | (df_arb_500['USDT']==0) )]"
   ]
  },
  {
   "cell_type": "code",
   "execution_count": 66,
   "id": "0229fe0a-7751-4513-b700-d75e66b74f50",
   "metadata": {
    "tags": []
   },
   "outputs": [],
   "source": [
    "df_arb_500.to_csv(f'Data/organized data/{token_0}_{token_1}_arb_500/{token_0}_{token_1}_arb_500_original.csv') "
   ]
  },
  {
   "cell_type": "markdown",
   "id": "d1a35b33-d086-4bb4-b7ac-daea68a0a2cf",
   "metadata": {},
   "source": [
    "### Resample"
   ]
  },
  {
   "cell_type": "code",
   "execution_count": 97,
   "id": "e7a46f8f-b811-430d-9dc7-29955483b8da",
   "metadata": {
    "tags": []
   },
   "outputs": [],
   "source": [
    "time_list = ['1min', '5min','10min','30min','1H','6H','12H','1D','1W']\n",
    "order(df_arb_500)\n",
    "for T in time_list:\n",
    "    df_res=  resample(df_arb_500,T)\n",
    "    df_res.to_csv(f'Data/organized data/{token_0}_{token_1}_arb_500/{token_0}_{token_1}_arb_500_{T}.csv') "
   ]
  },
  {
   "cell_type": "markdown",
   "id": "247987a9-f501-45d5-8c81-1bef307240b2",
   "metadata": {
    "jp-MarkdownHeadingCollapsed": true,
    "tags": []
   },
   "source": [
    "### Arrival"
   ]
  },
  {
   "cell_type": "code",
   "execution_count": 67,
   "id": "6fa41fd4-051f-4a21-85c3-a6f76147014f",
   "metadata": {
    "tags": []
   },
   "outputs": [],
   "source": [
    "token_0 ='WETH'\n",
    "token_1 ='USDT'\n",
    "df_arb_USDT_500 = pd.read_csv(f'Data/organized data/{token_0}_{token_1}_arb_500/{token_0}_{token_1}_arb_500_original.csv',index_col='datetime') \n",
    "df_arb_USDT_500.index = pd.to_datetime(df_arb_USDT_500.index)"
   ]
  },
  {
   "cell_type": "code",
   "execution_count": 68,
   "id": "8f05c5ea-2747-477e-8cd2-9934baa3b0ab",
   "metadata": {
    "tags": []
   },
   "outputs": [
    {
     "data": {
      "text/plain": [
       "(3310076, 398196, 226.0364899414654, 25.974593485142304)"
      ]
     },
     "execution_count": 68,
     "metadata": {},
     "output_type": "execute_result"
    }
   ],
   "source": [
    "arrival_USDT_500 = arrival(df_arb_USDT_500)\n",
    "#USDC\n",
    "arrival_USDT_500['No.'].sum(),arrival_3000['No.'].sum(), arrival_3000['interval'].mean(),arrival_USDT_500['interval'].mean()"
   ]
  },
  {
   "cell_type": "code",
   "execution_count": 69,
   "id": "88ed168a-66fb-4e9a-ad94-d70437117925",
   "metadata": {
    "tags": []
   },
   "outputs": [
    {
     "data": {
      "text/plain": [
       "(6711932, 15.90259482663127)"
      ]
     },
     "execution_count": 69,
     "metadata": {},
     "output_type": "execute_result"
    }
   ],
   "source": [
    "arrival_500['No.'].sum(),arrival_500['interval'].mean()"
   ]
  },
  {
   "cell_type": "markdown",
   "id": "44ca5e8d-d7b5-48fc-ad3a-386e69b70eb6",
   "metadata": {
    "jp-MarkdownHeadingCollapsed": true,
    "tags": [],
    "toc-hr-collapsed": true
   },
   "source": [
    "## WETH vs DAI 0.3% Arbitrium"
   ]
  },
  {
   "cell_type": "code",
   "execution_count": 146,
   "id": "7ba844ab-55c8-4f44-86cb-10274d0a4dc9",
   "metadata": {
    "tags": []
   },
   "outputs": [
    {
     "name": "stderr",
     "output_type": "stream",
     "text": [
      "C:\\Users\\std92\\OneDrive\\文件\\AMM\\other's notes and codes\\token_style\\TransformData.py:52: DtypeWarning: Columns (3) have mixed types. Specify dtype option on import or set low_memory=False.\n",
      "  df = pd.read_csv(path + \".csv\", index_col=0)\n"
     ]
    }
   ],
   "source": [
    "#using WETH vs USDC\n",
    "token_0 ='WETH'\n",
    "token_1 ='DAI'\n",
    "\n",
    "path = \"Data/Arbitrum/WETH_DAI_arbitrum_3000\"\n",
    "with open(path + \"_config.json\", 'r') as f:\n",
    "    TransformData.config = json.load(f)\n",
    "df_arb_3000 = TransformData.main(path,token_0,token_1)"
   ]
  },
  {
   "cell_type": "markdown",
   "id": "dbab90d6-b4b3-47a1-a235-64d8fd0eb3e5",
   "metadata": {
    "jp-MarkdownHeadingCollapsed": true,
    "tags": []
   },
   "source": [
    "### A first look at data\n",
    "Not sure that the volume is correct or not, but price seems to be fine."
   ]
  },
  {
   "cell_type": "code",
   "execution_count": 151,
   "id": "508244ca-38c7-44fb-ad8d-2598054fe792",
   "metadata": {
    "tags": []
   },
   "outputs": [
    {
     "data": {
      "text/html": [
       "<div>\n",
       "<style scoped>\n",
       "    .dataframe tbody tr th:only-of-type {\n",
       "        vertical-align: middle;\n",
       "    }\n",
       "\n",
       "    .dataframe tbody tr th {\n",
       "        vertical-align: top;\n",
       "    }\n",
       "\n",
       "    .dataframe thead th {\n",
       "        text-align: right;\n",
       "    }\n",
       "</style>\n",
       "<table border=\"1\" class=\"dataframe\">\n",
       "  <thead>\n",
       "    <tr style=\"text-align: right;\">\n",
       "      <th></th>\n",
       "      <th>blockNumber</th>\n",
       "      <th>price</th>\n",
       "      <th>WETH</th>\n",
       "      <th>DAI</th>\n",
       "      <th>liquidity</th>\n",
       "    </tr>\n",
       "    <tr>\n",
       "      <th>datetime</th>\n",
       "      <th></th>\n",
       "      <th></th>\n",
       "      <th></th>\n",
       "      <th></th>\n",
       "      <th></th>\n",
       "    </tr>\n",
       "  </thead>\n",
       "  <tbody>\n",
       "    <tr>\n",
       "      <th>2021-09-23 10:45:32</th>\n",
       "      <td>1505367</td>\n",
       "      <td>3110.864249</td>\n",
       "      <td>0.00200</td>\n",
       "      <td>-6.216233</td>\n",
       "      <td>52493529746830347442</td>\n",
       "    </tr>\n",
       "    <tr>\n",
       "      <th>2021-09-23 10:55:00</th>\n",
       "      <td>1505747</td>\n",
       "      <td>3078.170016</td>\n",
       "      <td>0.00500</td>\n",
       "      <td>-15.425953</td>\n",
       "      <td>52493529746830347442</td>\n",
       "    </tr>\n",
       "    <tr>\n",
       "      <th>2021-09-23 12:48:13</th>\n",
       "      <td>1512382</td>\n",
       "      <td>3110.765908</td>\n",
       "      <td>-0.00497</td>\n",
       "      <td>15.425953</td>\n",
       "      <td>52493529746830347442</td>\n",
       "    </tr>\n",
       "    <tr>\n",
       "      <th>2021-09-23 12:51:28</th>\n",
       "      <td>1512514</td>\n",
       "      <td>3097.627648</td>\n",
       "      <td>0.00200</td>\n",
       "      <td>-6.189268</td>\n",
       "      <td>52493529746830347442</td>\n",
       "    </tr>\n",
       "    <tr>\n",
       "      <th>2021-09-23 14:16:53</th>\n",
       "      <td>1516209</td>\n",
       "      <td>3096.972869</td>\n",
       "      <td>0.00010</td>\n",
       "      <td>-0.308801</td>\n",
       "      <td>52493529746830347442</td>\n",
       "    </tr>\n",
       "  </tbody>\n",
       "</table>\n",
       "</div>"
      ],
      "text/plain": [
       "                     blockNumber        price     WETH        DAI  \\\n",
       "datetime                                                            \n",
       "2021-09-23 10:45:32      1505367  3110.864249  0.00200  -6.216233   \n",
       "2021-09-23 10:55:00      1505747  3078.170016  0.00500 -15.425953   \n",
       "2021-09-23 12:48:13      1512382  3110.765908 -0.00497  15.425953   \n",
       "2021-09-23 12:51:28      1512514  3097.627648  0.00200  -6.189268   \n",
       "2021-09-23 14:16:53      1516209  3096.972869  0.00010  -0.308801   \n",
       "\n",
       "                                liquidity  \n",
       "datetime                                   \n",
       "2021-09-23 10:45:32  52493529746830347442  \n",
       "2021-09-23 10:55:00  52493529746830347442  \n",
       "2021-09-23 12:48:13  52493529746830347442  \n",
       "2021-09-23 12:51:28  52493529746830347442  \n",
       "2021-09-23 14:16:53  52493529746830347442  "
      ]
     },
     "execution_count": 151,
     "metadata": {},
     "output_type": "execute_result"
    }
   ],
   "source": [
    "df_arb_3000.head() "
   ]
  },
  {
   "cell_type": "code",
   "execution_count": 145,
   "id": "e7b7bf6d-8b19-42de-a983-5cef60f134f3",
   "metadata": {
    "tags": []
   },
   "outputs": [
    {
     "data": {
      "image/png": "[encoded data removed]",
      "text/plain": [
       "<Figure size 640x480 with 1 Axes>"
      ]
     },
     "metadata": {},
     "output_type": "display_data"
    }
   ],
   "source": [
    "plt.plot(df_arb_3000.index.values,df_arb_3000['price'].values)\n",
    "plt.xlabel(\"date\")\n",
    "plt.ylabel(\"price\")\n",
    "plt.xticks(rotation=45);"
   ]
  },
  {
   "cell_type": "markdown",
   "id": "a3b43d57-0e83-4219-992d-fae84f1e2dce",
   "metadata": {},
   "source": [
    "#### Repeated datetime"
   ]
  },
  {
   "cell_type": "markdown",
   "id": "6bb39ea1-917e-43bc-ab6e-751f72e9d233",
   "metadata": {},
   "source": [
    "If we show the dataframe, we can see that the datetimes are repeated sometimes. This is due to the fact that trade may come in the same time interval, or even the same block time (the the block time of Arbitrium is 0.25s). "
   ]
  },
  {
   "cell_type": "markdown",
   "id": "ad98cf9f-47f4-4680-bf73-9df606657757",
   "metadata": {
    "tags": []
   },
   "source": [
    "#### The type of price(not certain)\n",
    "Note that the price is the one after the trade and is in the sense of closing price. For example, if there are 3 trades that happend at time $t_1, t_2$ and $t_3$ in an one-second interval $[t,t+1)$. The prices after trades are $p_1, p_2$ and $p_3$ respectively. Then there will be three data points that are at time $t$ and with the price $p_1, p_2$ and $p_3$ respectively.\n",
    "This might be seen directly from the type of trades,the direction of price change( sell WETH, price goes up, vice versa) and partial historical data on oku. "
   ]
  },
  {
   "cell_type": "markdown",
   "id": "5e4cc4ae-7b73-4569-847c-207010864a5a",
   "metadata": {
    "tags": []
   },
   "source": [
    "#### Liquidity dtype\n",
    "The liquidity is too large (not sure what unit it is in raw data) so that pandas reads it as str."
   ]
  },
  {
   "cell_type": "code",
   "execution_count": 153,
   "id": "2bd3c9c0-7f2b-4ba8-b7fb-42f5e716da28",
   "metadata": {
    "tags": []
   },
   "outputs": [],
   "source": [
    "df_arb_3000['liquidity']=df_arb_3000['liquidity'].astype(float)"
   ]
  },
  {
   "cell_type": "markdown",
   "id": "14e27e47-d930-462f-b0fb-39bcd2cc4727",
   "metadata": {},
   "source": [
    "#### Early data points\n",
    "Before 2021-09-01, the frequency of trading is very low. This may be because the pool is just started. So we ignore those data points. "
   ]
  },
  {
   "cell_type": "code",
   "execution_count": 154,
   "id": "cdaf2e3b-a17b-41ac-9275-0335e677e93b",
   "metadata": {
    "tags": []
   },
   "outputs": [],
   "source": [
    "df_arb_3000 = df_arb_3000[df_arb_3000.index> '2021-09-01'] #discard first few data points "
   ]
  },
  {
   "cell_type": "markdown",
   "id": "7099656c-5e5f-4bc6-8d2b-57352b330a9e",
   "metadata": {},
   "source": [
    "#### Trades with no price impact/reserves change "
   ]
  },
  {
   "cell_type": "markdown",
   "id": "686a7db1-951f-4f10-92e3-e2f4b1023a7c",
   "metadata": {},
   "source": [
    "Even though the dataframe ```df_arb_3000``` stores the info of price everytime after a trade occurs in the pool, the below shows that sometime the trade has no impact to the price. The raw data shows that the variable **sqrtPriceX96** does change, but after transformed into pool price the difference is ignored by the computer. \n",
    "We also see that the amount of tokens traded in this case is zero (the amount of another token in the trade is extremely small)."
   ]
  },
  {
   "cell_type": "code",
   "execution_count": 159,
   "id": "0747ab0d-7016-4f22-9dfe-b32c38caa09c",
   "metadata": {
    "tags": []
   },
   "outputs": [
    {
     "data": {
      "text/html": [
       "<div>\n",
       "<style scoped>\n",
       "    .dataframe tbody tr th:only-of-type {\n",
       "        vertical-align: middle;\n",
       "    }\n",
       "\n",
       "    .dataframe tbody tr th {\n",
       "        vertical-align: top;\n",
       "    }\n",
       "\n",
       "    .dataframe thead th {\n",
       "        text-align: right;\n",
       "    }\n",
       "</style>\n",
       "<table border=\"1\" class=\"dataframe\">\n",
       "  <thead>\n",
       "    <tr style=\"text-align: right;\">\n",
       "      <th></th>\n",
       "      <th>price</th>\n",
       "    </tr>\n",
       "    <tr>\n",
       "      <th>datetime</th>\n",
       "      <th></th>\n",
       "    </tr>\n",
       "  </thead>\n",
       "  <tbody>\n",
       "    <tr>\n",
       "      <th>2021-11-30 11:31:21</th>\n",
       "      <td>0.0</td>\n",
       "    </tr>\n",
       "    <tr>\n",
       "      <th>2021-11-30 11:33:43</th>\n",
       "      <td>0.0</td>\n",
       "    </tr>\n",
       "    <tr>\n",
       "      <th>2022-04-15 17:46:15</th>\n",
       "      <td>0.0</td>\n",
       "    </tr>\n",
       "    <tr>\n",
       "      <th>2022-04-15 18:04:49</th>\n",
       "      <td>0.0</td>\n",
       "    </tr>\n",
       "    <tr>\n",
       "      <th>2022-04-15 18:18:11</th>\n",
       "      <td>0.0</td>\n",
       "    </tr>\n",
       "    <tr>\n",
       "      <th>2022-04-15 18:19:39</th>\n",
       "      <td>0.0</td>\n",
       "    </tr>\n",
       "    <tr>\n",
       "      <th>2022-04-15 18:25:35</th>\n",
       "      <td>0.0</td>\n",
       "    </tr>\n",
       "    <tr>\n",
       "      <th>2022-04-29 09:51:51</th>\n",
       "      <td>0.0</td>\n",
       "    </tr>\n",
       "    <tr>\n",
       "      <th>2022-09-01 20:07:07</th>\n",
       "      <td>0.0</td>\n",
       "    </tr>\n",
       "    <tr>\n",
       "      <th>2022-09-12 16:53:21</th>\n",
       "      <td>0.0</td>\n",
       "    </tr>\n",
       "    <tr>\n",
       "      <th>2022-12-22 07:45:48</th>\n",
       "      <td>0.0</td>\n",
       "    </tr>\n",
       "    <tr>\n",
       "      <th>2023-02-06 09:32:25</th>\n",
       "      <td>0.0</td>\n",
       "    </tr>\n",
       "    <tr>\n",
       "      <th>2023-03-21 14:20:46</th>\n",
       "      <td>0.0</td>\n",
       "    </tr>\n",
       "    <tr>\n",
       "      <th>2023-04-13 10:33:27</th>\n",
       "      <td>0.0</td>\n",
       "    </tr>\n",
       "    <tr>\n",
       "      <th>2023-04-13 11:15:12</th>\n",
       "      <td>0.0</td>\n",
       "    </tr>\n",
       "    <tr>\n",
       "      <th>2023-08-04 09:29:18</th>\n",
       "      <td>0.0</td>\n",
       "    </tr>\n",
       "    <tr>\n",
       "      <th>2023-08-04 09:31:20</th>\n",
       "      <td>0.0</td>\n",
       "    </tr>\n",
       "    <tr>\n",
       "      <th>2023-09-12 06:21:38</th>\n",
       "      <td>0.0</td>\n",
       "    </tr>\n",
       "    <tr>\n",
       "      <th>2023-09-18 09:58:48</th>\n",
       "      <td>0.0</td>\n",
       "    </tr>\n",
       "    <tr>\n",
       "      <th>2023-12-22 06:31:22</th>\n",
       "      <td>0.0</td>\n",
       "    </tr>\n",
       "    <tr>\n",
       "      <th>2023-12-26 17:25:27</th>\n",
       "      <td>0.0</td>\n",
       "    </tr>\n",
       "  </tbody>\n",
       "</table>\n",
       "</div>"
      ],
      "text/plain": [
       "                     price\n",
       "datetime                  \n",
       "2021-11-30 11:31:21    0.0\n",
       "2021-11-30 11:33:43    0.0\n",
       "2022-04-15 17:46:15    0.0\n",
       "2022-04-15 18:04:49    0.0\n",
       "2022-04-15 18:18:11    0.0\n",
       "2022-04-15 18:19:39    0.0\n",
       "2022-04-15 18:25:35    0.0\n",
       "2022-04-29 09:51:51    0.0\n",
       "2022-09-01 20:07:07    0.0\n",
       "2022-09-12 16:53:21    0.0\n",
       "2022-12-22 07:45:48    0.0\n",
       "2023-02-06 09:32:25    0.0\n",
       "2023-03-21 14:20:46    0.0\n",
       "2023-04-13 10:33:27    0.0\n",
       "2023-04-13 11:15:12    0.0\n",
       "2023-08-04 09:29:18    0.0\n",
       "2023-08-04 09:31:20    0.0\n",
       "2023-09-12 06:21:38    0.0\n",
       "2023-09-18 09:58:48    0.0\n",
       "2023-12-22 06:31:22    0.0\n",
       "2023-12-26 17:25:27    0.0"
      ]
     },
     "execution_count": 159,
     "metadata": {},
     "output_type": "execute_result"
    }
   ],
   "source": [
    "# data points where trades have no price impact.\n",
    "test =df_arb_3000[['price']]-df_arb_3000[['price']].shift(1)\n",
    "bad_price_diff = test[test['price']==0]\n",
    "bad_price_diff"
   ]
  },
  {
   "cell_type": "markdown",
   "id": "9edaea67-9887-4b4b-9cef-460bc1d2fd98",
   "metadata": {},
   "source": [
    "We can see that the data points with no price impact is the subset of those with zero volume. We'll just ignore them."
   ]
  },
  {
   "cell_type": "code",
   "execution_count": 160,
   "id": "6a4a3c88-93bb-43e9-9a0d-ba124de1bd95",
   "metadata": {
    "tags": []
   },
   "outputs": [
    {
     "data": {
      "text/html": [
       "<div>\n",
       "<style scoped>\n",
       "    .dataframe tbody tr th:only-of-type {\n",
       "        vertical-align: middle;\n",
       "    }\n",
       "\n",
       "    .dataframe tbody tr th {\n",
       "        vertical-align: top;\n",
       "    }\n",
       "\n",
       "    .dataframe thead th {\n",
       "        text-align: right;\n",
       "    }\n",
       "</style>\n",
       "<table border=\"1\" class=\"dataframe\">\n",
       "  <thead>\n",
       "    <tr style=\"text-align: right;\">\n",
       "      <th></th>\n",
       "      <th>blockNumber</th>\n",
       "      <th>price</th>\n",
       "      <th>WETH</th>\n",
       "      <th>DAI</th>\n",
       "      <th>liquidity</th>\n",
       "    </tr>\n",
       "    <tr>\n",
       "      <th>datetime</th>\n",
       "      <th></th>\n",
       "      <th></th>\n",
       "      <th></th>\n",
       "      <th></th>\n",
       "      <th></th>\n",
       "    </tr>\n",
       "  </thead>\n",
       "  <tbody>\n",
       "    <tr>\n",
       "      <th>2023-03-21 14:20:46</th>\n",
       "      <td>72145515</td>\n",
       "      <td>1820.402823</td>\n",
       "      <td>1.000000e-18</td>\n",
       "      <td>0.000000e+00</td>\n",
       "      <td>4.161897e+22</td>\n",
       "    </tr>\n",
       "    <tr>\n",
       "      <th>2023-04-13 10:33:27</th>\n",
       "      <td>79992578</td>\n",
       "      <td>1987.518532</td>\n",
       "      <td>0.000000e+00</td>\n",
       "      <td>7.300000e-17</td>\n",
       "      <td>4.975296e+22</td>\n",
       "    </tr>\n",
       "    <tr>\n",
       "      <th>2023-04-13 11:15:12</th>\n",
       "      <td>80002619</td>\n",
       "      <td>1991.687151</td>\n",
       "      <td>0.000000e+00</td>\n",
       "      <td>1.000000e-18</td>\n",
       "      <td>4.965910e+22</td>\n",
       "    </tr>\n",
       "    <tr>\n",
       "      <th>2023-09-12 06:21:38</th>\n",
       "      <td>130327666</td>\n",
       "      <td>1581.128213</td>\n",
       "      <td>0.000000e+00</td>\n",
       "      <td>1.800000e-17</td>\n",
       "      <td>2.782190e+22</td>\n",
       "    </tr>\n",
       "    <tr>\n",
       "      <th>2023-09-18 09:58:48</th>\n",
       "      <td>132181243</td>\n",
       "      <td>1636.806413</td>\n",
       "      <td>0.000000e+00</td>\n",
       "      <td>4.000000e-18</td>\n",
       "      <td>2.692321e+22</td>\n",
       "    </tr>\n",
       "  </tbody>\n",
       "</table>\n",
       "</div>"
      ],
      "text/plain": [
       "                     blockNumber        price          WETH           DAI  \\\n",
       "datetime                                                                    \n",
       "2023-03-21 14:20:46     72145515  1820.402823  1.000000e-18  0.000000e+00   \n",
       "2023-04-13 10:33:27     79992578  1987.518532  0.000000e+00  7.300000e-17   \n",
       "2023-04-13 11:15:12     80002619  1991.687151  0.000000e+00  1.000000e-18   \n",
       "2023-09-12 06:21:38    130327666  1581.128213  0.000000e+00  1.800000e-17   \n",
       "2023-09-18 09:58:48    132181243  1636.806413  0.000000e+00  4.000000e-18   \n",
       "\n",
       "                        liquidity  \n",
       "datetime                           \n",
       "2023-03-21 14:20:46  4.161897e+22  \n",
       "2023-04-13 10:33:27  4.975296e+22  \n",
       "2023-04-13 11:15:12  4.965910e+22  \n",
       "2023-09-12 06:21:38  2.782190e+22  \n",
       "2023-09-18 09:58:48  2.692321e+22  "
      ]
     },
     "execution_count": 160,
     "metadata": {},
     "output_type": "execute_result"
    }
   ],
   "source": [
    "#data points where the aamounts of one of token in trades are zero \n",
    "bad_volume = df_arb_3000[  (df_arb_3000['WETH']==0) | (df_arb_3000['DAI']==0) ]\n",
    "bad_volume"
   ]
  },
  {
   "cell_type": "code",
   "execution_count": 11,
   "id": "4649a894-c375-4167-92fb-20bc97e5c16a",
   "metadata": {
    "tags": []
   },
   "outputs": [],
   "source": [
    "df_arb_3000 = df_arb_3000[ ~ ( (df_arb_3000['WETH']==0) | (df_arb_3000['USDC']==0) )]"
   ]
  },
  {
   "cell_type": "markdown",
   "id": "cdda5361-2a42-4a91-addb-06a1ee0e9025",
   "metadata": {},
   "source": [
    "#### Output to csv"
   ]
  },
  {
   "cell_type": "code",
   "execution_count": 161,
   "id": "dfa5d644-bd29-4c16-be04-10d1101e4006",
   "metadata": {
    "tags": []
   },
   "outputs": [],
   "source": [
    "df_arb_3000.to_csv(f'Data/organized data/{token_0}_{token_1}_arb_3000/{token_0}_{token_1}_arb_3000_original.csv') "
   ]
  },
  {
   "cell_type": "markdown",
   "id": "7363b0bd-1cc5-4a68-b54b-565d317a6fc6",
   "metadata": {
    "tags": []
   },
   "source": [
    "### Resemple"
   ]
  },
  {
   "cell_type": "code",
   "execution_count": 162,
   "id": "394616cf-9305-4709-a172-5b0ac2fbafd7",
   "metadata": {
    "tags": []
   },
   "outputs": [],
   "source": [
    "time_list = ['1min', '5min','10min','30min','1H','6H','12H','1D','1W']\n",
    "order(df_arb_3000)\n",
    "for T in time_list:\n",
    "    df_res=  resample(df_arb_3000,T)\n",
    "    df_res.to_csv(f'Data/organized data/{token_0}_{token_1}_arb_3000/{token_0}_{token_1}_arb_3000_{T}.csv') "
   ]
  },
  {
   "cell_type": "markdown",
   "id": "6c82f349-97c4-40b3-9bb6-32229cf3353c",
   "metadata": {},
   "source": [
    "### Arrival"
   ]
  },
  {
   "cell_type": "code",
   "execution_count": 74,
   "id": "56180173-add8-4914-84e2-1a81a8b67aa1",
   "metadata": {
    "tags": []
   },
   "outputs": [],
   "source": [
    "token_0 ='WETH'\n",
    "token_1 ='DAI'\n",
    "df_arb_DAI_3000 = pd.read_csv(f'Data/organized data/{token_0}_{token_1}_arb_3000/{token_0}_{token_1}_arb_3000_original.csv',index_col='datetime') \n",
    "df_arb_DAI_3000.index = pd.to_datetime(df_arb_DAI_3000.index)\n",
    "arrival_DAI_3000 = arrival(df_arb_DAI_3000)\n"
   ]
  },
  {
   "cell_type": "markdown",
   "id": "930d9a43-9c76-485b-9015-f431df32963b",
   "metadata": {
    "tags": [],
    "toc-hr-collapsed": true
   },
   "source": [
    "# Mainnet"
   ]
  },
  {
   "cell_type": "markdown",
   "id": "4ed23af1-aa93-40a1-8154-8cd3d0198094",
   "metadata": {
    "tags": [],
    "toc-hr-collapsed": true
   },
   "source": [
    "## WETH vs USDC 0.05% Mainnet"
   ]
  },
  {
   "cell_type": "code",
   "execution_count": 14,
   "id": "596f95cb-be8b-48be-9f02-f815ec1460ca",
   "metadata": {},
   "outputs": [],
   "source": [
    "#using WETH vs USDC (now token_0 is USDC!)\n",
    "token_0 ='USDC'\n",
    "token_1 ='WETH'\n",
    "\n",
    "path = \"Data/Mainnet/WETH_USDC_mainnet\"\n",
    "with open(path + \"_config.json\", 'r') as f:\n",
    "    TransformData.config = json.load(f)\n",
    "df_m_500 = TransformData.main(path+'_500',token_0,token_1)"
   ]
  },
  {
   "cell_type": "markdown",
   "id": "2baa482a-c915-4b00-91d1-8d12b66be376",
   "metadata": {
    "tags": []
   },
   "source": [
    "### A first look at data"
   ]
  },
  {
   "cell_type": "code",
   "execution_count": null,
   "id": "726da094-d02f-448d-8b76-7637e0315999",
   "metadata": {},
   "outputs": [],
   "source": []
  },
  {
   "cell_type": "code",
   "execution_count": 20,
   "id": "7fe95baa-e4fd-476a-b83a-6220bfd60c20",
   "metadata": {
    "tags": []
   },
   "outputs": [
    {
     "data": {
      "image/png": "[encoded data removed]",
      "text/plain": [
       "<Figure size 640x480 with 1 Axes>"
      ]
     },
     "metadata": {},
     "output_type": "display_data"
    }
   ],
   "source": [
    "plt.plot(df_m_500.index.values,df_m_500['price'].values , label='mainnet 500 USDC')\n",
    "plt.legend()\n",
    "plt.xlabel(\"date\")\n",
    "plt.ylabel(\"price\")\n",
    "plt.xticks(rotation=45);"
   ]
  },
  {
   "cell_type": "markdown",
   "id": "8c558c86-c71e-460c-ade6-cd6bb7b6e53b",
   "metadata": {
    "tags": []
   },
   "source": [
    "#### Liquidity dtype\n",
    "The liquidity is too large (not sure what unit it is in raw data) so that pandas reads it as str."
   ]
  },
  {
   "cell_type": "code",
   "execution_count": 5,
   "id": "f9756663-ba14-46ce-9ed6-86c0e248f31e",
   "metadata": {
    "tags": []
   },
   "outputs": [],
   "source": [
    "df_m_500['liquidity']=df_m_500['liquidity'].astype(float)"
   ]
  },
  {
   "cell_type": "markdown",
   "id": "8f287cc5-8368-43a5-8bac-0a0edc37e0fa",
   "metadata": {},
   "source": [
    "#### Early data points\n",
    "Before 2021-09-01, the frequency of trading is very low. This may be because the pool is just started. So we ignore those data points. "
   ]
  },
  {
   "cell_type": "code",
   "execution_count": 6,
   "id": "fda4f17b-4000-4dc3-9536-fbd3678e17c0",
   "metadata": {
    "tags": []
   },
   "outputs": [],
   "source": [
    "df_m_500 = df_m_500[df_m_500.index> '2021-09-01'] #discard first few data points "
   ]
  },
  {
   "cell_type": "markdown",
   "id": "ea162332-787d-4b64-90f1-65346310c7a8",
   "metadata": {},
   "source": [
    "#### Trades with no price impact/reserves change "
   ]
  },
  {
   "cell_type": "code",
   "execution_count": 7,
   "id": "1f2b1776-bd51-41b1-82c5-64a6fe802ce1",
   "metadata": {
    "tags": []
   },
   "outputs": [
    {
     "data": {
      "text/html": [
       "<div>\n",
       "<style scoped>\n",
       "    .dataframe tbody tr th:only-of-type {\n",
       "        vertical-align: middle;\n",
       "    }\n",
       "\n",
       "    .dataframe tbody tr th {\n",
       "        vertical-align: top;\n",
       "    }\n",
       "\n",
       "    .dataframe thead th {\n",
       "        text-align: right;\n",
       "    }\n",
       "</style>\n",
       "<table border=\"1\" class=\"dataframe\">\n",
       "  <thead>\n",
       "    <tr style=\"text-align: right;\">\n",
       "      <th></th>\n",
       "      <th>price</th>\n",
       "    </tr>\n",
       "    <tr>\n",
       "      <th>datetime</th>\n",
       "      <th></th>\n",
       "    </tr>\n",
       "  </thead>\n",
       "  <tbody>\n",
       "    <tr>\n",
       "      <th>2021-09-06 08:00:58</th>\n",
       "      <td>0.0</td>\n",
       "    </tr>\n",
       "    <tr>\n",
       "      <th>2021-09-07 04:33:04</th>\n",
       "      <td>0.0</td>\n",
       "    </tr>\n",
       "    <tr>\n",
       "      <th>2021-09-18 16:46:44</th>\n",
       "      <td>0.0</td>\n",
       "    </tr>\n",
       "    <tr>\n",
       "      <th>2021-09-21 23:56:11</th>\n",
       "      <td>0.0</td>\n",
       "    </tr>\n",
       "    <tr>\n",
       "      <th>2021-11-12 13:02:09</th>\n",
       "      <td>0.0</td>\n",
       "    </tr>\n",
       "    <tr>\n",
       "      <th>...</th>\n",
       "      <td>...</td>\n",
       "    </tr>\n",
       "    <tr>\n",
       "      <th>2023-10-11 00:49:11</th>\n",
       "      <td>0.0</td>\n",
       "    </tr>\n",
       "    <tr>\n",
       "      <th>2023-10-12 08:18:47</th>\n",
       "      <td>0.0</td>\n",
       "    </tr>\n",
       "    <tr>\n",
       "      <th>2023-10-16 19:15:35</th>\n",
       "      <td>0.0</td>\n",
       "    </tr>\n",
       "    <tr>\n",
       "      <th>2023-10-17 05:50:47</th>\n",
       "      <td>0.0</td>\n",
       "    </tr>\n",
       "    <tr>\n",
       "      <th>2023-10-18 10:58:23</th>\n",
       "      <td>0.0</td>\n",
       "    </tr>\n",
       "  </tbody>\n",
       "</table>\n",
       "<p>1556 rows × 1 columns</p>\n",
       "</div>"
      ],
      "text/plain": [
       "                     price\n",
       "datetime                  \n",
       "2021-09-06 08:00:58    0.0\n",
       "2021-09-07 04:33:04    0.0\n",
       "2021-09-18 16:46:44    0.0\n",
       "2021-09-21 23:56:11    0.0\n",
       "2021-11-12 13:02:09    0.0\n",
       "...                    ...\n",
       "2023-10-11 00:49:11    0.0\n",
       "2023-10-12 08:18:47    0.0\n",
       "2023-10-16 19:15:35    0.0\n",
       "2023-10-17 05:50:47    0.0\n",
       "2023-10-18 10:58:23    0.0\n",
       "\n",
       "[1556 rows x 1 columns]"
      ]
     },
     "execution_count": 7,
     "metadata": {},
     "output_type": "execute_result"
    }
   ],
   "source": [
    "# data points where trades have no price impact.\n",
    "test =df_m_500[['price']]-df_m_500[['price']].shift(1)\n",
    "bad_price_diff = test[test['price']==0]\n",
    "bad_price_diff"
   ]
  },
  {
   "cell_type": "code",
   "execution_count": 8,
   "id": "16c2297b-22fe-4916-bbda-e2ea089a80dc",
   "metadata": {
    "tags": []
   },
   "outputs": [
    {
     "data": {
      "text/plain": [
       "array([], dtype=float64)"
      ]
     },
     "execution_count": 8,
     "metadata": {},
     "output_type": "execute_result"
    }
   ],
   "source": [
    "#data points where the aamounts of one of token in trades are zero \n",
    "bad_volume = df_m_500[  (df_m_500['WETH']==0) | (df_m_500['USDC']==0) ]\n",
    "np.setdiff1d(bad_price_diff, bad_volume )"
   ]
  },
  {
   "cell_type": "code",
   "execution_count": 9,
   "id": "8a049dea-7187-47f7-8431-25432eebcfa0",
   "metadata": {
    "tags": []
   },
   "outputs": [],
   "source": [
    "df_m_500 = df_m_500[ ~ ( (df_m_500['WETH']==0) | (df_m_500['USDC']==0) )]"
   ]
  },
  {
   "cell_type": "markdown",
   "id": "4e5c6922-50d4-4efb-a681-0aff42e5f5af",
   "metadata": {},
   "source": [
    "#### Output to csv"
   ]
  },
  {
   "cell_type": "code",
   "execution_count": 11,
   "id": "3c58c811-2d99-4587-bf75-a5474820cd0c",
   "metadata": {
    "tags": []
   },
   "outputs": [],
   "source": [
    "df_m_500.to_csv(f'Data/organized data/{token_1}_{token_0}_mainnet_500/{token_1}_{token_0}_m_500_original.csv') "
   ]
  },
  {
   "cell_type": "markdown",
   "id": "331a57b0-1192-4424-a904-079376cb4df0",
   "metadata": {
    "tags": []
   },
   "source": [
    "#### Resemple and output to csv"
   ]
  },
  {
   "cell_type": "code",
   "execution_count": 21,
   "id": "9856ad13-85d7-495d-802d-0510df68b2d9",
   "metadata": {
    "tags": []
   },
   "outputs": [],
   "source": [
    "# df_m_500 = pd.read_csv(f'Data/organized data/WETH_USDC_mainnet_500/{token_1}_{token_0}_m_500_original.csv',index_col='datetime')\n",
    "# df_m_500.index=pd.to_datetime(df_m_500.index)"
   ]
  },
  {
   "cell_type": "code",
   "execution_count": 24,
   "id": "c9f9bc4f-182f-4018-9764-6af15dba8010",
   "metadata": {
    "tags": []
   },
   "outputs": [],
   "source": [
    "time_list = ['1min','5min','10min','30min','1H','6H','12H','1D','1W']\n",
    "order(df_m_500)\n",
    "for T in time_list:\n",
    "    df_res=  resample(df_m_500,T)\n",
    "    df_res.to_csv(f'Data/organized data/{token_1}_{token_0}_mainnet_500/{token_1}_{token_0}_m_500_{T}.csv') "
   ]
  },
  {
   "cell_type": "code",
   "execution_count": null,
   "id": "fe54d932-3629-4898-b7be-e107734eabea",
   "metadata": {},
   "outputs": [],
   "source": []
  },
  {
   "cell_type": "code",
   "execution_count": null,
   "id": "b0a6c638-ebcb-4879-ac9b-fca15823d001",
   "metadata": {},
   "outputs": [],
   "source": []
  },
  {
   "cell_type": "code",
   "execution_count": null,
   "id": "439b4dd1-f3f3-43c0-9e4d-65598a4ea956",
   "metadata": {},
   "outputs": [],
   "source": []
  },
  {
   "cell_type": "markdown",
   "id": "3efb935c-fb97-4ef1-8817-df545416e421",
   "metadata": {
    "tags": []
   },
   "source": [
    "### Arrival"
   ]
  },
  {
   "cell_type": "code",
   "execution_count": 76,
   "id": "035e93ca-73d6-4756-9d90-cb86906d9677",
   "metadata": {
    "tags": []
   },
   "outputs": [],
   "source": [
    "token_0 ='WETH'\n",
    "token_1 ='USDC'\n",
    "df_m_USDC_500 = pd.read_csv(f'Data/organized data/{token_0}_{token_1}_mainnet_500/{token_0}_{token_1}_m_500_original.csv',index_col='datetime') \n",
    "df_m_USDC_500.index = pd.to_datetime(df_m_USDC_500.index)\n",
    "arrival_m_USDC_500 = arrival(df_m_USDC_500)"
   ]
  },
  {
   "cell_type": "markdown",
   "id": "3694a2bc-7a9d-4789-b6d5-010930ff512e",
   "metadata": {
    "jp-MarkdownHeadingCollapsed": true,
    "tags": [],
    "toc-hr-collapsed": true
   },
   "source": [
    "## WETH vs USDC 0.3% Mainnet"
   ]
  },
  {
   "cell_type": "code",
   "execution_count": 100,
   "id": "eeea0e6e-8194-4572-9172-724775a510fa",
   "metadata": {},
   "outputs": [],
   "source": [
    "#using WETH vs USDC (now token_0 is USDC!)\n",
    "token_0 ='USDC'\n",
    "token_1 ='WETH'\n",
    "\n",
    "path = \"Data/Mainnet/WETH_USDC_mainnet\"\n",
    "with open(path + \"_config.json\", 'r') as f:\n",
    "    TransformData.config = json.load(f)\n",
    "df_m_3000 = TransformData.main(path+'_3000',token_0,token_1)"
   ]
  },
  {
   "cell_type": "code",
   "execution_count": 15,
   "id": "2803112b-1c2f-4c40-be4f-d144add684d0",
   "metadata": {
    "collapsed": true,
    "jupyter": {
     "outputs_hidden": true
    },
    "tags": []
   },
   "outputs": [
    {
     "data": {
      "text/html": [
       "<div>\n",
       "<style scoped>\n",
       "    .dataframe tbody tr th:only-of-type {\n",
       "        vertical-align: middle;\n",
       "    }\n",
       "\n",
       "    .dataframe tbody tr th {\n",
       "        vertical-align: top;\n",
       "    }\n",
       "\n",
       "    .dataframe thead th {\n",
       "        text-align: right;\n",
       "    }\n",
       "</style>\n",
       "<table border=\"1\" class=\"dataframe\">\n",
       "  <thead>\n",
       "    <tr style=\"text-align: right;\">\n",
       "      <th></th>\n",
       "      <th>blockNumber</th>\n",
       "      <th>price</th>\n",
       "      <th>USDC</th>\n",
       "      <th>WETH</th>\n",
       "      <th>liquidity</th>\n",
       "    </tr>\n",
       "    <tr>\n",
       "      <th>datetime</th>\n",
       "      <th></th>\n",
       "      <th></th>\n",
       "      <th></th>\n",
       "      <th></th>\n",
       "      <th></th>\n",
       "    </tr>\n",
       "  </thead>\n",
       "  <tbody>\n",
       "    <tr>\n",
       "      <th>2021-05-05 01:56:23</th>\n",
       "      <td>12371376</td>\n",
       "      <td>3306.001763</td>\n",
       "      <td>-0.329608</td>\n",
       "      <td>1.000000e-04</td>\n",
       "      <td>4303369674465501</td>\n",
       "    </tr>\n",
       "    <tr>\n",
       "      <th>2021-05-05 08:23:26</th>\n",
       "      <td>12373132</td>\n",
       "      <td>3301.602222</td>\n",
       "      <td>-164.694492</td>\n",
       "      <td>5.000000e-02</td>\n",
       "      <td>4303369674465501</td>\n",
       "    </tr>\n",
       "    <tr>\n",
       "      <th>2021-05-05 09:50:51</th>\n",
       "      <td>12373520</td>\n",
       "      <td>3301.593431</td>\n",
       "      <td>-0.329169</td>\n",
       "      <td>1.000000e-04</td>\n",
       "      <td>4303369674465501</td>\n",
       "    </tr>\n",
       "    <tr>\n",
       "      <th>2021-05-05 11:59:57</th>\n",
       "      <td>12374077</td>\n",
       "      <td>3301.593431</td>\n",
       "      <td>0.000002</td>\n",
       "      <td>-3.291690e-13</td>\n",
       "      <td>4304946248093346</td>\n",
       "    </tr>\n",
       "    <tr>\n",
       "      <th>2021-05-05 12:56:56</th>\n",
       "      <td>12374320</td>\n",
       "      <td>3343.219561</td>\n",
       "      <td>1559.137299</td>\n",
       "      <td>-4.678809e-01</td>\n",
       "      <td>4304946248093346</td>\n",
       "    </tr>\n",
       "    <tr>\n",
       "      <th>...</th>\n",
       "      <td>...</td>\n",
       "      <td>...</td>\n",
       "      <td>...</td>\n",
       "      <td>...</td>\n",
       "      <td>...</td>\n",
       "    </tr>\n",
       "    <tr>\n",
       "      <th>2023-10-18 13:53:11</th>\n",
       "      <td>18377659</td>\n",
       "      <td>1575.170298</td>\n",
       "      <td>-143588.212029</td>\n",
       "      <td>9.138098e+01</td>\n",
       "      <td>6536068487952795550</td>\n",
       "    </tr>\n",
       "    <tr>\n",
       "      <th>2023-10-18 14:37:47</th>\n",
       "      <td>18377880</td>\n",
       "      <td>1574.159744</td>\n",
       "      <td>-83224.674251</td>\n",
       "      <td>5.301134e+01</td>\n",
       "      <td>6536068487952795550</td>\n",
       "    </tr>\n",
       "    <tr>\n",
       "      <th>2023-10-18 15:50:35</th>\n",
       "      <td>18378240</td>\n",
       "      <td>1573.969224</td>\n",
       "      <td>-15693.422876</td>\n",
       "      <td>1.000000e+01</td>\n",
       "      <td>6536068487952795550</td>\n",
       "    </tr>\n",
       "    <tr>\n",
       "      <th>2023-10-18 15:59:47</th>\n",
       "      <td>18378285</td>\n",
       "      <td>1574.058461</td>\n",
       "      <td>7372.864546</td>\n",
       "      <td>-4.670064e+00</td>\n",
       "      <td>6536068487952795550</td>\n",
       "    </tr>\n",
       "    <tr>\n",
       "      <th>2023-10-18 16:13:59</th>\n",
       "      <td>18378355</td>\n",
       "      <td>1574.048962</td>\n",
       "      <td>-782.458799</td>\n",
       "      <td>4.985937e-01</td>\n",
       "      <td>6536068487952795550</td>\n",
       "    </tr>\n",
       "  </tbody>\n",
       "</table>\n",
       "<p>444020 rows × 5 columns</p>\n",
       "</div>"
      ],
      "text/plain": [
       "                     blockNumber        price           USDC          WETH  \\\n",
       "datetime                                                                     \n",
       "2021-05-05 01:56:23     12371376  3306.001763      -0.329608  1.000000e-04   \n",
       "2021-05-05 08:23:26     12373132  3301.602222    -164.694492  5.000000e-02   \n",
       "2021-05-05 09:50:51     12373520  3301.593431      -0.329169  1.000000e-04   \n",
       "2021-05-05 11:59:57     12374077  3301.593431       0.000002 -3.291690e-13   \n",
       "2021-05-05 12:56:56     12374320  3343.219561    1559.137299 -4.678809e-01   \n",
       "...                          ...          ...            ...           ...   \n",
       "2023-10-18 13:53:11     18377659  1575.170298 -143588.212029  9.138098e+01   \n",
       "2023-10-18 14:37:47     18377880  1574.159744  -83224.674251  5.301134e+01   \n",
       "2023-10-18 15:50:35     18378240  1573.969224  -15693.422876  1.000000e+01   \n",
       "2023-10-18 15:59:47     18378285  1574.058461    7372.864546 -4.670064e+00   \n",
       "2023-10-18 16:13:59     18378355  1574.048962    -782.458799  4.985937e-01   \n",
       "\n",
       "                               liquidity  \n",
       "datetime                                  \n",
       "2021-05-05 01:56:23     4303369674465501  \n",
       "2021-05-05 08:23:26     4303369674465501  \n",
       "2021-05-05 09:50:51     4303369674465501  \n",
       "2021-05-05 11:59:57     4304946248093346  \n",
       "2021-05-05 12:56:56     4304946248093346  \n",
       "...                                  ...  \n",
       "2023-10-18 13:53:11  6536068487952795550  \n",
       "2023-10-18 14:37:47  6536068487952795550  \n",
       "2023-10-18 15:50:35  6536068487952795550  \n",
       "2023-10-18 15:59:47  6536068487952795550  \n",
       "2023-10-18 16:13:59  6536068487952795550  \n",
       "\n",
       "[444020 rows x 5 columns]"
      ]
     },
     "execution_count": 15,
     "metadata": {},
     "output_type": "execute_result"
    }
   ],
   "source": [
    "df_m_3000"
   ]
  },
  {
   "cell_type": "markdown",
   "id": "a5991bf7-9a54-41ea-a024-7470f4d7f535",
   "metadata": {
    "jp-MarkdownHeadingCollapsed": true,
    "tags": []
   },
   "source": [
    "### A first look at data"
   ]
  },
  {
   "cell_type": "code",
   "execution_count": 101,
   "id": "7d5e0259-d93a-4cff-8ee9-cf5e000e083d",
   "metadata": {
    "collapsed": true,
    "jupyter": {
     "outputs_hidden": true
    },
    "tags": []
   },
   "outputs": [
    {
     "data": {
      "image/png": "[encoded data removed]",
      "text/plain": [
       "<Figure size 640x480 with 1 Axes>"
      ]
     },
     "metadata": {},
     "output_type": "display_data"
    }
   ],
   "source": [
    "plt.plot(df_m_3000.index.values,df_m_3000['price'].values , label='mainnet 3000')\n",
    "plt.xlabel(\"date\")\n",
    "plt.ylabel(\"price\")\n",
    "plt.xticks(rotation=45);"
   ]
  },
  {
   "cell_type": "markdown",
   "id": "3467aedc-f18b-4911-9fca-5bbc23c914a9",
   "metadata": {
    "tags": []
   },
   "source": [
    "#### Liquidity dtype\n",
    "The liquidity is too large (not sure what unit it is in raw data) so that pandas reads it as str."
   ]
  },
  {
   "cell_type": "code",
   "execution_count": 20,
   "id": "7984dc69-58d4-4866-8b97-865324cd2806",
   "metadata": {
    "tags": []
   },
   "outputs": [],
   "source": [
    "df_m_3000['liquidity']=df_m_3000['liquidity'].astype(float)"
   ]
  },
  {
   "cell_type": "markdown",
   "id": "cc65f8ba-2669-46fb-ab85-e79c1d9a286f",
   "metadata": {},
   "source": [
    "#### Early data points\n",
    "Before 2021-09-01, the frequency of trading is very low. This may be because the pool is just started. So we ignore those data points. "
   ]
  },
  {
   "cell_type": "code",
   "execution_count": 21,
   "id": "44543565-3bd9-4190-9d22-b07b0211ece5",
   "metadata": {
    "tags": []
   },
   "outputs": [],
   "source": [
    "df_m_3000 = df_m_3000[df_m_3000.index> '2021-09-01'] #discard first few data points "
   ]
  },
  {
   "cell_type": "markdown",
   "id": "3c6e944a-456d-4f31-a7a7-7a30774af2a7",
   "metadata": {},
   "source": [
    "#### Trades with no price impact/reserves change "
   ]
  },
  {
   "cell_type": "code",
   "execution_count": 22,
   "id": "4236d2fc-cfed-440e-87c5-dc69ab7c501e",
   "metadata": {
    "tags": []
   },
   "outputs": [
    {
     "data": {
      "text/html": [
       "<div>\n",
       "<style scoped>\n",
       "    .dataframe tbody tr th:only-of-type {\n",
       "        vertical-align: middle;\n",
       "    }\n",
       "\n",
       "    .dataframe tbody tr th {\n",
       "        vertical-align: top;\n",
       "    }\n",
       "\n",
       "    .dataframe thead th {\n",
       "        text-align: right;\n",
       "    }\n",
       "</style>\n",
       "<table border=\"1\" class=\"dataframe\">\n",
       "  <thead>\n",
       "    <tr style=\"text-align: right;\">\n",
       "      <th></th>\n",
       "      <th>price</th>\n",
       "    </tr>\n",
       "    <tr>\n",
       "      <th>datetime</th>\n",
       "      <th></th>\n",
       "    </tr>\n",
       "  </thead>\n",
       "  <tbody>\n",
       "    <tr>\n",
       "      <th>2021-12-08 22:10:48</th>\n",
       "      <td>0.0</td>\n",
       "    </tr>\n",
       "    <tr>\n",
       "      <th>2022-03-08 16:05:37</th>\n",
       "      <td>0.0</td>\n",
       "    </tr>\n",
       "    <tr>\n",
       "      <th>2022-03-08 16:31:12</th>\n",
       "      <td>0.0</td>\n",
       "    </tr>\n",
       "    <tr>\n",
       "      <th>2022-04-05 02:14:56</th>\n",
       "      <td>0.0</td>\n",
       "    </tr>\n",
       "    <tr>\n",
       "      <th>2022-04-05 07:39:12</th>\n",
       "      <td>0.0</td>\n",
       "    </tr>\n",
       "    <tr>\n",
       "      <th>...</th>\n",
       "      <td>...</td>\n",
       "    </tr>\n",
       "    <tr>\n",
       "      <th>2023-06-09 22:23:59</th>\n",
       "      <td>0.0</td>\n",
       "    </tr>\n",
       "    <tr>\n",
       "      <th>2023-06-30 06:19:47</th>\n",
       "      <td>0.0</td>\n",
       "    </tr>\n",
       "    <tr>\n",
       "      <th>2023-07-21 02:55:23</th>\n",
       "      <td>0.0</td>\n",
       "    </tr>\n",
       "    <tr>\n",
       "      <th>2023-08-30 10:32:23</th>\n",
       "      <td>0.0</td>\n",
       "    </tr>\n",
       "    <tr>\n",
       "      <th>2023-08-30 10:35:35</th>\n",
       "      <td>0.0</td>\n",
       "    </tr>\n",
       "  </tbody>\n",
       "</table>\n",
       "<p>317 rows × 1 columns</p>\n",
       "</div>"
      ],
      "text/plain": [
       "                     price\n",
       "datetime                  \n",
       "2021-12-08 22:10:48    0.0\n",
       "2022-03-08 16:05:37    0.0\n",
       "2022-03-08 16:31:12    0.0\n",
       "2022-04-05 02:14:56    0.0\n",
       "2022-04-05 07:39:12    0.0\n",
       "...                    ...\n",
       "2023-06-09 22:23:59    0.0\n",
       "2023-06-30 06:19:47    0.0\n",
       "2023-07-21 02:55:23    0.0\n",
       "2023-08-30 10:32:23    0.0\n",
       "2023-08-30 10:35:35    0.0\n",
       "\n",
       "[317 rows x 1 columns]"
      ]
     },
     "execution_count": 22,
     "metadata": {},
     "output_type": "execute_result"
    }
   ],
   "source": [
    "# data points where trades have no price impact.\n",
    "test =df_m_3000[['price']]-df_m_3000[['price']].shift(1)\n",
    "bad_price_diff = test[test['price']==0]\n",
    "bad_price_diff"
   ]
  },
  {
   "cell_type": "code",
   "execution_count": 23,
   "id": "07e0d98b-878c-4f02-acef-0e223b4c5752",
   "metadata": {
    "tags": []
   },
   "outputs": [
    {
     "data": {
      "text/plain": [
       "array([], dtype=float64)"
      ]
     },
     "execution_count": 23,
     "metadata": {},
     "output_type": "execute_result"
    }
   ],
   "source": [
    "#data points where the aamounts of one of token in trades are zero \n",
    "bad_volume = df_m_3000[  (df_m_3000['WETH']==0) | (df_m_3000['USDC']==0) ]\n",
    "np.setdiff1d(bad_price_diff, bad_volume )"
   ]
  },
  {
   "cell_type": "code",
   "execution_count": 24,
   "id": "73c12661-522a-4bb2-9bc9-001b496ecc60",
   "metadata": {
    "tags": []
   },
   "outputs": [],
   "source": [
    "df_m_3000 = df_m_3000[ ~ ( (df_m_3000['WETH']==0) | (df_m_3000['USDC']==0) )]"
   ]
  },
  {
   "cell_type": "markdown",
   "id": "a1d7424c-93bc-442c-a51d-52e930e12db1",
   "metadata": {},
   "source": [
    "#### Output to csv"
   ]
  },
  {
   "cell_type": "code",
   "execution_count": 26,
   "id": "ed395f0e-0420-4ec2-ac06-f8d8fb9e890a",
   "metadata": {
    "tags": []
   },
   "outputs": [],
   "source": [
    "df_m_3000.to_csv(f'Data/organized data/{token_1}_{token_0}_mainnet_3000/{token_1}_{token_0}_m_3000_original.csv') "
   ]
  },
  {
   "cell_type": "markdown",
   "id": "df85c042-045b-4e3c-93e7-66583d2975cd",
   "metadata": {},
   "source": [
    "#### Resemple and output to csv"
   ]
  },
  {
   "cell_type": "code",
   "execution_count": 26,
   "id": "b74e7646-8461-43e6-aad4-f0ddc8b06eab",
   "metadata": {
    "tags": []
   },
   "outputs": [],
   "source": [
    "# df_m_3000 = pd.read_csv(f'Data/organized data/WETH_USDC_mainnet_3000/{token_1}_{token_0}_m_3000_original.csv',index_col='datetime')\n",
    "# df_m_3000.index=pd.to_datetime(df_m_3000.index)"
   ]
  },
  {
   "cell_type": "code",
   "execution_count": 27,
   "id": "f819e394-ee20-4398-bdef-167a86d0970e",
   "metadata": {
    "tags": []
   },
   "outputs": [],
   "source": [
    "time_list = ['1min','5min','10min','30min','1H','6H','12H','1D','1W']\n",
    "order(df_m_3000)\n",
    "for T in time_list:\n",
    "    df_res=  resample(df_m_3000,T)\n",
    "    df_res.to_csv(f'Data/organized data/{token_1}_{token_0}_mainnet_3000/{token_1}_{token_0}_m_3000_{T}.csv') "
   ]
  },
  {
   "cell_type": "code",
   "execution_count": null,
   "id": "5d2dad0d-f544-443c-a3d2-6bb40212cda6",
   "metadata": {},
   "outputs": [],
   "source": []
  },
  {
   "cell_type": "code",
   "execution_count": null,
   "id": "5bf221ca-1258-4701-b724-b396ad935ebf",
   "metadata": {},
   "outputs": [],
   "source": []
  },
  {
   "cell_type": "markdown",
   "id": "60ef3c6a-554f-48ef-8103-58aaeecd6f7b",
   "metadata": {},
   "source": [
    "### Arrival"
   ]
  },
  {
   "cell_type": "code",
   "execution_count": 78,
   "id": "e79b814e-d4c3-4093-b205-341090b52dd8",
   "metadata": {
    "tags": []
   },
   "outputs": [],
   "source": [
    "token_0 ='WETH'\n",
    "token_1 ='USDC'\n",
    "df_m_USDC_3000 = pd.read_csv(f'Data/organized data/{token_0}_{token_1}_mainnet_3000/{token_0}_{token_1}_m_3000_original.csv',index_col='datetime') \n",
    "df_m_USDC_3000.index = pd.to_datetime(df_m_USDC_3000.index)\n",
    "arrival_m_USDC_3000 = arrival(df_m_USDC_3000)"
   ]
  },
  {
   "cell_type": "markdown",
   "id": "b3c97326-c941-4614-84a1-93584a889a02",
   "metadata": {
    "jp-MarkdownHeadingCollapsed": true,
    "tags": [],
    "toc-hr-collapsed": true
   },
   "source": [
    "## WETH vs USDT 0.05% Mainnet"
   ]
  },
  {
   "cell_type": "code",
   "execution_count": 110,
   "id": "93cef2db-eff0-4a2a-9960-6b5372144ad7",
   "metadata": {
    "tags": []
   },
   "outputs": [
    {
     "name": "stderr",
     "output_type": "stream",
     "text": [
      "C:\\Users\\std92\\OneDrive\\文件\\AMM\\other's notes and codes\\token_style\\TransformData.py:52: DtypeWarning: Columns (5) have mixed types. Specify dtype option on import or set low_memory=False.\n",
      "  df = pd.read_csv(path + \".csv\", index_col=0)\n"
     ]
    }
   ],
   "source": [
    "#using WETH vs USDT\n",
    "token_0 ='WETH'\n",
    "token_1 ='USDT'\n",
    "path0 = \"Data/Arbitrum/WETH_USDC_arbitrum_3000\"\n",
    "path = \"Data/Mainnet/WETH_USDT_mainnet\"\n",
    "with open(path0 + \"_config.json\", 'r') as f:\n",
    "    TransformData.config = json.load(f)\n",
    "df_m_500 = TransformData.main(path+'_500',token_0,token_1)"
   ]
  },
  {
   "cell_type": "code",
   "execution_count": null,
   "id": "bcb4d1e3-3814-45c1-8aa5-e9a0eb1f291a",
   "metadata": {},
   "outputs": [],
   "source": []
  },
  {
   "cell_type": "markdown",
   "id": "e3986000-60c4-4e1a-84b2-39af91b50b49",
   "metadata": {
    "tags": []
   },
   "source": [
    "### A first look at data\n",
    "Before processing the data, we need to check the data first and pick out those defected data ponits. Sometimes the\n",
    "values may be too big or too small and they lead to some unexpected problems."
   ]
  },
  {
   "cell_type": "code",
   "execution_count": 50,
   "id": "da12427e-620e-44c7-ae10-8947c76ed6a7",
   "metadata": {
    "collapsed": true,
    "jupyter": {
     "outputs_hidden": true
    },
    "tags": []
   },
   "outputs": [
    {
     "data": {
      "text/html": [
       "<div>\n",
       "<style scoped>\n",
       "    .dataframe tbody tr th:only-of-type {\n",
       "        vertical-align: middle;\n",
       "    }\n",
       "\n",
       "    .dataframe tbody tr th {\n",
       "        vertical-align: top;\n",
       "    }\n",
       "\n",
       "    .dataframe thead th {\n",
       "        text-align: right;\n",
       "    }\n",
       "</style>\n",
       "<table border=\"1\" class=\"dataframe\">\n",
       "  <thead>\n",
       "    <tr style=\"text-align: right;\">\n",
       "      <th></th>\n",
       "      <th>blockNumber</th>\n",
       "      <th>price</th>\n",
       "      <th>WETH</th>\n",
       "      <th>USDT</th>\n",
       "      <th>liquidity</th>\n",
       "    </tr>\n",
       "    <tr>\n",
       "      <th>datetime</th>\n",
       "      <th></th>\n",
       "      <th></th>\n",
       "      <th></th>\n",
       "      <th></th>\n",
       "      <th></th>\n",
       "    </tr>\n",
       "  </thead>\n",
       "  <tbody>\n",
       "    <tr>\n",
       "      <th>2021-05-05 22:23:23</th>\n",
       "      <td>12376933</td>\n",
       "      <td>3427.204448</td>\n",
       "      <td>0.122272</td>\n",
       "      <td>-419.805363</td>\n",
       "      <td>3117440114692251</td>\n",
       "    </tr>\n",
       "    <tr>\n",
       "      <th>2021-05-05 22:41:21</th>\n",
       "      <td>12377020</td>\n",
       "      <td>3486.777109</td>\n",
       "      <td>-0.433911</td>\n",
       "      <td>1500.722698</td>\n",
       "      <td>2960815357424257</td>\n",
       "    </tr>\n",
       "    <tr>\n",
       "      <th>2021-05-05 22:44:00</th>\n",
       "      <td>12377033</td>\n",
       "      <td>3569.760781</td>\n",
       "      <td>-0.586231</td>\n",
       "      <td>2069.273247</td>\n",
       "      <td>2960815357424257</td>\n",
       "    </tr>\n",
       "    <tr>\n",
       "      <th>2021-05-05 22:47:31</th>\n",
       "      <td>12377053</td>\n",
       "      <td>3555.404307</td>\n",
       "      <td>0.100000</td>\n",
       "      <td>-356.079402</td>\n",
       "      <td>2960815357424257</td>\n",
       "    </tr>\n",
       "    <tr>\n",
       "      <th>2021-05-05 22:47:53</th>\n",
       "      <td>12377055</td>\n",
       "      <td>3551.176421</td>\n",
       "      <td>0.029565</td>\n",
       "      <td>-105.000000</td>\n",
       "      <td>2960815357424257</td>\n",
       "    </tr>\n",
       "    <tr>\n",
       "      <th>2021-05-05 22:49:02</th>\n",
       "      <td>12377062</td>\n",
       "      <td>3549.748090</td>\n",
       "      <td>0.010000</td>\n",
       "      <td>-35.486869</td>\n",
       "      <td>2960815357424257</td>\n",
       "    </tr>\n",
       "    <tr>\n",
       "      <th>2021-05-05 22:49:53</th>\n",
       "      <td>12377068</td>\n",
       "      <td>3531.966426</td>\n",
       "      <td>0.125000</td>\n",
       "      <td>-442.384459</td>\n",
       "      <td>2960815357424257</td>\n",
       "    </tr>\n",
       "    <tr>\n",
       "      <th>2021-05-05 22:52:14</th>\n",
       "      <td>12377080</td>\n",
       "      <td>3485.713908</td>\n",
       "      <td>0.329610</td>\n",
       "      <td>-1155.945276</td>\n",
       "      <td>2960815357424257</td>\n",
       "    </tr>\n",
       "    <tr>\n",
       "      <th>2021-05-05 23:00:57</th>\n",
       "      <td>12377122</td>\n",
       "      <td>3505.506801</td>\n",
       "      <td>-0.142897</td>\n",
       "      <td>499.760879</td>\n",
       "      <td>2984192514712684</td>\n",
       "    </tr>\n",
       "    <tr>\n",
       "      <th>2021-05-05 23:01:49</th>\n",
       "      <td>12377127</td>\n",
       "      <td>3517.415135</td>\n",
       "      <td>-0.085392</td>\n",
       "      <td>300.000000</td>\n",
       "      <td>2984192514712684</td>\n",
       "    </tr>\n",
       "    <tr>\n",
       "      <th>2021-05-05 23:09:53</th>\n",
       "      <td>12377163</td>\n",
       "      <td>3496.979077</td>\n",
       "      <td>0.147007</td>\n",
       "      <td>-515.322729</td>\n",
       "      <td>2986701388502403</td>\n",
       "    </tr>\n",
       "    <tr>\n",
       "      <th>2021-05-05 23:26:30</th>\n",
       "      <td>12377229</td>\n",
       "      <td>3505.562347</td>\n",
       "      <td>-0.061869</td>\n",
       "      <td>216.730000</td>\n",
       "      <td>2986701388502403</td>\n",
       "    </tr>\n",
       "    <tr>\n",
       "      <th>2021-05-05 23:31:53</th>\n",
       "      <td>12377255</td>\n",
       "      <td>3521.842396</td>\n",
       "      <td>-0.155366</td>\n",
       "      <td>546.445728</td>\n",
       "      <td>9139784908180305</td>\n",
       "    </tr>\n",
       "    <tr>\n",
       "      <th>2021-05-05 23:47:15</th>\n",
       "      <td>12377323</td>\n",
       "      <td>3521.385319</td>\n",
       "      <td>0.010000</td>\n",
       "      <td>-35.198530</td>\n",
       "      <td>9139784908180305</td>\n",
       "    </tr>\n",
       "    <tr>\n",
       "      <th>2021-05-05 23:48:19</th>\n",
       "      <td>12377327</td>\n",
       "      <td>3521.500114</td>\n",
       "      <td>-0.002510</td>\n",
       "      <td>8.844781</td>\n",
       "      <td>9139784908180305</td>\n",
       "    </tr>\n",
       "  </tbody>\n",
       "</table>\n",
       "</div>"
      ],
      "text/plain": [
       "                     blockNumber        price      WETH         USDT  \\\n",
       "datetime                                                               \n",
       "2021-05-05 22:23:23     12376933  3427.204448  0.122272  -419.805363   \n",
       "2021-05-05 22:41:21     12377020  3486.777109 -0.433911  1500.722698   \n",
       "2021-05-05 22:44:00     12377033  3569.760781 -0.586231  2069.273247   \n",
       "2021-05-05 22:47:31     12377053  3555.404307  0.100000  -356.079402   \n",
       "2021-05-05 22:47:53     12377055  3551.176421  0.029565  -105.000000   \n",
       "2021-05-05 22:49:02     12377062  3549.748090  0.010000   -35.486869   \n",
       "2021-05-05 22:49:53     12377068  3531.966426  0.125000  -442.384459   \n",
       "2021-05-05 22:52:14     12377080  3485.713908  0.329610 -1155.945276   \n",
       "2021-05-05 23:00:57     12377122  3505.506801 -0.142897   499.760879   \n",
       "2021-05-05 23:01:49     12377127  3517.415135 -0.085392   300.000000   \n",
       "2021-05-05 23:09:53     12377163  3496.979077  0.147007  -515.322729   \n",
       "2021-05-05 23:26:30     12377229  3505.562347 -0.061869   216.730000   \n",
       "2021-05-05 23:31:53     12377255  3521.842396 -0.155366   546.445728   \n",
       "2021-05-05 23:47:15     12377323  3521.385319  0.010000   -35.198530   \n",
       "2021-05-05 23:48:19     12377327  3521.500114 -0.002510     8.844781   \n",
       "\n",
       "                            liquidity  \n",
       "datetime                               \n",
       "2021-05-05 22:23:23  3117440114692251  \n",
       "2021-05-05 22:41:21  2960815357424257  \n",
       "2021-05-05 22:44:00  2960815357424257  \n",
       "2021-05-05 22:47:31  2960815357424257  \n",
       "2021-05-05 22:47:53  2960815357424257  \n",
       "2021-05-05 22:49:02  2960815357424257  \n",
       "2021-05-05 22:49:53  2960815357424257  \n",
       "2021-05-05 22:52:14  2960815357424257  \n",
       "2021-05-05 23:00:57  2984192514712684  \n",
       "2021-05-05 23:01:49  2984192514712684  \n",
       "2021-05-05 23:09:53  2986701388502403  \n",
       "2021-05-05 23:26:30  2986701388502403  \n",
       "2021-05-05 23:31:53  9139784908180305  \n",
       "2021-05-05 23:47:15  9139784908180305  \n",
       "2021-05-05 23:48:19  9139784908180305  "
      ]
     },
     "execution_count": 50,
     "metadata": {},
     "output_type": "execute_result"
    }
   ],
   "source": [
    "df_m_500.head(15)"
   ]
  },
  {
   "cell_type": "markdown",
   "id": "40361201-9ae7-4639-8965-3a802bc2778a",
   "metadata": {},
   "source": [
    "#### Anomalously high price\n",
    "Trying to plot the price trajectory. It shows that there's a data point with the price having rougly $10^{50}$ order, which doesn't make sense."
   ]
  },
  {
   "cell_type": "code",
   "execution_count": 112,
   "id": "b7af9ed9-b1d9-48f7-b7c1-9bb290c81b90",
   "metadata": {
    "tags": []
   },
   "outputs": [
    {
     "data": {
      "image/png": "[encoded data removed]",
      "text/plain": [
       "<Figure size 640x480 with 1 Axes>"
      ]
     },
     "metadata": {},
     "output_type": "display_data"
    }
   ],
   "source": [
    "plt.plot(df_m_500.index.values,df_m_500['price'].values,label='mainnet 500 USDT')\n",
    "plt.plot(df_m_500_2.index.values,df_m_500_2['price'].values , label='mainnet 500 USDC')\n",
    "plt.legend()\n",
    "plt.xlabel(\"date\")\n",
    "plt.ylabel(\"price\")\n",
    "plt.xticks(rotation=45);"
   ]
  },
  {
   "cell_type": "markdown",
   "id": "2915d9ae-bcc1-4be7-8697-15b972d72939",
   "metadata": {
    "jp-MarkdownHeadingCollapsed": true,
    "tags": [],
    "toc-hr-collapsed": true
   },
   "source": [
    "## Anomalously low price??? \n",
    "2022 5/12 ~ 2022/7/13 ? why? doesn't mathc the results on the price history website!"
   ]
  },
  {
   "cell_type": "code",
   "execution_count": 191,
   "id": "d760f60d-ec56-4419-a6a8-024bb9128835",
   "metadata": {
    "tags": []
   },
   "outputs": [
    {
     "data": {
      "text/html": [
       "<div>\n",
       "<style scoped>\n",
       "    .dataframe tbody tr th:only-of-type {\n",
       "        vertical-align: middle;\n",
       "    }\n",
       "\n",
       "    .dataframe tbody tr th {\n",
       "        vertical-align: top;\n",
       "    }\n",
       "\n",
       "    .dataframe thead th {\n",
       "        text-align: right;\n",
       "    }\n",
       "</style>\n",
       "<table border=\"1\" class=\"dataframe\">\n",
       "  <thead>\n",
       "    <tr style=\"text-align: right;\">\n",
       "      <th></th>\n",
       "      <th>blockNumber</th>\n",
       "      <th>price</th>\n",
       "      <th>WETH</th>\n",
       "      <th>USDT</th>\n",
       "      <th>liquidity</th>\n",
       "    </tr>\n",
       "    <tr>\n",
       "      <th>datetime</th>\n",
       "      <th></th>\n",
       "      <th></th>\n",
       "      <th></th>\n",
       "      <th></th>\n",
       "      <th></th>\n",
       "    </tr>\n",
       "  </thead>\n",
       "  <tbody>\n",
       "    <tr>\n",
       "      <th>2022-05-12 12:23:01</th>\n",
       "      <td>14761061</td>\n",
       "      <td>19.273130</td>\n",
       "      <td>383.578565</td>\n",
       "      <td>-4.886526e+05</td>\n",
       "      <td>584670201903544</td>\n",
       "    </tr>\n",
       "    <tr>\n",
       "      <th>2022-05-12 12:52:04</th>\n",
       "      <td>14761176</td>\n",
       "      <td>16.223886</td>\n",
       "      <td>16.000000</td>\n",
       "      <td>-2.915757e+02</td>\n",
       "      <td>584670201903544</td>\n",
       "    </tr>\n",
       "    <tr>\n",
       "      <th>2022-05-18 07:40:12</th>\n",
       "      <td>14797574</td>\n",
       "      <td>31.181294</td>\n",
       "      <td>1222.881028</td>\n",
       "      <td>-2.167913e+06</td>\n",
       "      <td>584670201903544</td>\n",
       "    </tr>\n",
       "    <tr>\n",
       "      <th>2022-05-22 14:56:23</th>\n",
       "      <td>14824009</td>\n",
       "      <td>70.675248</td>\n",
       "      <td>1222.881028</td>\n",
       "      <td>-2.220143e+06</td>\n",
       "      <td>590166714180892</td>\n",
       "    </tr>\n",
       "    <tr>\n",
       "      <th>2022-05-27 08:06:27</th>\n",
       "      <td>14853005</td>\n",
       "      <td>906.208107</td>\n",
       "      <td>182.895457</td>\n",
       "      <td>-2.986734e+05</td>\n",
       "      <td>2272975502929994</td>\n",
       "    </tr>\n",
       "    <tr>\n",
       "      <th>...</th>\n",
       "      <td>...</td>\n",
       "      <td>...</td>\n",
       "      <td>...</td>\n",
       "      <td>...</td>\n",
       "      <td>...</td>\n",
       "    </tr>\n",
       "    <tr>\n",
       "      <th>2022-07-12 02:28:02</th>\n",
       "      <td>15125159</td>\n",
       "      <td>990.176115</td>\n",
       "      <td>1098.848747</td>\n",
       "      <td>-1.147596e+06</td>\n",
       "      <td>81977408086664125</td>\n",
       "    </tr>\n",
       "    <tr>\n",
       "      <th>2022-07-12 07:28:53</th>\n",
       "      <td>15126536</td>\n",
       "      <td>971.077787</td>\n",
       "      <td>837.644576</td>\n",
       "      <td>-8.621629e+05</td>\n",
       "      <td>73742083969224972</td>\n",
       "    </tr>\n",
       "    <tr>\n",
       "      <th>2022-07-12 19:40:43</th>\n",
       "      <td>15129796</td>\n",
       "      <td>969.078319</td>\n",
       "      <td>506.946288</td>\n",
       "      <td>-5.142706e+05</td>\n",
       "      <td>82798469927779544</td>\n",
       "    </tr>\n",
       "    <tr>\n",
       "      <th>2022-07-13 10:17:43</th>\n",
       "      <td>15133701</td>\n",
       "      <td>797.747392</td>\n",
       "      <td>1037.397034</td>\n",
       "      <td>-1.063475e+06</td>\n",
       "      <td>4704126356079661</td>\n",
       "    </tr>\n",
       "    <tr>\n",
       "      <th>2022-07-13 12:54:17</th>\n",
       "      <td>15134372</td>\n",
       "      <td>941.810037</td>\n",
       "      <td>448.742606</td>\n",
       "      <td>-4.519374e+05</td>\n",
       "      <td>52419067911058453</td>\n",
       "    </tr>\n",
       "  </tbody>\n",
       "</table>\n",
       "<p>1863 rows × 5 columns</p>\n",
       "</div>"
      ],
      "text/plain": [
       "                     blockNumber       price         WETH          USDT  \\\n",
       "datetime                                                                  \n",
       "2022-05-12 12:23:01     14761061   19.273130   383.578565 -4.886526e+05   \n",
       "2022-05-12 12:52:04     14761176   16.223886    16.000000 -2.915757e+02   \n",
       "2022-05-18 07:40:12     14797574   31.181294  1222.881028 -2.167913e+06   \n",
       "2022-05-22 14:56:23     14824009   70.675248  1222.881028 -2.220143e+06   \n",
       "2022-05-27 08:06:27     14853005  906.208107   182.895457 -2.986734e+05   \n",
       "...                          ...         ...          ...           ...   \n",
       "2022-07-12 02:28:02     15125159  990.176115  1098.848747 -1.147596e+06   \n",
       "2022-07-12 07:28:53     15126536  971.077787   837.644576 -8.621629e+05   \n",
       "2022-07-12 19:40:43     15129796  969.078319   506.946288 -5.142706e+05   \n",
       "2022-07-13 10:17:43     15133701  797.747392  1037.397034 -1.063475e+06   \n",
       "2022-07-13 12:54:17     15134372  941.810037   448.742606 -4.519374e+05   \n",
       "\n",
       "                             liquidity  \n",
       "datetime                                \n",
       "2022-05-12 12:23:01    584670201903544  \n",
       "2022-05-12 12:52:04    584670201903544  \n",
       "2022-05-18 07:40:12    584670201903544  \n",
       "2022-05-22 14:56:23    590166714180892  \n",
       "2022-05-27 08:06:27   2272975502929994  \n",
       "...                                ...  \n",
       "2022-07-12 02:28:02  81977408086664125  \n",
       "2022-07-12 07:28:53  73742083969224972  \n",
       "2022-07-12 19:40:43  82798469927779544  \n",
       "2022-07-13 10:17:43   4704126356079661  \n",
       "2022-07-13 12:54:17  52419067911058453  \n",
       "\n",
       "[1863 rows x 5 columns]"
      ]
     },
     "execution_count": 191,
     "metadata": {},
     "output_type": "execute_result"
    }
   ],
   "source": [
    "df_m_500[df_m_500['price']<1000]  "
   ]
  },
  {
   "cell_type": "code",
   "execution_count": 6,
   "id": "3091a230-5b78-4842-9fb0-56851b3369d3",
   "metadata": {
    "tags": []
   },
   "outputs": [],
   "source": [
    "#drop the flawed data points whose price is greater than 10**5 (from the raw data, such cases have zero liquidity) \n",
    "df_m_500.drop( df_m_500[ df_m_500['price']>10**5 ].index , inplace=True ) "
   ]
  },
  {
   "cell_type": "markdown",
   "id": "b41036a6-1066-4b94-b968-0c798e3c1fb9",
   "metadata": {
    "tags": []
   },
   "source": [
    "#### Liquidity dtype"
   ]
  },
  {
   "cell_type": "code",
   "execution_count": 7,
   "id": "18e3935c-cf0e-4092-adf9-cbc8af874d52",
   "metadata": {
    "tags": []
   },
   "outputs": [],
   "source": [
    "df_m_500['liquidity']=df_m_500['liquidity'].astype(float)"
   ]
  },
  {
   "cell_type": "markdown",
   "id": "3ef5a13d-23bb-4516-8ce4-23f11ac56532",
   "metadata": {},
   "source": [
    "#### Early data points"
   ]
  },
  {
   "cell_type": "code",
   "execution_count": 8,
   "id": "ef66faec-70d7-4240-a513-75e9224d226f",
   "metadata": {
    "tags": []
   },
   "outputs": [],
   "source": [
    "df_m_500 = df_m_500[df_m_500.index> '2021-09-01'] #discard first few data points "
   ]
  },
  {
   "cell_type": "markdown",
   "id": "a2c06441-a63d-4036-8a78-5eccd12fe9c5",
   "metadata": {},
   "source": [
    "#### Trades with no price impact/reserves change "
   ]
  },
  {
   "cell_type": "code",
   "execution_count": 9,
   "id": "9446b278-c9ac-4aec-905b-db534f6d5f79",
   "metadata": {
    "tags": []
   },
   "outputs": [
    {
     "data": {
      "text/html": [
       "<div>\n",
       "<style scoped>\n",
       "    .dataframe tbody tr th:only-of-type {\n",
       "        vertical-align: middle;\n",
       "    }\n",
       "\n",
       "    .dataframe tbody tr th {\n",
       "        vertical-align: top;\n",
       "    }\n",
       "\n",
       "    .dataframe thead th {\n",
       "        text-align: right;\n",
       "    }\n",
       "</style>\n",
       "<table border=\"1\" class=\"dataframe\">\n",
       "  <thead>\n",
       "    <tr style=\"text-align: right;\">\n",
       "      <th></th>\n",
       "      <th>price</th>\n",
       "    </tr>\n",
       "    <tr>\n",
       "      <th>datetime</th>\n",
       "      <th></th>\n",
       "    </tr>\n",
       "  </thead>\n",
       "  <tbody>\n",
       "    <tr>\n",
       "      <th>2022-04-05 18:36:04</th>\n",
       "      <td>0.0</td>\n",
       "    </tr>\n",
       "    <tr>\n",
       "      <th>2022-04-05 18:36:19</th>\n",
       "      <td>0.0</td>\n",
       "    </tr>\n",
       "    <tr>\n",
       "      <th>2022-05-02 05:33:33</th>\n",
       "      <td>0.0</td>\n",
       "    </tr>\n",
       "    <tr>\n",
       "      <th>2022-06-18 07:22:43</th>\n",
       "      <td>0.0</td>\n",
       "    </tr>\n",
       "    <tr>\n",
       "      <th>2022-06-21 08:24:00</th>\n",
       "      <td>0.0</td>\n",
       "    </tr>\n",
       "    <tr>\n",
       "      <th>...</th>\n",
       "      <td>...</td>\n",
       "    </tr>\n",
       "    <tr>\n",
       "      <th>2023-08-25 10:22:06</th>\n",
       "      <td>0.0</td>\n",
       "    </tr>\n",
       "    <tr>\n",
       "      <th>2023-08-25 10:22:08</th>\n",
       "      <td>0.0</td>\n",
       "    </tr>\n",
       "    <tr>\n",
       "      <th>2023-08-25 10:22:10</th>\n",
       "      <td>0.0</td>\n",
       "    </tr>\n",
       "    <tr>\n",
       "      <th>2023-08-26 11:55:44</th>\n",
       "      <td>0.0</td>\n",
       "    </tr>\n",
       "    <tr>\n",
       "      <th>2023-08-29 11:56:20</th>\n",
       "      <td>0.0</td>\n",
       "    </tr>\n",
       "  </tbody>\n",
       "</table>\n",
       "<p>113 rows × 1 columns</p>\n",
       "</div>"
      ],
      "text/plain": [
       "                     price\n",
       "datetime                  \n",
       "2022-04-05 18:36:04    0.0\n",
       "2022-04-05 18:36:19    0.0\n",
       "2022-05-02 05:33:33    0.0\n",
       "2022-06-18 07:22:43    0.0\n",
       "2022-06-21 08:24:00    0.0\n",
       "...                    ...\n",
       "2023-08-25 10:22:06    0.0\n",
       "2023-08-25 10:22:08    0.0\n",
       "2023-08-25 10:22:10    0.0\n",
       "2023-08-26 11:55:44    0.0\n",
       "2023-08-29 11:56:20    0.0\n",
       "\n",
       "[113 rows x 1 columns]"
      ]
     },
     "execution_count": 9,
     "metadata": {},
     "output_type": "execute_result"
    }
   ],
   "source": [
    "# data points where trades have no price impact.\n",
    "test =df_m_500[['price']]-df_m_500[['price']].shift(1)\n",
    "bad_price_diff = test[test['price']==0]\n",
    "bad_price_diff"
   ]
  },
  {
   "cell_type": "code",
   "execution_count": 10,
   "id": "9d03a6b8-6238-457b-a8ef-abf92d43ae64",
   "metadata": {
    "tags": []
   },
   "outputs": [
    {
     "data": {
      "text/plain": [
       "array([], dtype=float64)"
      ]
     },
     "execution_count": 10,
     "metadata": {},
     "output_type": "execute_result"
    }
   ],
   "source": [
    "#data points where the aamounts of one of token in trades are zero \n",
    "bad_volume = df_m_500[  (df_m_500['WETH']==0) | (df_m_500['USDC']==0) ]\n",
    "bad_volume"
   ]
  },
  {
   "cell_type": "code",
   "execution_count": 11,
   "id": "819a9571-c2e2-4069-a409-f77e0aa12fc7",
   "metadata": {
    "tags": []
   },
   "outputs": [],
   "source": [
    "df_m_500 = df_m_500[ ~ ( (df_m_500['WETH']==0) | (df_m_500['USDC']==0) )]"
   ]
  },
  {
   "cell_type": "markdown",
   "id": "9e727d36-4945-40c3-aae4-d134fe784da0",
   "metadata": {},
   "source": [
    "#### Output to csv"
   ]
  },
  {
   "cell_type": "code",
   "execution_count": 53,
   "id": "8dbadca4-fbef-45df-9b43-4b3f26029094",
   "metadata": {
    "tags": []
   },
   "outputs": [],
   "source": [
    "df_m_500.to_csv(f'Data/organized data/{token_0}_{token_1}_mainnet_500/{token_0}_{token_1}_m_500_original.csv') "
   ]
  },
  {
   "cell_type": "code",
   "execution_count": null,
   "id": "5244a6ff-1442-4d46-a3d7-4730ace204fd",
   "metadata": {},
   "outputs": [],
   "source": []
  },
  {
   "cell_type": "code",
   "execution_count": null,
   "id": "1ab536af-34bc-430c-a6b9-ff01a7a2d158",
   "metadata": {},
   "outputs": [],
   "source": []
  },
  {
   "cell_type": "code",
   "execution_count": null,
   "id": "80aaafb6-5c37-410c-9849-90959eca63de",
   "metadata": {},
   "outputs": [],
   "source": []
  },
  {
   "cell_type": "markdown",
   "id": "1ebcbc8b-d942-43c8-924d-935f1985acf9",
   "metadata": {
    "tags": [],
    "toc-hr-collapsed": true
   },
   "source": [
    "## WETH vs USDT 0.3% Mainnet"
   ]
  },
  {
   "cell_type": "code",
   "execution_count": 206,
   "id": "856292a6-deaa-4f53-a050-3435eddd539a",
   "metadata": {
    "tags": []
   },
   "outputs": [
    {
     "name": "stderr",
     "output_type": "stream",
     "text": [
      "C:\\Users\\std92\\OneDrive\\文件\\AMM\\other's notes and codes\\token_style\\TransformData.py:52: DtypeWarning: Columns (5) have mixed types. Specify dtype option on import or set low_memory=False.\n",
      "  df = pd.read_csv(path + \".csv\", index_col=0)\n"
     ]
    }
   ],
   "source": [
    "#using WETH vs USDT\n",
    "token_0 ='WETH'\n",
    "token_1 ='USDT'\n",
    "path0 = \"Data/Arbitrum/WETH_USDC_arbitrum_3000\"\n",
    "path = \"Data/Mainnet/WETH_USDT_mainnet_3000\"\n",
    "with open(path0 + \"_config.json\", 'r') as f:\n",
    "    TransformData.config = json.load(f)\n",
    "df_m_3000 = TransformData.main(path,token_0,token_1)"
   ]
  },
  {
   "cell_type": "code",
   "execution_count": null,
   "id": "407addfd-7acf-4d67-8ca0-91590ad5230c",
   "metadata": {},
   "outputs": [],
   "source": []
  },
  {
   "cell_type": "markdown",
   "id": "4298382a-d4c7-486b-99be-f0beba2a6ec8",
   "metadata": {
    "tags": []
   },
   "source": [
    "### A first look at data"
   ]
  },
  {
   "cell_type": "code",
   "execution_count": 226,
   "id": "3b15a069-8517-43b7-ac70-10412aa41ac5",
   "metadata": {
    "tags": []
   },
   "outputs": [
    {
     "data": {
      "text/html": [
       "<div>\n",
       "<style scoped>\n",
       "    .dataframe tbody tr th:only-of-type {\n",
       "        vertical-align: middle;\n",
       "    }\n",
       "\n",
       "    .dataframe tbody tr th {\n",
       "        vertical-align: top;\n",
       "    }\n",
       "\n",
       "    .dataframe thead th {\n",
       "        text-align: right;\n",
       "    }\n",
       "</style>\n",
       "<table border=\"1\" class=\"dataframe\">\n",
       "  <thead>\n",
       "    <tr style=\"text-align: right;\">\n",
       "      <th></th>\n",
       "      <th>blockNumber</th>\n",
       "      <th>price</th>\n",
       "      <th>WETH</th>\n",
       "      <th>USDT</th>\n",
       "      <th>liquidity</th>\n",
       "      <th>No.</th>\n",
       "    </tr>\n",
       "    <tr>\n",
       "      <th>datetime</th>\n",
       "      <th></th>\n",
       "      <th></th>\n",
       "      <th></th>\n",
       "      <th></th>\n",
       "      <th></th>\n",
       "      <th></th>\n",
       "    </tr>\n",
       "  </thead>\n",
       "  <tbody>\n",
       "    <tr>\n",
       "      <th>2021-09-01 00:00:48</th>\n",
       "      <td>13136431</td>\n",
       "      <td>3426.485456</td>\n",
       "      <td>207.489606</td>\n",
       "      <td>-709505.273769</td>\n",
       "      <td>1.267122e+19</td>\n",
       "      <td>1</td>\n",
       "    </tr>\n",
       "    <tr>\n",
       "      <th>2021-09-01 00:01:45</th>\n",
       "      <td>13136435</td>\n",
       "      <td>3420.312939</td>\n",
       "      <td>195.798021</td>\n",
       "      <td>-668283.694666</td>\n",
       "      <td>1.266489e+19</td>\n",
       "      <td>1</td>\n",
       "    </tr>\n",
       "    <tr>\n",
       "      <th>2021-09-01 00:02:28</th>\n",
       "      <td>13136436</td>\n",
       "      <td>3420.306640</td>\n",
       "      <td>0.200000</td>\n",
       "      <td>-682.009772</td>\n",
       "      <td>1.266489e+19</td>\n",
       "      <td>1</td>\n",
       "    </tr>\n",
       "    <tr>\n",
       "      <th>2021-09-01 00:03:21</th>\n",
       "      <td>13136439</td>\n",
       "      <td>3416.096131</td>\n",
       "      <td>133.817990</td>\n",
       "      <td>-456044.502665</td>\n",
       "      <td>1.266489e+19</td>\n",
       "      <td>1</td>\n",
       "    </tr>\n",
       "    <tr>\n",
       "      <th>2021-09-01 00:04:48</th>\n",
       "      <td>13136445</td>\n",
       "      <td>3422.957229</td>\n",
       "      <td>-217.292588</td>\n",
       "      <td>745273.291596</td>\n",
       "      <td>1.267122e+19</td>\n",
       "      <td>1</td>\n",
       "    </tr>\n",
       "  </tbody>\n",
       "</table>\n",
       "</div>"
      ],
      "text/plain": [
       "                     blockNumber        price        WETH           USDT  \\\n",
       "datetime                                                                   \n",
       "2021-09-01 00:00:48     13136431  3426.485456  207.489606 -709505.273769   \n",
       "2021-09-01 00:01:45     13136435  3420.312939  195.798021 -668283.694666   \n",
       "2021-09-01 00:02:28     13136436  3420.306640    0.200000    -682.009772   \n",
       "2021-09-01 00:03:21     13136439  3416.096131  133.817990 -456044.502665   \n",
       "2021-09-01 00:04:48     13136445  3422.957229 -217.292588  745273.291596   \n",
       "\n",
       "                        liquidity  No.  \n",
       "datetime                                \n",
       "2021-09-01 00:00:48  1.267122e+19    1  \n",
       "2021-09-01 00:01:45  1.266489e+19    1  \n",
       "2021-09-01 00:02:28  1.266489e+19    1  \n",
       "2021-09-01 00:03:21  1.266489e+19    1  \n",
       "2021-09-01 00:04:48  1.267122e+19    1  "
      ]
     },
     "execution_count": 226,
     "metadata": {},
     "output_type": "execute_result"
    }
   ],
   "source": [
    "df_m_3000.head()"
   ]
  },
  {
   "cell_type": "markdown",
   "id": "d4bd7278-49b6-448e-a8a5-a2cfd427c41a",
   "metadata": {},
   "source": [
    "#### Anomalously high price\n",
    "Trying to plot the price trajectory. It shows that there's a data point with the price having rougly $10^{50}$ order, which doesn't make sense."
   ]
  },
  {
   "cell_type": "code",
   "execution_count": 209,
   "id": "02647bec-2394-48ae-8c7c-8cc29328476b",
   "metadata": {
    "tags": []
   },
   "outputs": [
    {
     "data": {
      "image/png": "[encoded data removed]",
      "text/plain": [
       "<Figure size 640x480 with 1 Axes>"
      ]
     },
     "metadata": {},
     "output_type": "display_data"
    }
   ],
   "source": [
    "plt.plot(df_m_3000.index.values,df_m_3000['price'].values,label='mainnet 3000 USDT')\n",
    "plt.legend()\n",
    "plt.xlabel(\"date\")\n",
    "plt.ylabel(\"price\")\n",
    "plt.xticks(rotation=45);"
   ]
  },
  {
   "cell_type": "code",
   "execution_count": 216,
   "id": "0afce353-1bbe-477b-b15b-04f6d825a79f",
   "metadata": {
    "tags": []
   },
   "outputs": [
    {
     "data": {
      "text/html": [
       "<div>\n",
       "<style scoped>\n",
       "    .dataframe tbody tr th:only-of-type {\n",
       "        vertical-align: middle;\n",
       "    }\n",
       "\n",
       "    .dataframe tbody tr th {\n",
       "        vertical-align: top;\n",
       "    }\n",
       "\n",
       "    .dataframe thead th {\n",
       "        text-align: right;\n",
       "    }\n",
       "</style>\n",
       "<table border=\"1\" class=\"dataframe\">\n",
       "  <thead>\n",
       "    <tr style=\"text-align: right;\">\n",
       "      <th></th>\n",
       "      <th>blockNumber</th>\n",
       "      <th>price</th>\n",
       "      <th>WETH</th>\n",
       "      <th>USDT</th>\n",
       "      <th>liquidity</th>\n",
       "    </tr>\n",
       "    <tr>\n",
       "      <th>datetime</th>\n",
       "      <th></th>\n",
       "      <th></th>\n",
       "      <th></th>\n",
       "      <th></th>\n",
       "      <th></th>\n",
       "    </tr>\n",
       "  </thead>\n",
       "  <tbody>\n",
       "    <tr>\n",
       "      <th>2022-06-15 09:27:45</th>\n",
       "      <td>14966784</td>\n",
       "      <td>345.568762</td>\n",
       "      <td>1291.987966</td>\n",
       "      <td>-1.092907e+06</td>\n",
       "      <td>6162127709923684</td>\n",
       "    </tr>\n",
       "  </tbody>\n",
       "</table>\n",
       "</div>"
      ],
      "text/plain": [
       "                     blockNumber       price         WETH          USDT  \\\n",
       "datetime                                                                  \n",
       "2022-06-15 09:27:45     14966784  345.568762  1291.987966 -1.092907e+06   \n",
       "\n",
       "                            liquidity  \n",
       "datetime                               \n",
       "2022-06-15 09:27:45  6162127709923684  "
      ]
     },
     "execution_count": 216,
     "metadata": {},
     "output_type": "execute_result"
    }
   ],
   "source": [
    "df_m_3000[df_m_3000['price']<800]  "
   ]
  },
  {
   "cell_type": "code",
   "execution_count": 218,
   "id": "b202ca0b-d003-42b4-a579-4c52efd153df",
   "metadata": {
    "tags": []
   },
   "outputs": [],
   "source": [
    "#drop the flawed data points whose price is greater than 10**5 (from the raw data, such cases have zero liquidity) \n",
    "df_m_3000.drop( df_m_3000[ df_m_3000['price']<800 ].index , inplace=True ) "
   ]
  },
  {
   "cell_type": "markdown",
   "id": "b6b14ddc-f8ed-477e-b11e-008874d4589e",
   "metadata": {
    "tags": []
   },
   "source": [
    "#### Liquidity dtype"
   ]
  },
  {
   "cell_type": "code",
   "execution_count": 219,
   "id": "9332daa2-431a-4026-832e-d226a2c7a6a1",
   "metadata": {
    "tags": []
   },
   "outputs": [],
   "source": [
    "df_m_3000['liquidity']=df_m_3000['liquidity'].astype(float)"
   ]
  },
  {
   "cell_type": "markdown",
   "id": "001ab17d-b3de-4e16-a84f-96da2c0eb7f6",
   "metadata": {},
   "source": [
    "#### Early data points"
   ]
  },
  {
   "cell_type": "code",
   "execution_count": 220,
   "id": "427d5766-4ed2-4e4f-84cb-3fc0cecdb3ec",
   "metadata": {
    "tags": []
   },
   "outputs": [],
   "source": [
    "df_m_3000 = df_m_3000[df_m_3000.index> '2021-09-01'] #discard first few data points "
   ]
  },
  {
   "cell_type": "markdown",
   "id": "fbe29030-1bd0-4e11-98bf-e18f02c342c5",
   "metadata": {},
   "source": [
    "#### Trades with no price impact/reserves change "
   ]
  },
  {
   "cell_type": "code",
   "execution_count": 221,
   "id": "042ee312-5012-4246-b053-ec1756f021ad",
   "metadata": {
    "tags": []
   },
   "outputs": [
    {
     "data": {
      "text/html": [
       "<div>\n",
       "<style scoped>\n",
       "    .dataframe tbody tr th:only-of-type {\n",
       "        vertical-align: middle;\n",
       "    }\n",
       "\n",
       "    .dataframe tbody tr th {\n",
       "        vertical-align: top;\n",
       "    }\n",
       "\n",
       "    .dataframe thead th {\n",
       "        text-align: right;\n",
       "    }\n",
       "</style>\n",
       "<table border=\"1\" class=\"dataframe\">\n",
       "  <thead>\n",
       "    <tr style=\"text-align: right;\">\n",
       "      <th></th>\n",
       "      <th>price</th>\n",
       "    </tr>\n",
       "    <tr>\n",
       "      <th>datetime</th>\n",
       "      <th></th>\n",
       "    </tr>\n",
       "  </thead>\n",
       "  <tbody>\n",
       "    <tr>\n",
       "      <th>2022-04-07 02:27:00</th>\n",
       "      <td>0.0</td>\n",
       "    </tr>\n",
       "    <tr>\n",
       "      <th>2022-04-08 02:28:14</th>\n",
       "      <td>0.0</td>\n",
       "    </tr>\n",
       "    <tr>\n",
       "      <th>2022-06-22 23:33:59</th>\n",
       "      <td>0.0</td>\n",
       "    </tr>\n",
       "    <tr>\n",
       "      <th>2022-08-03 07:23:07</th>\n",
       "      <td>0.0</td>\n",
       "    </tr>\n",
       "    <tr>\n",
       "      <th>2022-08-08 09:12:16</th>\n",
       "      <td>0.0</td>\n",
       "    </tr>\n",
       "    <tr>\n",
       "      <th>2022-09-12 13:21:42</th>\n",
       "      <td>0.0</td>\n",
       "    </tr>\n",
       "    <tr>\n",
       "      <th>2022-09-12 13:26:01</th>\n",
       "      <td>0.0</td>\n",
       "    </tr>\n",
       "    <tr>\n",
       "      <th>2022-09-12 14:44:50</th>\n",
       "      <td>0.0</td>\n",
       "    </tr>\n",
       "    <tr>\n",
       "      <th>2023-01-30 05:48:23</th>\n",
       "      <td>0.0</td>\n",
       "    </tr>\n",
       "    <tr>\n",
       "      <th>2023-07-06 14:21:35</th>\n",
       "      <td>0.0</td>\n",
       "    </tr>\n",
       "    <tr>\n",
       "      <th>2023-08-15 14:27:35</th>\n",
       "      <td>0.0</td>\n",
       "    </tr>\n",
       "    <tr>\n",
       "      <th>2023-10-06 04:53:23</th>\n",
       "      <td>0.0</td>\n",
       "    </tr>\n",
       "    <tr>\n",
       "      <th>2023-10-14 23:21:47</th>\n",
       "      <td>0.0</td>\n",
       "    </tr>\n",
       "    <tr>\n",
       "      <th>2023-11-05 21:10:23</th>\n",
       "      <td>0.0</td>\n",
       "    </tr>\n",
       "    <tr>\n",
       "      <th>2023-11-16 10:27:11</th>\n",
       "      <td>0.0</td>\n",
       "    </tr>\n",
       "    <tr>\n",
       "      <th>2023-12-01 01:25:47</th>\n",
       "      <td>0.0</td>\n",
       "    </tr>\n",
       "    <tr>\n",
       "      <th>2023-12-01 10:11:59</th>\n",
       "      <td>0.0</td>\n",
       "    </tr>\n",
       "    <tr>\n",
       "      <th>2023-12-23 17:20:11</th>\n",
       "      <td>0.0</td>\n",
       "    </tr>\n",
       "  </tbody>\n",
       "</table>\n",
       "</div>"
      ],
      "text/plain": [
       "                     price\n",
       "datetime                  \n",
       "2022-04-07 02:27:00    0.0\n",
       "2022-04-08 02:28:14    0.0\n",
       "2022-06-22 23:33:59    0.0\n",
       "2022-08-03 07:23:07    0.0\n",
       "2022-08-08 09:12:16    0.0\n",
       "2022-09-12 13:21:42    0.0\n",
       "2022-09-12 13:26:01    0.0\n",
       "2022-09-12 14:44:50    0.0\n",
       "2023-01-30 05:48:23    0.0\n",
       "2023-07-06 14:21:35    0.0\n",
       "2023-08-15 14:27:35    0.0\n",
       "2023-10-06 04:53:23    0.0\n",
       "2023-10-14 23:21:47    0.0\n",
       "2023-11-05 21:10:23    0.0\n",
       "2023-11-16 10:27:11    0.0\n",
       "2023-12-01 01:25:47    0.0\n",
       "2023-12-01 10:11:59    0.0\n",
       "2023-12-23 17:20:11    0.0"
      ]
     },
     "execution_count": 221,
     "metadata": {},
     "output_type": "execute_result"
    }
   ],
   "source": [
    "# data points where trades have no price impact.\n",
    "test =df_m_3000[['price']]-df_m_3000[['price']].shift(1)\n",
    "bad_price_diff = test[test['price']==0]\n",
    "bad_price_diff"
   ]
  },
  {
   "cell_type": "code",
   "execution_count": 222,
   "id": "fc68c842-eb7f-4afe-a383-d0f8cb66aa90",
   "metadata": {
    "tags": []
   },
   "outputs": [
    {
     "data": {
      "text/html": [
       "<div>\n",
       "<style scoped>\n",
       "    .dataframe tbody tr th:only-of-type {\n",
       "        vertical-align: middle;\n",
       "    }\n",
       "\n",
       "    .dataframe tbody tr th {\n",
       "        vertical-align: top;\n",
       "    }\n",
       "\n",
       "    .dataframe thead th {\n",
       "        text-align: right;\n",
       "    }\n",
       "</style>\n",
       "<table border=\"1\" class=\"dataframe\">\n",
       "  <thead>\n",
       "    <tr style=\"text-align: right;\">\n",
       "      <th></th>\n",
       "      <th>blockNumber</th>\n",
       "      <th>price</th>\n",
       "      <th>WETH</th>\n",
       "      <th>USDT</th>\n",
       "      <th>liquidity</th>\n",
       "    </tr>\n",
       "    <tr>\n",
       "      <th>datetime</th>\n",
       "      <th></th>\n",
       "      <th></th>\n",
       "      <th></th>\n",
       "      <th></th>\n",
       "      <th></th>\n",
       "    </tr>\n",
       "  </thead>\n",
       "  <tbody>\n",
       "    <tr>\n",
       "      <th>2021-10-08 11:42:16</th>\n",
       "      <td>13377980</td>\n",
       "      <td>3631.245765</td>\n",
       "      <td>4.890000e-16</td>\n",
       "      <td>0.000000</td>\n",
       "      <td>7.314278e+18</td>\n",
       "    </tr>\n",
       "    <tr>\n",
       "      <th>2021-12-03 08:44:34</th>\n",
       "      <td>13732601</td>\n",
       "      <td>4558.738917</td>\n",
       "      <td>2.330000e-16</td>\n",
       "      <td>0.000000</td>\n",
       "      <td>1.136474e+19</td>\n",
       "    </tr>\n",
       "    <tr>\n",
       "      <th>2021-12-08 01:44:47</th>\n",
       "      <td>13762011</td>\n",
       "      <td>4325.474401</td>\n",
       "      <td>1.800000e-16</td>\n",
       "      <td>0.000000</td>\n",
       "      <td>1.211364e+19</td>\n",
       "    </tr>\n",
       "    <tr>\n",
       "      <th>2022-04-08 02:28:14</th>\n",
       "      <td>14542491</td>\n",
       "      <td>3250.752247</td>\n",
       "      <td>1.000000e-11</td>\n",
       "      <td>0.000000</td>\n",
       "      <td>1.070966e+19</td>\n",
       "    </tr>\n",
       "    <tr>\n",
       "      <th>2023-08-15 14:27:35</th>\n",
       "      <td>17920832</td>\n",
       "      <td>1843.888964</td>\n",
       "      <td>4.000000e-18</td>\n",
       "      <td>0.000000</td>\n",
       "      <td>3.797107e+18</td>\n",
       "    </tr>\n",
       "    <tr>\n",
       "      <th>2023-08-17 00:52:35</th>\n",
       "      <td>17931086</td>\n",
       "      <td>1789.096507</td>\n",
       "      <td>2.641950e-12</td>\n",
       "      <td>0.000000</td>\n",
       "      <td>4.870222e+18</td>\n",
       "    </tr>\n",
       "    <tr>\n",
       "      <th>2023-10-03 06:48:47</th>\n",
       "      <td>18268323</td>\n",
       "      <td>1665.236254</td>\n",
       "      <td>8.100000e-11</td>\n",
       "      <td>0.000000</td>\n",
       "      <td>4.222147e+18</td>\n",
       "    </tr>\n",
       "    <tr>\n",
       "      <th>2023-10-06 04:53:23</th>\n",
       "      <td>18289201</td>\n",
       "      <td>1620.298524</td>\n",
       "      <td>5.041680e-13</td>\n",
       "      <td>0.000000</td>\n",
       "      <td>4.190823e+18</td>\n",
       "    </tr>\n",
       "    <tr>\n",
       "      <th>2023-10-14 23:21:47</th>\n",
       "      <td>18351868</td>\n",
       "      <td>1556.367431</td>\n",
       "      <td>0.000000e+00</td>\n",
       "      <td>0.000001</td>\n",
       "      <td>4.547460e+18</td>\n",
       "    </tr>\n",
       "    <tr>\n",
       "      <th>2023-10-24 03:26:11</th>\n",
       "      <td>18417428</td>\n",
       "      <td>1830.980732</td>\n",
       "      <td>1.000000e-10</td>\n",
       "      <td>0.000000</td>\n",
       "      <td>4.551972e+18</td>\n",
       "    </tr>\n",
       "    <tr>\n",
       "      <th>2023-11-05 21:10:23</th>\n",
       "      <td>18508386</td>\n",
       "      <td>1888.045214</td>\n",
       "      <td>0.000000e+00</td>\n",
       "      <td>0.000001</td>\n",
       "      <td>5.341092e+18</td>\n",
       "    </tr>\n",
       "    <tr>\n",
       "      <th>2023-11-16 10:06:11</th>\n",
       "      <td>18583739</td>\n",
       "      <td>2043.070587</td>\n",
       "      <td>0.000000e+00</td>\n",
       "      <td>0.000001</td>\n",
       "      <td>6.511500e+18</td>\n",
       "    </tr>\n",
       "    <tr>\n",
       "      <th>2023-11-16 10:27:11</th>\n",
       "      <td>18583844</td>\n",
       "      <td>2043.142155</td>\n",
       "      <td>0.000000e+00</td>\n",
       "      <td>0.000001</td>\n",
       "      <td>6.511500e+18</td>\n",
       "    </tr>\n",
       "    <tr>\n",
       "      <th>2023-12-01 01:25:47</th>\n",
       "      <td>18688275</td>\n",
       "      <td>2065.764230</td>\n",
       "      <td>2.421307e-12</td>\n",
       "      <td>0.000000</td>\n",
       "      <td>9.573091e+18</td>\n",
       "    </tr>\n",
       "    <tr>\n",
       "      <th>2023-12-23 17:20:11</th>\n",
       "      <td>18849959</td>\n",
       "      <td>2290.471415</td>\n",
       "      <td>1.242500e-14</td>\n",
       "      <td>0.000000</td>\n",
       "      <td>9.761824e+18</td>\n",
       "    </tr>\n",
       "  </tbody>\n",
       "</table>\n",
       "</div>"
      ],
      "text/plain": [
       "                     blockNumber        price          WETH      USDT  \\\n",
       "datetime                                                                \n",
       "2021-10-08 11:42:16     13377980  3631.245765  4.890000e-16  0.000000   \n",
       "2021-12-03 08:44:34     13732601  4558.738917  2.330000e-16  0.000000   \n",
       "2021-12-08 01:44:47     13762011  4325.474401  1.800000e-16  0.000000   \n",
       "2022-04-08 02:28:14     14542491  3250.752247  1.000000e-11  0.000000   \n",
       "2023-08-15 14:27:35     17920832  1843.888964  4.000000e-18  0.000000   \n",
       "2023-08-17 00:52:35     17931086  1789.096507  2.641950e-12  0.000000   \n",
       "2023-10-03 06:48:47     18268323  1665.236254  8.100000e-11  0.000000   \n",
       "2023-10-06 04:53:23     18289201  1620.298524  5.041680e-13  0.000000   \n",
       "2023-10-14 23:21:47     18351868  1556.367431  0.000000e+00  0.000001   \n",
       "2023-10-24 03:26:11     18417428  1830.980732  1.000000e-10  0.000000   \n",
       "2023-11-05 21:10:23     18508386  1888.045214  0.000000e+00  0.000001   \n",
       "2023-11-16 10:06:11     18583739  2043.070587  0.000000e+00  0.000001   \n",
       "2023-11-16 10:27:11     18583844  2043.142155  0.000000e+00  0.000001   \n",
       "2023-12-01 01:25:47     18688275  2065.764230  2.421307e-12  0.000000   \n",
       "2023-12-23 17:20:11     18849959  2290.471415  1.242500e-14  0.000000   \n",
       "\n",
       "                        liquidity  \n",
       "datetime                           \n",
       "2021-10-08 11:42:16  7.314278e+18  \n",
       "2021-12-03 08:44:34  1.136474e+19  \n",
       "2021-12-08 01:44:47  1.211364e+19  \n",
       "2022-04-08 02:28:14  1.070966e+19  \n",
       "2023-08-15 14:27:35  3.797107e+18  \n",
       "2023-08-17 00:52:35  4.870222e+18  \n",
       "2023-10-03 06:48:47  4.222147e+18  \n",
       "2023-10-06 04:53:23  4.190823e+18  \n",
       "2023-10-14 23:21:47  4.547460e+18  \n",
       "2023-10-24 03:26:11  4.551972e+18  \n",
       "2023-11-05 21:10:23  5.341092e+18  \n",
       "2023-11-16 10:06:11  6.511500e+18  \n",
       "2023-11-16 10:27:11  6.511500e+18  \n",
       "2023-12-01 01:25:47  9.573091e+18  \n",
       "2023-12-23 17:20:11  9.761824e+18  "
      ]
     },
     "execution_count": 222,
     "metadata": {},
     "output_type": "execute_result"
    }
   ],
   "source": [
    "#data points where the aamounts of one of token in trades are zero \n",
    "bad_volume = df_m_3000[  (df_m_3000['WETH']==0) | (df_m_3000['USDT']==0) ]\n",
    "bad_volume"
   ]
  },
  {
   "cell_type": "code",
   "execution_count": 223,
   "id": "859635e6-7f49-46f5-9e17-e25ffae0f87d",
   "metadata": {
    "tags": []
   },
   "outputs": [],
   "source": [
    "df_m_3000 = df_m_3000[ ~ ( (df_m_3000['WETH']==0) | (df_m_3000['USDT']==0) )]"
   ]
  },
  {
   "cell_type": "markdown",
   "id": "84795af1-64f0-460c-bf0f-07ce40380467",
   "metadata": {},
   "source": [
    "#### Output to csv"
   ]
  },
  {
   "cell_type": "code",
   "execution_count": 224,
   "id": "5ff80990-8dbd-4351-812f-4af71e246b5d",
   "metadata": {
    "tags": []
   },
   "outputs": [],
   "source": [
    "df_m_3000.to_csv(f'Data/organized data/{token_0}_{token_1}_mainnet_3000/{token_0}_{token_1}_m_3000_original.csv') "
   ]
  },
  {
   "cell_type": "markdown",
   "id": "832e3fae-8885-4afc-aea5-8a2afbbb78e7",
   "metadata": {},
   "source": [
    "### Resemple and output to csv"
   ]
  },
  {
   "cell_type": "code",
   "execution_count": 225,
   "id": "7476fd0c-cc98-41d2-919e-bfc4dab11cbb",
   "metadata": {
    "tags": []
   },
   "outputs": [],
   "source": [
    "time_list = ['1min', '5min','10min','30min','1H','6H','12H','1D','1W']\n",
    "order(df_m_3000)\n",
    "for T in time_list:\n",
    "    df_res=  resample(df_m_3000,T)\n",
    "    df_res.to_csv(f'Data/organized data/{token_0}_{token_1}_mainnet_3000/{token_0}_{token_1}_m_3000_{T}.csv') "
   ]
  },
  {
   "cell_type": "markdown",
   "id": "7e77c6b9-9b00-4652-953b-24cf3950720e",
   "metadata": {},
   "source": [
    "### Arrival"
   ]
  },
  {
   "cell_type": "code",
   "execution_count": 80,
   "id": "446a66d0-68c5-44e1-ac67-ae41cc9aa9d3",
   "metadata": {
    "tags": []
   },
   "outputs": [],
   "source": [
    "token_0 ='WETH'\n",
    "token_1 ='USDT'\n",
    "df_m_USDT_3000 = pd.read_csv(f'Data/organized data/{token_0}_{token_1}_mainnet_3000/{token_0}_{token_1}_m_3000_original.csv',index_col='datetime') \n",
    "df_m_USDT_3000.index = pd.to_datetime(df_m_USDT_3000.index)\n",
    "arrival_m_USDT_3000 = arrival(df_m_USDT_3000)"
   ]
  },
  {
   "cell_type": "markdown",
   "id": "8557edd6-22ec-4be0-9bb4-1023d2a343f4",
   "metadata": {
    "jp-MarkdownHeadingCollapsed": true,
    "tags": [],
    "toc-hr-collapsed": true
   },
   "source": [
    "## WETH vs DAI 0.3%"
   ]
  },
  {
   "cell_type": "code",
   "execution_count": 184,
   "id": "d2c433b4-2871-4811-93a6-bf7bd761ca0d",
   "metadata": {
    "tags": []
   },
   "outputs": [],
   "source": [
    "#using WETH vs USDC\n",
    "token_0 ='WETH'\n",
    "token_1 ='DAI'\n",
    "\n",
    "path = \"Data/Mainnet/WETH_DAI_mainnet_3000\"\n",
    "with open(path + \"_config.json\", 'r') as f:\n",
    "    TransformData.config = json.load(f)\n",
    "df_m_3000 = TransformData.main(path,token_0,token_1)"
   ]
  },
  {
   "cell_type": "markdown",
   "id": "430b5920-b521-4c03-bfac-6476a877d8db",
   "metadata": {
    "tags": []
   },
   "source": [
    "### A first look at data"
   ]
  },
  {
   "cell_type": "code",
   "execution_count": 185,
   "id": "da2c2a44-6a0e-43c6-add2-7e144499bee9",
   "metadata": {
    "tags": []
   },
   "outputs": [
    {
     "data": {
      "text/html": [
       "<div>\n",
       "<style scoped>\n",
       "    .dataframe tbody tr th:only-of-type {\n",
       "        vertical-align: middle;\n",
       "    }\n",
       "\n",
       "    .dataframe tbody tr th {\n",
       "        vertical-align: top;\n",
       "    }\n",
       "\n",
       "    .dataframe thead th {\n",
       "        text-align: right;\n",
       "    }\n",
       "</style>\n",
       "<table border=\"1\" class=\"dataframe\">\n",
       "  <thead>\n",
       "    <tr style=\"text-align: right;\">\n",
       "      <th></th>\n",
       "      <th>blockNumber</th>\n",
       "      <th>price</th>\n",
       "      <th>WETH</th>\n",
       "      <th>DAI</th>\n",
       "      <th>liquidity</th>\n",
       "    </tr>\n",
       "    <tr>\n",
       "      <th>datetime</th>\n",
       "      <th></th>\n",
       "      <th></th>\n",
       "      <th></th>\n",
       "      <th></th>\n",
       "      <th></th>\n",
       "    </tr>\n",
       "  </thead>\n",
       "  <tbody>\n",
       "    <tr>\n",
       "      <th>2021-05-04 20:21:15</th>\n",
       "      <td>12369879</td>\n",
       "      <td>3371.050772</td>\n",
       "      <td>-33.854156</td>\n",
       "      <td>1.000000e-02</td>\n",
       "      <td>80059851033970806503</td>\n",
       "    </tr>\n",
       "    <tr>\n",
       "      <th>2021-05-04 21:11:21</th>\n",
       "      <td>12370126</td>\n",
       "      <td>3371.050602</td>\n",
       "      <td>-0.000336</td>\n",
       "      <td>1.000000e-07</td>\n",
       "      <td>229713263233648638236</td>\n",
       "    </tr>\n",
       "    <tr>\n",
       "      <th>2021-05-05 00:41:36</th>\n",
       "      <td>12371051</td>\n",
       "      <td>3270.498157</td>\n",
       "      <td>-331.043259</td>\n",
       "      <td>1.000000e-01</td>\n",
       "      <td>379427976363351507096</td>\n",
       "    </tr>\n",
       "    <tr>\n",
       "      <th>2021-05-05 01:22:32</th>\n",
       "      <td>12371223</td>\n",
       "      <td>3267.476370</td>\n",
       "      <td>-10.026668</td>\n",
       "      <td>3.076439e-03</td>\n",
       "      <td>379427976363351507096</td>\n",
       "    </tr>\n",
       "    <tr>\n",
       "      <th>2021-05-05 18:00:03</th>\n",
       "      <td>12375729</td>\n",
       "      <td>3277.845212</td>\n",
       "      <td>10682.019393</td>\n",
       "      <td>-3.254229e+00</td>\n",
       "      <td>117516434432686612962365</td>\n",
       "    </tr>\n",
       "    <tr>\n",
       "      <th>2021-05-05 18:02:47</th>\n",
       "      <td>12375737</td>\n",
       "      <td>3375.710052</td>\n",
       "      <td>100000.000000</td>\n",
       "      <td>-2.997218e+01</td>\n",
       "      <td>117516434432686612962365</td>\n",
       "    </tr>\n",
       "    <tr>\n",
       "      <th>2021-05-05 18:17:48</th>\n",
       "      <td>12375807</td>\n",
       "      <td>3400.213663</td>\n",
       "      <td>24832.680339</td>\n",
       "      <td>-7.307740e+00</td>\n",
       "      <td>117621635289029330834385</td>\n",
       "    </tr>\n",
       "    <tr>\n",
       "      <th>2021-05-05 18:42:13</th>\n",
       "      <td>12375916</td>\n",
       "      <td>3387.985608</td>\n",
       "      <td>-12351.278238</td>\n",
       "      <td>3.650000e+00</td>\n",
       "      <td>117691918578448968991125</td>\n",
       "    </tr>\n",
       "    <tr>\n",
       "      <th>2021-05-05 18:43:26</th>\n",
       "      <td>12375925</td>\n",
       "      <td>3387.160398</td>\n",
       "      <td>-840.089983</td>\n",
       "      <td>2.487379e-01</td>\n",
       "      <td>118504767395327940534068</td>\n",
       "    </tr>\n",
       "    <tr>\n",
       "      <th>2021-05-05 18:49:14</th>\n",
       "      <td>12375941</td>\n",
       "      <td>3397.932873</td>\n",
       "      <td>10991.662718</td>\n",
       "      <td>-3.230229e+00</td>\n",
       "      <td>118504767395327940534068</td>\n",
       "    </tr>\n",
       "  </tbody>\n",
       "</table>\n",
       "</div>"
      ],
      "text/plain": [
       "                     blockNumber        price           WETH           DAI  \\\n",
       "datetime                                                                     \n",
       "2021-05-04 20:21:15     12369879  3371.050772     -33.854156  1.000000e-02   \n",
       "2021-05-04 21:11:21     12370126  3371.050602      -0.000336  1.000000e-07   \n",
       "2021-05-05 00:41:36     12371051  3270.498157    -331.043259  1.000000e-01   \n",
       "2021-05-05 01:22:32     12371223  3267.476370     -10.026668  3.076439e-03   \n",
       "2021-05-05 18:00:03     12375729  3277.845212   10682.019393 -3.254229e+00   \n",
       "2021-05-05 18:02:47     12375737  3375.710052  100000.000000 -2.997218e+01   \n",
       "2021-05-05 18:17:48     12375807  3400.213663   24832.680339 -7.307740e+00   \n",
       "2021-05-05 18:42:13     12375916  3387.985608  -12351.278238  3.650000e+00   \n",
       "2021-05-05 18:43:26     12375925  3387.160398    -840.089983  2.487379e-01   \n",
       "2021-05-05 18:49:14     12375941  3397.932873   10991.662718 -3.230229e+00   \n",
       "\n",
       "                                    liquidity  \n",
       "datetime                                       \n",
       "2021-05-04 20:21:15      80059851033970806503  \n",
       "2021-05-04 21:11:21     229713263233648638236  \n",
       "2021-05-05 00:41:36     379427976363351507096  \n",
       "2021-05-05 01:22:32     379427976363351507096  \n",
       "2021-05-05 18:00:03  117516434432686612962365  \n",
       "2021-05-05 18:02:47  117516434432686612962365  \n",
       "2021-05-05 18:17:48  117621635289029330834385  \n",
       "2021-05-05 18:42:13  117691918578448968991125  \n",
       "2021-05-05 18:43:26  118504767395327940534068  \n",
       "2021-05-05 18:49:14  118504767395327940534068  "
      ]
     },
     "execution_count": 185,
     "metadata": {},
     "output_type": "execute_result"
    }
   ],
   "source": [
    "df_m_3000.head(10)"
   ]
  },
  {
   "cell_type": "code",
   "execution_count": 192,
   "id": "31c80afc-8265-4759-846a-4def0a41c5c6",
   "metadata": {
    "tags": []
   },
   "outputs": [
    {
     "data": {
      "image/png": "[encoded data removed]",
      "text/plain": [
       "<Figure size 640x480 with 1 Axes>"
      ]
     },
     "metadata": {},
     "output_type": "display_data"
    }
   ],
   "source": [
    "plt.plot(df_m_3000.index.values,df_m_3000['price'].values)\n",
    "plt.xlabel(\"date\")\n",
    "plt.ylabel(\"price\")\n",
    "plt.xticks(rotation=45);"
   ]
  },
  {
   "cell_type": "markdown",
   "id": "af87928e-9470-4812-aca5-f1f7eb2bde92",
   "metadata": {
    "tags": []
   },
   "source": [
    "#### Liquidity dtype"
   ]
  },
  {
   "cell_type": "code",
   "execution_count": 188,
   "id": "46287a2d-4c42-4c94-b1d6-b13af219091a",
   "metadata": {
    "tags": []
   },
   "outputs": [],
   "source": [
    "df_m_3000['liquidity']=df_m_3000['liquidity'].astype(float)"
   ]
  },
  {
   "cell_type": "markdown",
   "id": "3e4358d6-8215-405e-8028-e8d57a85cf9c",
   "metadata": {},
   "source": [
    "#### Early data points"
   ]
  },
  {
   "cell_type": "code",
   "execution_count": 190,
   "id": "dde910a6-52b7-4324-b815-46eb9bfc4d8c",
   "metadata": {
    "tags": []
   },
   "outputs": [],
   "source": [
    "df_m_3000 = df_m_3000[df_m_3000.index> '2021-09-01'] #discard first few data points "
   ]
  },
  {
   "cell_type": "markdown",
   "id": "8f5df0e0-ff0b-445b-9719-cf2e376eee6d",
   "metadata": {},
   "source": [
    "#### Trades with no price impact/reserves change "
   ]
  },
  {
   "cell_type": "code",
   "execution_count": 199,
   "id": "fbd8f76a-d00f-4ccf-8eb0-ac08bbbb78f9",
   "metadata": {
    "tags": []
   },
   "outputs": [
    {
     "data": {
      "text/html": [
       "<div>\n",
       "<style scoped>\n",
       "    .dataframe tbody tr th:only-of-type {\n",
       "        vertical-align: middle;\n",
       "    }\n",
       "\n",
       "    .dataframe tbody tr th {\n",
       "        vertical-align: top;\n",
       "    }\n",
       "\n",
       "    .dataframe thead th {\n",
       "        text-align: right;\n",
       "    }\n",
       "</style>\n",
       "<table border=\"1\" class=\"dataframe\">\n",
       "  <thead>\n",
       "    <tr style=\"text-align: right;\">\n",
       "      <th></th>\n",
       "      <th>price</th>\n",
       "    </tr>\n",
       "    <tr>\n",
       "      <th>datetime</th>\n",
       "      <th></th>\n",
       "    </tr>\n",
       "  </thead>\n",
       "  <tbody>\n",
       "    <tr>\n",
       "      <th>2022-03-23 01:27:55</th>\n",
       "      <td>0.0</td>\n",
       "    </tr>\n",
       "    <tr>\n",
       "      <th>2022-03-26 15:24:23</th>\n",
       "      <td>0.0</td>\n",
       "    </tr>\n",
       "    <tr>\n",
       "      <th>2022-03-26 15:51:38</th>\n",
       "      <td>0.0</td>\n",
       "    </tr>\n",
       "    <tr>\n",
       "      <th>2022-04-29 03:39:27</th>\n",
       "      <td>0.0</td>\n",
       "    </tr>\n",
       "    <tr>\n",
       "      <th>2022-06-12 05:38:46</th>\n",
       "      <td>0.0</td>\n",
       "    </tr>\n",
       "    <tr>\n",
       "      <th>2022-07-29 20:46:18</th>\n",
       "      <td>0.0</td>\n",
       "    </tr>\n",
       "    <tr>\n",
       "      <th>2022-07-30 08:53:49</th>\n",
       "      <td>0.0</td>\n",
       "    </tr>\n",
       "    <tr>\n",
       "      <th>2022-08-04 19:21:11</th>\n",
       "      <td>0.0</td>\n",
       "    </tr>\n",
       "    <tr>\n",
       "      <th>2022-08-05 01:33:07</th>\n",
       "      <td>0.0</td>\n",
       "    </tr>\n",
       "    <tr>\n",
       "      <th>2022-08-05 23:07:25</th>\n",
       "      <td>0.0</td>\n",
       "    </tr>\n",
       "    <tr>\n",
       "      <th>2022-08-05 23:24:09</th>\n",
       "      <td>0.0</td>\n",
       "    </tr>\n",
       "    <tr>\n",
       "      <th>2022-08-09 02:38:16</th>\n",
       "      <td>0.0</td>\n",
       "    </tr>\n",
       "    <tr>\n",
       "      <th>2022-08-10 05:21:47</th>\n",
       "      <td>0.0</td>\n",
       "    </tr>\n",
       "    <tr>\n",
       "      <th>2022-08-10 22:37:48</th>\n",
       "      <td>0.0</td>\n",
       "    </tr>\n",
       "    <tr>\n",
       "      <th>2022-08-11 13:59:25</th>\n",
       "      <td>0.0</td>\n",
       "    </tr>\n",
       "    <tr>\n",
       "      <th>2022-08-13 18:04:25</th>\n",
       "      <td>0.0</td>\n",
       "    </tr>\n",
       "    <tr>\n",
       "      <th>2022-08-14 10:54:09</th>\n",
       "      <td>0.0</td>\n",
       "    </tr>\n",
       "    <tr>\n",
       "      <th>2022-08-28 17:38:53</th>\n",
       "      <td>0.0</td>\n",
       "    </tr>\n",
       "    <tr>\n",
       "      <th>2022-09-03 20:43:26</th>\n",
       "      <td>0.0</td>\n",
       "    </tr>\n",
       "    <tr>\n",
       "      <th>2022-09-15 12:45:23</th>\n",
       "      <td>0.0</td>\n",
       "    </tr>\n",
       "    <tr>\n",
       "      <th>2022-09-16 01:12:11</th>\n",
       "      <td>0.0</td>\n",
       "    </tr>\n",
       "    <tr>\n",
       "      <th>2022-09-17 22:42:11</th>\n",
       "      <td>0.0</td>\n",
       "    </tr>\n",
       "    <tr>\n",
       "      <th>2022-10-10 14:10:11</th>\n",
       "      <td>0.0</td>\n",
       "    </tr>\n",
       "    <tr>\n",
       "      <th>2022-10-28 15:21:11</th>\n",
       "      <td>0.0</td>\n",
       "    </tr>\n",
       "    <tr>\n",
       "      <th>2022-10-31 08:58:11</th>\n",
       "      <td>0.0</td>\n",
       "    </tr>\n",
       "    <tr>\n",
       "      <th>2022-10-31 09:51:59</th>\n",
       "      <td>0.0</td>\n",
       "    </tr>\n",
       "    <tr>\n",
       "      <th>2022-11-06 23:59:11</th>\n",
       "      <td>0.0</td>\n",
       "    </tr>\n",
       "    <tr>\n",
       "      <th>2022-12-09 04:18:11</th>\n",
       "      <td>0.0</td>\n",
       "    </tr>\n",
       "    <tr>\n",
       "      <th>2022-12-22 07:38:23</th>\n",
       "      <td>0.0</td>\n",
       "    </tr>\n",
       "    <tr>\n",
       "      <th>2022-12-25 22:06:59</th>\n",
       "      <td>0.0</td>\n",
       "    </tr>\n",
       "    <tr>\n",
       "      <th>2022-12-25 22:08:11</th>\n",
       "      <td>0.0</td>\n",
       "    </tr>\n",
       "    <tr>\n",
       "      <th>2023-12-13 01:00:11</th>\n",
       "      <td>0.0</td>\n",
       "    </tr>\n",
       "    <tr>\n",
       "      <th>2023-12-13 17:20:11</th>\n",
       "      <td>0.0</td>\n",
       "    </tr>\n",
       "    <tr>\n",
       "      <th>2023-12-14 13:38:59</th>\n",
       "      <td>0.0</td>\n",
       "    </tr>\n",
       "    <tr>\n",
       "      <th>2023-12-15 00:05:59</th>\n",
       "      <td>0.0</td>\n",
       "    </tr>\n",
       "  </tbody>\n",
       "</table>\n",
       "</div>"
      ],
      "text/plain": [
       "                     price\n",
       "datetime                  \n",
       "2022-03-23 01:27:55    0.0\n",
       "2022-03-26 15:24:23    0.0\n",
       "2022-03-26 15:51:38    0.0\n",
       "2022-04-29 03:39:27    0.0\n",
       "2022-06-12 05:38:46    0.0\n",
       "2022-07-29 20:46:18    0.0\n",
       "2022-07-30 08:53:49    0.0\n",
       "2022-08-04 19:21:11    0.0\n",
       "2022-08-05 01:33:07    0.0\n",
       "2022-08-05 23:07:25    0.0\n",
       "2022-08-05 23:24:09    0.0\n",
       "2022-08-09 02:38:16    0.0\n",
       "2022-08-10 05:21:47    0.0\n",
       "2022-08-10 22:37:48    0.0\n",
       "2022-08-11 13:59:25    0.0\n",
       "2022-08-13 18:04:25    0.0\n",
       "2022-08-14 10:54:09    0.0\n",
       "2022-08-28 17:38:53    0.0\n",
       "2022-09-03 20:43:26    0.0\n",
       "2022-09-15 12:45:23    0.0\n",
       "2022-09-16 01:12:11    0.0\n",
       "2022-09-17 22:42:11    0.0\n",
       "2022-10-10 14:10:11    0.0\n",
       "2022-10-28 15:21:11    0.0\n",
       "2022-10-31 08:58:11    0.0\n",
       "2022-10-31 09:51:59    0.0\n",
       "2022-11-06 23:59:11    0.0\n",
       "2022-12-09 04:18:11    0.0\n",
       "2022-12-22 07:38:23    0.0\n",
       "2022-12-25 22:06:59    0.0\n",
       "2022-12-25 22:08:11    0.0\n",
       "2023-12-13 01:00:11    0.0\n",
       "2023-12-13 17:20:11    0.0\n",
       "2023-12-14 13:38:59    0.0\n",
       "2023-12-15 00:05:59    0.0"
      ]
     },
     "execution_count": 199,
     "metadata": {},
     "output_type": "execute_result"
    }
   ],
   "source": [
    "# data points where trades have no price impact.\n",
    "test =df_m_3000[['price']]-df_m_3000[['price']].shift(1)\n",
    "bad_price_diff = test[test['price']==0]\n",
    "bad_price_diff"
   ]
  },
  {
   "cell_type": "code",
   "execution_count": 200,
   "id": "e0281356-3a6d-4723-ab26-909741adf91e",
   "metadata": {
    "tags": []
   },
   "outputs": [
    {
     "data": {
      "text/html": [
       "<div>\n",
       "<style scoped>\n",
       "    .dataframe tbody tr th:only-of-type {\n",
       "        vertical-align: middle;\n",
       "    }\n",
       "\n",
       "    .dataframe tbody tr th {\n",
       "        vertical-align: top;\n",
       "    }\n",
       "\n",
       "    .dataframe thead th {\n",
       "        text-align: right;\n",
       "    }\n",
       "</style>\n",
       "<table border=\"1\" class=\"dataframe\">\n",
       "  <thead>\n",
       "    <tr style=\"text-align: right;\">\n",
       "      <th></th>\n",
       "      <th>blockNumber</th>\n",
       "      <th>price</th>\n",
       "      <th>WETH</th>\n",
       "      <th>DAI</th>\n",
       "      <th>liquidity</th>\n",
       "    </tr>\n",
       "    <tr>\n",
       "      <th>datetime</th>\n",
       "      <th></th>\n",
       "      <th></th>\n",
       "      <th></th>\n",
       "      <th></th>\n",
       "      <th></th>\n",
       "    </tr>\n",
       "  </thead>\n",
       "  <tbody>\n",
       "    <tr>\n",
       "      <th>2022-03-23 01:27:55</th>\n",
       "      <td>14439626</td>\n",
       "      <td>2942.259277</td>\n",
       "      <td>1.000000e-18</td>\n",
       "      <td>0.000000e+00</td>\n",
       "      <td>1650837695179840867815975</td>\n",
       "    </tr>\n",
       "    <tr>\n",
       "      <th>2022-08-09 02:38:16</th>\n",
       "      <td>15305384</td>\n",
       "      <td>1768.235497</td>\n",
       "      <td>0.000000e+00</td>\n",
       "      <td>1.000000e-18</td>\n",
       "      <td>1106636537174050885967742</td>\n",
       "    </tr>\n",
       "    <tr>\n",
       "      <th>2022-08-10 05:21:47</th>\n",
       "      <td>15312497</td>\n",
       "      <td>1678.711111</td>\n",
       "      <td>0.000000e+00</td>\n",
       "      <td>1.000000e-18</td>\n",
       "      <td>955417817758499881015661</td>\n",
       "    </tr>\n",
       "    <tr>\n",
       "      <th>2022-08-11 13:59:25</th>\n",
       "      <td>15321116</td>\n",
       "      <td>1909.589779</td>\n",
       "      <td>0.000000e+00</td>\n",
       "      <td>1.000000e-18</td>\n",
       "      <td>413854995417652277518497</td>\n",
       "    </tr>\n",
       "    <tr>\n",
       "      <th>2022-12-25 22:06:59</th>\n",
       "      <td>16264641</td>\n",
       "      <td>1219.641541</td>\n",
       "      <td>1.000000e-18</td>\n",
       "      <td>0.000000e+00</td>\n",
       "      <td>1740800841557742930349383</td>\n",
       "    </tr>\n",
       "    <tr>\n",
       "      <th>2022-12-25 22:08:11</th>\n",
       "      <td>16264647</td>\n",
       "      <td>1219.641541</td>\n",
       "      <td>1.000000e-18</td>\n",
       "      <td>0.000000e+00</td>\n",
       "      <td>1740800841557742930349383</td>\n",
       "    </tr>\n",
       "  </tbody>\n",
       "</table>\n",
       "</div>"
      ],
      "text/plain": [
       "                     blockNumber        price          WETH           DAI  \\\n",
       "datetime                                                                    \n",
       "2022-03-23 01:27:55     14439626  2942.259277  1.000000e-18  0.000000e+00   \n",
       "2022-08-09 02:38:16     15305384  1768.235497  0.000000e+00  1.000000e-18   \n",
       "2022-08-10 05:21:47     15312497  1678.711111  0.000000e+00  1.000000e-18   \n",
       "2022-08-11 13:59:25     15321116  1909.589779  0.000000e+00  1.000000e-18   \n",
       "2022-12-25 22:06:59     16264641  1219.641541  1.000000e-18  0.000000e+00   \n",
       "2022-12-25 22:08:11     16264647  1219.641541  1.000000e-18  0.000000e+00   \n",
       "\n",
       "                                     liquidity  \n",
       "datetime                                        \n",
       "2022-03-23 01:27:55  1650837695179840867815975  \n",
       "2022-08-09 02:38:16  1106636537174050885967742  \n",
       "2022-08-10 05:21:47   955417817758499881015661  \n",
       "2022-08-11 13:59:25   413854995417652277518497  \n",
       "2022-12-25 22:06:59  1740800841557742930349383  \n",
       "2022-12-25 22:08:11  1740800841557742930349383  "
      ]
     },
     "execution_count": 200,
     "metadata": {},
     "output_type": "execute_result"
    }
   ],
   "source": [
    "#data points where the aamounts of one of token in trades are zero \n",
    "bad_volume = df_m_3000[  (df_m_3000['WETH']==0) | (df_m_3000['DAI']==0) ]\n",
    "bad_volume"
   ]
  },
  {
   "cell_type": "code",
   "execution_count": 201,
   "id": "c00d82d4-6eb5-4d33-b590-fe26f533ca81",
   "metadata": {
    "tags": []
   },
   "outputs": [],
   "source": [
    "df_m_3000 = df_m_3000[ ~ ( (df_m_3000['WETH']==0) | (df_m_3000['DAI']==0) )]"
   ]
  },
  {
   "cell_type": "markdown",
   "id": "af737e03-6dcf-47f7-a7d5-4be62f61d4d4",
   "metadata": {},
   "source": [
    "#### Output to csv"
   ]
  },
  {
   "cell_type": "code",
   "execution_count": 202,
   "id": "6beb02b4-34f2-4182-a729-33053fcbe950",
   "metadata": {
    "tags": []
   },
   "outputs": [],
   "source": [
    "df_m_3000.to_csv(f'Data/organized data/{token_0}_{token_1}_mainnet_3000/{token_0}_{token_1}_m_3000_original.csv') "
   ]
  },
  {
   "cell_type": "markdown",
   "id": "e2cc126d-6895-4a15-a4da-fb038e3b8c13",
   "metadata": {},
   "source": [
    "### Resample and output to csv"
   ]
  },
  {
   "cell_type": "code",
   "execution_count": 205,
   "id": "dec6972d-bc18-47d8-b95b-177c53301f30",
   "metadata": {
    "collapsed": true,
    "jupyter": {
     "outputs_hidden": true
    },
    "tags": []
   },
   "outputs": [
    {
     "name": "stderr",
     "output_type": "stream",
     "text": [
      "C:\\Users\\std92\\AppData\\Local\\Temp\\ipykernel_17892\\4048485478.py:3: SettingWithCopyWarning: \n",
      "A value is trying to be set on a copy of a slice from a DataFrame.\n",
      "Try using .loc[row_indexer,col_indexer] = value instead\n",
      "\n",
      "See the caveats in the documentation: https://pandas.pydata.org/pandas-docs/stable/user_guide/indexing.html#returning-a-view-versus-a-copy\n",
      "  df['No.']= df.groupby(df.index).cumcount() + 1\n"
     ]
    }
   ],
   "source": [
    "time_list = ['1min', '5min','10min','30min','1H','6H','12H','1D','1W']\n",
    "order(df_m_3000)\n",
    "for T in time_list:\n",
    "    df_res=  resample(df_m_3000,T)\n",
    "    df_res.to_csv(f'Data/organized data/{token_0}_{token_1}_mainnet_3000/{token_0}_{token_1}_m_3000_{T}.csv') "
   ]
  },
  {
   "cell_type": "code",
   "execution_count": null,
   "id": "8d49b578-f425-494a-b170-7396c539833a",
   "metadata": {},
   "outputs": [],
   "source": []
  },
  {
   "cell_type": "code",
   "execution_count": null,
   "id": "ad93ed8d-c7fa-4fa4-a9f9-d33421722cf3",
   "metadata": {},
   "outputs": [],
   "source": []
  },
  {
   "cell_type": "markdown",
   "id": "b1141754-a6ee-4e1a-8f17-3fe5b7a74de0",
   "metadata": {},
   "source": [
    "### Arrival"
   ]
  },
  {
   "cell_type": "code",
   "execution_count": 82,
   "id": "8b4ffd85-2cdf-470b-8a1c-bcd3593cc735",
   "metadata": {
    "tags": []
   },
   "outputs": [],
   "source": [
    "token_0 ='WETH'\n",
    "token_1 ='DAI'\n",
    "df_m_DAI_3000 = pd.read_csv(f'Data/organized data/{token_0}_{token_1}_mainnet_3000/{token_0}_{token_1}_m_3000_original.csv',index_col='datetime') \n",
    "df_m_DAI_3000.index = pd.to_datetime(df_m_DAI_3000.index)\n",
    "arrival_m_DAI_3000 = arrival(df_m_DAI_3000)"
   ]
  },
  {
   "cell_type": "code",
   "execution_count": null,
   "id": "7e9cab15-423c-4be5-b81c-1bfd68fc322e",
   "metadata": {},
   "outputs": [],
   "source": []
  },
  {
   "cell_type": "markdown",
   "id": "64894ab3-e72d-4ef0-a516-97557d539eb1",
   "metadata": {
    "tags": [],
    "toc-hr-collapsed": true
   },
   "source": [
    "#  Price from Binance"
   ]
  },
  {
   "cell_type": "markdown",
   "id": "f5319840-8ca9-4de0-8361-bd0f6f799202",
   "metadata": {
    "tags": []
   },
   "source": [
    "## ETH"
   ]
  },
  {
   "cell_type": "markdown",
   "id": "2c5470c9-a27a-4919-a627-11bea8d805a3",
   "metadata": {
    "tags": []
   },
   "source": [
    "### Fetch the data and check"
   ]
  },
  {
   "cell_type": "markdown",
   "id": "8ba45ff8-1d93-4bbf-acc0-fadec7245897",
   "metadata": {},
   "source": [
    "We can see that in the data, there are some jumps of datetime(more than one minute). "
   ]
  },
  {
   "cell_type": "code",
   "execution_count": 3,
   "id": "59bf9094-231b-4d95-a528-ac54feee5e95",
   "metadata": {
    "tags": []
   },
   "outputs": [],
   "source": [
    "token_0 = 'ETH'\n",
    "token_1 = 'USD'"
   ]
  },
  {
   "cell_type": "code",
   "execution_count": 209,
   "id": "5b66bd70-d06b-476e-8e8a-eb5e5499f1e6",
   "metadata": {
    "tags": []
   },
   "outputs": [
    {
     "data": {
      "text/html": [
       "<div>\n",
       "<style scoped>\n",
       "    .dataframe tbody tr th:only-of-type {\n",
       "        vertical-align: middle;\n",
       "    }\n",
       "\n",
       "    .dataframe tbody tr th {\n",
       "        vertical-align: top;\n",
       "    }\n",
       "\n",
       "    .dataframe thead th {\n",
       "        text-align: right;\n",
       "    }\n",
       "</style>\n",
       "<table border=\"1\" class=\"dataframe\">\n",
       "  <thead>\n",
       "    <tr style=\"text-align: right;\">\n",
       "      <th></th>\n",
       "      <th>Unnamed: 0</th>\n",
       "      <th>timestamp</th>\n",
       "      <th>close</th>\n",
       "      <th>datetime</th>\n",
       "      <th>diff</th>\n",
       "    </tr>\n",
       "  </thead>\n",
       "  <tbody>\n",
       "    <tr>\n",
       "      <th>0</th>\n",
       "      <td>0</td>\n",
       "      <td>2021-08-31 14:16:00</td>\n",
       "      <td>3413.65</td>\n",
       "      <td>2021-08-31 14:16:00</td>\n",
       "      <td>NaT</td>\n",
       "    </tr>\n",
       "    <tr>\n",
       "      <th>41324</th>\n",
       "      <td>41324</td>\n",
       "      <td>2021-09-29 09:00:00</td>\n",
       "      <td>2904.11</td>\n",
       "      <td>2021-09-29 09:00:00</td>\n",
       "      <td>0 days 02:01:00</td>\n",
       "    </tr>\n",
       "    <tr>\n",
       "      <th>820584</th>\n",
       "      <td>119981</td>\n",
       "      <td>2023-03-24 14:00:00</td>\n",
       "      <td>1763.69</td>\n",
       "      <td>2023-03-24 14:00:00</td>\n",
       "      <td>0 days 01:21:00</td>\n",
       "    </tr>\n",
       "  </tbody>\n",
       "</table>\n",
       "</div>"
      ],
      "text/plain": [
       "        Unnamed: 0            timestamp    close            datetime  \\\n",
       "0                0  2021-08-31 14:16:00  3413.65 2021-08-31 14:16:00   \n",
       "41324        41324  2021-09-29 09:00:00  2904.11 2021-09-29 09:00:00   \n",
       "820584      119981  2023-03-24 14:00:00  1763.69 2023-03-24 14:00:00   \n",
       "\n",
       "                  diff  \n",
       "0                  NaT  \n",
       "41324  0 days 02:01:00  \n",
       "820584 0 days 01:21:00  "
      ]
     },
     "execution_count": 209,
     "metadata": {},
     "output_type": "execute_result"
    }
   ],
   "source": [
    "df_CEX = pd.read_csv(\"Data/Binance/ETH_USD_Binance.csv\")\n",
    "df_CEX['datetime']=pd.to_datetime(df_CEX['timestamp'])\n",
    "df_CEX['diff'] = df_CEX['datetime'] - df_CEX['datetime'].shift(1)\n",
    "df_CEX[ df_CEX['diff']!= '0 days 00:01:00']"
   ]
  },
  {
   "cell_type": "code",
   "execution_count": 210,
   "id": "fe697e56-2585-4f5d-a115-c0d8c6e49a5a",
   "metadata": {
    "tags": []
   },
   "outputs": [],
   "source": [
    "df_CEX= df_CEX[ ['datetime','close'] ]  \n",
    "df_CEX.set_index( 'datetime',inplace=True)\n",
    "df_CEX=df_CEX.resample('T').ffill()"
   ]
  },
  {
   "cell_type": "code",
   "execution_count": 13,
   "id": "90dc890f-6d82-4eb2-8162-3b5ed75cd970",
   "metadata": {
    "tags": []
   },
   "outputs": [
    {
     "data": {
      "text/html": [
       "<div>\n",
       "<style scoped>\n",
       "    .dataframe tbody tr th:only-of-type {\n",
       "        vertical-align: middle;\n",
       "    }\n",
       "\n",
       "    .dataframe tbody tr th {\n",
       "        vertical-align: top;\n",
       "    }\n",
       "\n",
       "    .dataframe thead th {\n",
       "        text-align: right;\n",
       "    }\n",
       "</style>\n",
       "<table border=\"1\" class=\"dataframe\">\n",
       "  <thead>\n",
       "    <tr style=\"text-align: right;\">\n",
       "      <th></th>\n",
       "      <th>datetime</th>\n",
       "      <th>close</th>\n",
       "      <th>diff</th>\n",
       "    </tr>\n",
       "  </thead>\n",
       "  <tbody>\n",
       "    <tr>\n",
       "      <th>0</th>\n",
       "      <td>2017-08-17 04:00:00</td>\n",
       "      <td>301.13</td>\n",
       "      <td>NaT</td>\n",
       "    </tr>\n",
       "  </tbody>\n",
       "</table>\n",
       "</div>"
      ],
      "text/plain": [
       "             datetime   close diff\n",
       "0 2017-08-17 04:00:00  301.13  NaT"
      ]
     },
     "execution_count": 13,
     "metadata": {},
     "output_type": "execute_result"
    }
   ],
   "source": [
    "tt= df_CEX\n",
    "tt=tt.reset_index()\n",
    "tt['diff']=tt['datetime']-tt['datetime'].shift(1)\n",
    "tt[ tt['diff'] != \"0 days 00:01:00\"] #indeed no gap for datetime now"
   ]
  },
  {
   "cell_type": "markdown",
   "id": "90b1ca95-5096-491e-803f-eddedef3bd9d",
   "metadata": {},
   "source": [
    "#### Add more data\n",
    "Here we extend the range of time to '2017 8/17 ~ 2023/10/18 '"
   ]
  },
  {
   "cell_type": "code",
   "execution_count": 6,
   "id": "1bab8397-4600-442d-9216-21b629aa64e9",
   "metadata": {
    "tags": []
   },
   "outputs": [],
   "source": [
    "df_CEX_0 = pd.read_csv('Data/Binance/ETH_2017to2021.csv',index_col='datetime')[['close']]\n",
    "df_CEX_0.index = pd.to_datetime(df_CEX_0.index)\n",
    "\n",
    "df_CEX_1 = pd.read_csv('Data/Binance/ETH_USD_1min.csv' ,index_col='datetime')\n",
    "df_CEX_1.index = pd.to_datetime(df_CEX_1.index)"
   ]
  },
  {
   "cell_type": "code",
   "execution_count": 14,
   "id": "c757e015-b4dd-4ebc-8e37-f9e24d229dcd",
   "metadata": {
    "tags": []
   },
   "outputs": [],
   "source": [
    "#df_CEX_1min = pd.concat([df_CEX_0,df_CEX_1])\n",
    "df_CEX_1min.to_csv('Data/Binance/ETH_USD_1min.csv' )"
   ]
  },
  {
   "cell_type": "code",
   "execution_count": 13,
   "id": "c3ab85b7-3cdb-4e93-9ae6-86f975705974",
   "metadata": {
    "tags": []
   },
   "outputs": [
    {
     "data": {
      "text/plain": [
       "(18901.0, 19631.0)"
      ]
     },
     "execution_count": 13,
     "metadata": {},
     "output_type": "execute_result"
    },
    {
     "data": {
      "image/png": "[encoded data removed]",
      "text/plain": [
       "<Figure size 640x480 with 1 Axes>"
      ]
     },
     "metadata": {},
     "output_type": "display_data"
    }
   ],
   "source": [
    "plt.plot(df_CEX.index,df_CEX.close)\n",
    "plt.xticks(rotation = 45)\n",
    "plt.xlim(datetime(2021,10,1),datetime(2023,10,1))\n"
   ]
  },
  {
   "cell_type": "markdown",
   "id": "9ddfbf0d-78e0-4820-9be0-646220bf14f6",
   "metadata": {
    "tags": []
   },
   "source": [
    "### Resample and output to csv\n",
    "We consider the same intervals as pool resampled data as before. For daily frequency, we will choose different starting/end times in a day (e.g 1pm to 1pm instead of 0am to 0am etc). "
   ]
  },
  {
   "cell_type": "code",
   "execution_count": 11,
   "id": "76ff5dcb-dc99-4c6e-96a4-37e7ebd4bb16",
   "metadata": {
    "tags": []
   },
   "outputs": [],
   "source": [
    "df_CEX = pd.read_csv('Data/Binance/ETH/ETH_USD_1min.csv' ,index_col='datetime')\n",
    "df_CEX.index = pd.to_datetime(df_CEX.index)"
   ]
  },
  {
   "cell_type": "code",
   "execution_count": null,
   "id": "be861e31-ac58-4c7a-bb97-e165001a5eea",
   "metadata": {
    "tags": []
   },
   "outputs": [],
   "source": [
    "time_list = ['5min', '10min','30min','1H','6H','12H','1D','1W','1M','1Q' ]\n",
    "for T in time_list:\n",
    "    df = df_CEX.resample(T).last()\n",
    "    path= f'Data/Binance/{token_0}_{token_1}_{T}.csv'\n",
    "    df.to_csv(path)"
   ]
  },
  {
   "cell_type": "code",
   "execution_count": 5,
   "id": "39b9215a-42e7-4f8a-b18f-82484a842798",
   "metadata": {
    "tags": []
   },
   "outputs": [],
   "source": [
    "df_list = []\n",
    "for t in range(24):\n",
    "    time = f'{t}H'\n",
    "    if t == 0:\n",
    "        df = df_CEX.resample('1D').last()\n",
    "    else:\n",
    "        df = df_CEX.resample('1D',offset=time).last()\n",
    "    df['start'] = time\n",
    "    df_list.append(df)\n",
    "df_CEX_daily =pd.concat(df_list)\n",
    "df_CEX_daily\n",
    "df_CEX_daily.to_csv('Data/Binance/ETH_USD_daily.csv')"
   ]
  },
  {
   "cell_type": "markdown",
   "id": "7923fdb2-336e-452f-a1da-de0e2b678a34",
   "metadata": {},
   "source": [
    "Also we'll create another daily-frequency dataframe whose timeframe aligns with traditional CEXs. The start time(open) is 9:30 a.m EST/EDT and end time (close): 16:00 p.m EST. We choose the start date to be 2021 9/1 UTC."
   ]
  },
  {
   "cell_type": "code",
   "execution_count": 43,
   "id": "35effe11-3ace-4ca9-9d07-bbab7d8c10da",
   "metadata": {
    "tags": []
   },
   "outputs": [
    {
     "data": {
      "text/html": [
       "<div>\n",
       "<style scoped>\n",
       "    .dataframe tbody tr th:only-of-type {\n",
       "        vertical-align: middle;\n",
       "    }\n",
       "\n",
       "    .dataframe tbody tr th {\n",
       "        vertical-align: top;\n",
       "    }\n",
       "\n",
       "    .dataframe thead th {\n",
       "        text-align: right;\n",
       "    }\n",
       "</style>\n",
       "<table border=\"1\" class=\"dataframe\">\n",
       "  <thead>\n",
       "    <tr style=\"text-align: right;\">\n",
       "      <th></th>\n",
       "      <th>open</th>\n",
       "      <th>close</th>\n",
       "    </tr>\n",
       "    <tr>\n",
       "      <th>date</th>\n",
       "      <th></th>\n",
       "      <th></th>\n",
       "    </tr>\n",
       "  </thead>\n",
       "  <tbody>\n",
       "    <tr>\n",
       "      <th>2017-08-17</th>\n",
       "      <td>309.52</td>\n",
       "      <td>302.11</td>\n",
       "    </tr>\n",
       "    <tr>\n",
       "      <th>2017-08-18</th>\n",
       "      <td>301.30</td>\n",
       "      <td>295.46</td>\n",
       "    </tr>\n",
       "    <tr>\n",
       "      <th>2017-08-19</th>\n",
       "      <td>288.04</td>\n",
       "      <td>293.31</td>\n",
       "    </tr>\n",
       "    <tr>\n",
       "      <th>2017-08-20</th>\n",
       "      <td>292.28</td>\n",
       "      <td>297.87</td>\n",
       "    </tr>\n",
       "    <tr>\n",
       "      <th>2017-08-21</th>\n",
       "      <td>337.06</td>\n",
       "      <td>332.27</td>\n",
       "    </tr>\n",
       "    <tr>\n",
       "      <th>...</th>\n",
       "      <td>...</td>\n",
       "      <td>...</td>\n",
       "    </tr>\n",
       "    <tr>\n",
       "      <th>2023-10-14</th>\n",
       "      <td>1550.40</td>\n",
       "      <td>1555.23</td>\n",
       "    </tr>\n",
       "    <tr>\n",
       "      <th>2023-10-15</th>\n",
       "      <td>1559.48</td>\n",
       "      <td>1559.63</td>\n",
       "    </tr>\n",
       "    <tr>\n",
       "      <th>2023-10-16</th>\n",
       "      <td>1629.06</td>\n",
       "      <td>1590.30</td>\n",
       "    </tr>\n",
       "    <tr>\n",
       "      <th>2023-10-17</th>\n",
       "      <td>1574.25</td>\n",
       "      <td>1562.72</td>\n",
       "    </tr>\n",
       "    <tr>\n",
       "      <th>2023-10-18</th>\n",
       "      <td>1575.70</td>\n",
       "      <td>1561.23</td>\n",
       "    </tr>\n",
       "  </tbody>\n",
       "</table>\n",
       "<p>2254 rows × 2 columns</p>\n",
       "</div>"
      ],
      "text/plain": [
       "               open    close\n",
       "date                        \n",
       "2017-08-17   309.52   302.11\n",
       "2017-08-18   301.30   295.46\n",
       "2017-08-19   288.04   293.31\n",
       "2017-08-20   292.28   297.87\n",
       "2017-08-21   337.06   332.27\n",
       "...             ...      ...\n",
       "2023-10-14  1550.40  1555.23\n",
       "2023-10-15  1559.48  1559.63\n",
       "2023-10-16  1629.06  1590.30\n",
       "2023-10-17  1574.25  1562.72\n",
       "2023-10-18  1575.70  1561.23\n",
       "\n",
       "[2254 rows x 2 columns]"
      ]
     },
     "execution_count": 43,
     "metadata": {},
     "output_type": "execute_result"
    }
   ],
   "source": [
    "copy = df_CEX.copy()\n",
    "\n",
    "#Change to EST/EDT\n",
    "copy.index= copy.index.tz_localize('UTC')\n",
    "copy.index = copy.index.tz_convert('America/New_York')\n",
    "copy.index= copy.index.tz_localize(None)\n",
    "\n",
    "df_open0 =copy[ (copy.index.hour ==9) &(copy.index.minute ==30)]\n",
    "df_open1 = df_open0.reset_index()\n",
    "df_open1['datetime'] = df_open1['datetime'].apply(lambda x: x.date())\n",
    "df_open0 = df_open1[ ['datetime' , 'close']]\n",
    "df_open0.set_index('datetime',inplace=True)\n",
    "df_open0=df_open0.rename( columns={'close':'open'})\n",
    "\n",
    "\n",
    "df_close0 = copy[ (copy.index.hour == 16) &(copy.index.minute ==0)]\n",
    "df_close1 = df_close0.reset_index()\n",
    "df_close1['datetime'] = df_close1['datetime'].apply(lambda x: x.date())\n",
    "df_close0 = df_close1[ ['datetime' , 'close']]\n",
    "df_close0.set_index('datetime',inplace=True)\n",
    "\n",
    "df_CEX_9to16 = pd.concat([df_open0 ,df_close0] , axis=1) \n",
    "df_CEX_9to16\n",
    "df_CEX_9to16.to_csv('Data/Binance/ETH_USD_9to16.csv' )"
   ]
  },
  {
   "cell_type": "markdown",
   "id": "375818d2-c3e9-4b43-af6d-1cca7cf76ef8",
   "metadata": {},
   "source": [
    "### Plot "
   ]
  },
  {
   "cell_type": "code",
   "execution_count": 2,
   "id": "95fffa85-e70b-4dce-b4bd-b3aa7de0031c",
   "metadata": {
    "tags": []
   },
   "outputs": [],
   "source": [
    "df_CEX = pd.read_csv('Data/Binance/ETH/ETH_USD_1min.csv' ,index_col='datetime')\n",
    "df_CEX.index = pd.to_datetime(df_CEX.index)\n",
    "df_CEX = df_CEX[ df_CEX.index > '2021 09-01']\n",
    "\n",
    "res_arb_3000_1min = pd.read_csv('Data/organized data/WETH_USDC_arb_3000/WETH_USDC_arb_3000_1min.csv '\n",
    "                               ,index_col='datetime')\n",
    "res_arb_3000_1min.index = pd.to_datetime(res_arb_3000_1min.index)"
   ]
  },
  {
   "cell_type": "markdown",
   "id": "600f9867-2fe6-479b-8b79-41b32e4a179d",
   "metadata": {
    "tags": []
   },
   "source": [
    "From large scale, pool and market price overlap. "
   ]
  },
  {
   "cell_type": "markdown",
   "id": "9ca7c168-5bd4-4ae9-9e67-10c015c6bd8f",
   "metadata": {},
   "source": [
    "If $\\gamma = 0.995$, means fee is $0.5\\%$, then the fraction of time seems more reasonalbe."
   ]
  },
  {
   "cell_type": "markdown",
   "id": "de5d5eb9-b637-4ce5-9fb3-99367c6e9be9",
   "metadata": {
    "tags": []
   },
   "source": [
    "## BTC "
   ]
  },
  {
   "cell_type": "code",
   "execution_count": 7,
   "id": "64133626-e15f-46f8-9c97-e693a528ca87",
   "metadata": {
    "tags": []
   },
   "outputs": [],
   "source": [
    "token_0 = 'BTC'\n",
    "token_1 = 'USD'"
   ]
  },
  {
   "cell_type": "code",
   "execution_count": 4,
   "id": "34e1a6c3-491d-4673-9a36-e2e2ee0078f0",
   "metadata": {
    "tags": []
   },
   "outputs": [
    {
     "data": {
      "text/html": [
       "<div>\n",
       "<style scoped>\n",
       "    .dataframe tbody tr th:only-of-type {\n",
       "        vertical-align: middle;\n",
       "    }\n",
       "\n",
       "    .dataframe tbody tr th {\n",
       "        vertical-align: top;\n",
       "    }\n",
       "\n",
       "    .dataframe thead th {\n",
       "        text-align: right;\n",
       "    }\n",
       "</style>\n",
       "<table border=\"1\" class=\"dataframe\">\n",
       "  <thead>\n",
       "    <tr style=\"text-align: right;\">\n",
       "      <th></th>\n",
       "      <th>Unnamed: 0</th>\n",
       "      <th>timestamp</th>\n",
       "      <th>open</th>\n",
       "      <th>high</th>\n",
       "      <th>low</th>\n",
       "      <th>close</th>\n",
       "      <th>volume</th>\n",
       "      <th>datetime</th>\n",
       "      <th>diff</th>\n",
       "    </tr>\n",
       "  </thead>\n",
       "  <tbody>\n",
       "    <tr>\n",
       "      <th>0</th>\n",
       "      <td>0</td>\n",
       "      <td>2017-08-17 08:00:00</td>\n",
       "      <td>4333.32</td>\n",
       "      <td>4349.99</td>\n",
       "      <td>4333.32</td>\n",
       "      <td>4349.99</td>\n",
       "      <td>0.144289</td>\n",
       "      <td>2017-08-17 08:00:00</td>\n",
       "      <td>NaT</td>\n",
       "    </tr>\n",
       "    <tr>\n",
       "      <th>29281</th>\n",
       "      <td>29281</td>\n",
       "      <td>2017-09-06 23:00:00</td>\n",
       "      <td>4619.43</td>\n",
       "      <td>4619.64</td>\n",
       "      <td>4619.43</td>\n",
       "      <td>4619.64</td>\n",
       "      <td>2.226911</td>\n",
       "      <td>2017-09-06 23:00:00</td>\n",
       "      <td>0 days 07:00:00</td>\n",
       "    </tr>\n",
       "    <tr>\n",
       "      <th>156422</th>\n",
       "      <td>156422</td>\n",
       "      <td>2017-12-04 06:49:00</td>\n",
       "      <td>11464.01</td>\n",
       "      <td>11490.00</td>\n",
       "      <td>11460.00</td>\n",
       "      <td>11460.00</td>\n",
       "      <td>0.634925</td>\n",
       "      <td>2017-12-04 06:49:00</td>\n",
       "      <td>0 days 00:49:00</td>\n",
       "    </tr>\n",
       "    <tr>\n",
       "      <th>176774</th>\n",
       "      <td>176774</td>\n",
       "      <td>2017-12-18 10:14:00</td>\n",
       "      <td>18680.91</td>\n",
       "      <td>18680.95</td>\n",
       "      <td>18657.25</td>\n",
       "      <td>18680.95</td>\n",
       "      <td>0.276016</td>\n",
       "      <td>2017-12-18 10:14:00</td>\n",
       "      <td>0 days 00:14:00</td>\n",
       "    </tr>\n",
       "    <tr>\n",
       "      <th>176910</th>\n",
       "      <td>176910</td>\n",
       "      <td>2017-12-18 13:34:00</td>\n",
       "      <td>19161.00</td>\n",
       "      <td>19201.00</td>\n",
       "      <td>18850.00</td>\n",
       "      <td>18850.04</td>\n",
       "      <td>40.169844</td>\n",
       "      <td>2017-12-18 13:34:00</td>\n",
       "      <td>0 days 01:05:00</td>\n",
       "    </tr>\n",
       "    <tr>\n",
       "      <th>200757</th>\n",
       "      <td>200757</td>\n",
       "      <td>2018-01-04 05:06:00</td>\n",
       "      <td>15119.97</td>\n",
       "      <td>15119.97</td>\n",
       "      <td>14850.00</td>\n",
       "      <td>14875.34</td>\n",
       "      <td>57.675828</td>\n",
       "      <td>2018-01-04 05:06:00</td>\n",
       "      <td>0 days 02:06:00</td>\n",
       "    </tr>\n",
       "    <tr>\n",
       "      <th>250880</th>\n",
       "      <td>250880</td>\n",
       "      <td>2018-02-09 10:00:00</td>\n",
       "      <td>7789.90</td>\n",
       "      <td>8290.00</td>\n",
       "      <td>7789.90</td>\n",
       "      <td>8290.00</td>\n",
       "      <td>210.243307</td>\n",
       "      <td>2018-02-09 10:00:00</td>\n",
       "      <td>1 days 09:32:00</td>\n",
       "    </tr>\n",
       "    <tr>\n",
       "      <th>252080</th>\n",
       "      <td>252080</td>\n",
       "      <td>2018-02-10 06:15:00</td>\n",
       "      <td>8842.98</td>\n",
       "      <td>8905.00</td>\n",
       "      <td>8842.98</td>\n",
       "      <td>8894.04</td>\n",
       "      <td>29.915880</td>\n",
       "      <td>2018-02-10 06:15:00</td>\n",
       "      <td>0 days 00:16:00</td>\n",
       "    </tr>\n",
       "    <tr>\n",
       "      <th>253386</th>\n",
       "      <td>253386</td>\n",
       "      <td>2018-02-11 04:35:00</td>\n",
       "      <td>7976.74</td>\n",
       "      <td>8098.00</td>\n",
       "      <td>7976.49</td>\n",
       "      <td>8077.23</td>\n",
       "      <td>135.346530</td>\n",
       "      <td>2018-02-11 04:35:00</td>\n",
       "      <td>0 days 00:35:00</td>\n",
       "    </tr>\n",
       "    <tr>\n",
       "      <th>447631</th>\n",
       "      <td>447631</td>\n",
       "      <td>2018-06-26 12:00:00</td>\n",
       "      <td>6228.00</td>\n",
       "      <td>6228.00</td>\n",
       "      <td>6180.00</td>\n",
       "      <td>6190.00</td>\n",
       "      <td>73.507996</td>\n",
       "      <td>2018-06-26 12:00:00</td>\n",
       "      <td>0 days 10:01:00</td>\n",
       "    </tr>\n",
       "    <tr>\n",
       "      <th>449131</th>\n",
       "      <td>449131</td>\n",
       "      <td>2018-06-27 14:45:00</td>\n",
       "      <td>6087.84</td>\n",
       "      <td>6087.84</td>\n",
       "      <td>6053.01</td>\n",
       "      <td>6055.06</td>\n",
       "      <td>54.565334</td>\n",
       "      <td>2018-06-27 14:45:00</td>\n",
       "      <td>0 days 01:46:00</td>\n",
       "    </tr>\n",
       "    <tr>\n",
       "      <th>458349</th>\n",
       "      <td>458349</td>\n",
       "      <td>2018-07-04 08:00:00</td>\n",
       "      <td>6481.72</td>\n",
       "      <td>6490.00</td>\n",
       "      <td>6455.20</td>\n",
       "      <td>6470.00</td>\n",
       "      <td>42.120444</td>\n",
       "      <td>2018-07-04 08:00:00</td>\n",
       "      <td>0 days 07:38:00</td>\n",
       "    </tr>\n",
       "    <tr>\n",
       "      <th>612309</th>\n",
       "      <td>612309</td>\n",
       "      <td>2018-10-19 09:30:00</td>\n",
       "      <td>6588.00</td>\n",
       "      <td>6597.50</td>\n",
       "      <td>6583.00</td>\n",
       "      <td>6595.00</td>\n",
       "      <td>33.263950</td>\n",
       "      <td>2018-10-19 09:30:00</td>\n",
       "      <td>0 days 03:31:00</td>\n",
       "    </tr>\n",
       "    <tr>\n",
       "      <th>649299</th>\n",
       "      <td>649299</td>\n",
       "      <td>2018-11-14 09:00:00</td>\n",
       "      <td>6469.00</td>\n",
       "      <td>6472.73</td>\n",
       "      <td>6468.36</td>\n",
       "      <td>6472.73</td>\n",
       "      <td>4.756144</td>\n",
       "      <td>2018-11-14 09:00:00</td>\n",
       "      <td>0 days 07:01:00</td>\n",
       "    </tr>\n",
       "    <tr>\n",
       "      <th>818799</th>\n",
       "      <td>818799</td>\n",
       "      <td>2019-03-12 08:00:00</td>\n",
       "      <td>3834.69</td>\n",
       "      <td>3881.00</td>\n",
       "      <td>3831.23</td>\n",
       "      <td>3862.13</td>\n",
       "      <td>209.086626</td>\n",
       "      <td>2019-03-12 08:00:00</td>\n",
       "      <td>0 days 06:01:00</td>\n",
       "    </tr>\n",
       "    <tr>\n",
       "      <th>910659</th>\n",
       "      <td>910659</td>\n",
       "      <td>2019-05-15 13:00:00</td>\n",
       "      <td>7946.71</td>\n",
       "      <td>8019.57</td>\n",
       "      <td>7946.58</td>\n",
       "      <td>8005.66</td>\n",
       "      <td>111.915511</td>\n",
       "      <td>2019-05-15 13:00:00</td>\n",
       "      <td>0 days 10:01:00</td>\n",
       "    </tr>\n",
       "    <tr>\n",
       "      <th>944273</th>\n",
       "      <td>944273</td>\n",
       "      <td>2019-06-07 22:15:00</td>\n",
       "      <td>7930.85</td>\n",
       "      <td>7972.07</td>\n",
       "      <td>7928.02</td>\n",
       "      <td>7970.68</td>\n",
       "      <td>104.486154</td>\n",
       "      <td>2019-06-07 22:15:00</td>\n",
       "      <td>0 days 01:02:00</td>\n",
       "    </tr>\n",
       "    <tr>\n",
       "      <th>1042418</th>\n",
       "      <td>1042418</td>\n",
       "      <td>2019-08-15 10:00:00</td>\n",
       "      <td>10085.65</td>\n",
       "      <td>10085.65</td>\n",
       "      <td>9945.86</td>\n",
       "      <td>9992.68</td>\n",
       "      <td>314.071138</td>\n",
       "      <td>2019-08-15 10:00:00</td>\n",
       "      <td>0 days 08:01:00</td>\n",
       "    </tr>\n",
       "    <tr>\n",
       "      <th>1171538</th>\n",
       "      <td>1171538</td>\n",
       "      <td>2019-11-13 04:20:00</td>\n",
       "      <td>8767.01</td>\n",
       "      <td>8767.01</td>\n",
       "      <td>8767.01</td>\n",
       "      <td>8767.01</td>\n",
       "      <td>0.690465</td>\n",
       "      <td>2019-11-13 04:20:00</td>\n",
       "      <td>0 days 02:21:00</td>\n",
       "    </tr>\n",
       "    <tr>\n",
       "      <th>1171608</th>\n",
       "      <td>1171608</td>\n",
       "      <td>2019-11-13 05:33:00</td>\n",
       "      <td>8738.43</td>\n",
       "      <td>8738.43</td>\n",
       "      <td>8737.08</td>\n",
       "      <td>8738.43</td>\n",
       "      <td>0.161097</td>\n",
       "      <td>2019-11-13 05:33:00</td>\n",
       "      <td>0 days 00:04:00</td>\n",
       "    </tr>\n",
       "    <tr>\n",
       "      <th>1188675</th>\n",
       "      <td>1188675</td>\n",
       "      <td>2019-11-25 04:00:00</td>\n",
       "      <td>6717.21</td>\n",
       "      <td>6725.66</td>\n",
       "      <td>6645.75</td>\n",
       "      <td>6663.39</td>\n",
       "      <td>197.295453</td>\n",
       "      <td>2019-11-25 04:00:00</td>\n",
       "      <td>0 days 02:01:00</td>\n",
       "    </tr>\n",
       "    <tr>\n",
       "      <th>1297995</th>\n",
       "      <td>1297995</td>\n",
       "      <td>2020-02-09 03:00:00</td>\n",
       "      <td>9938.86</td>\n",
       "      <td>9960.00</td>\n",
       "      <td>9937.92</td>\n",
       "      <td>9959.17</td>\n",
       "      <td>242.141738</td>\n",
       "      <td>2020-02-09 03:00:00</td>\n",
       "      <td>0 days 01:01:00</td>\n",
       "    </tr>\n",
       "    <tr>\n",
       "      <th>1312911</th>\n",
       "      <td>1312911</td>\n",
       "      <td>2020-02-19 17:30:00</td>\n",
       "      <td>10149.99</td>\n",
       "      <td>10250.00</td>\n",
       "      <td>10138.00</td>\n",
       "      <td>10197.67</td>\n",
       "      <td>693.851074</td>\n",
       "      <td>2020-02-19 17:30:00</td>\n",
       "      <td>0 days 05:55:00</td>\n",
       "    </tr>\n",
       "    <tr>\n",
       "      <th>1332583</th>\n",
       "      <td>1332583</td>\n",
       "      <td>2020-03-04 11:30:00</td>\n",
       "      <td>8795.06</td>\n",
       "      <td>8795.06</td>\n",
       "      <td>8720.00</td>\n",
       "      <td>8731.09</td>\n",
       "      <td>276.890336</td>\n",
       "      <td>2020-03-04 11:30:00</td>\n",
       "      <td>0 days 02:09:00</td>\n",
       "    </tr>\n",
       "    <tr>\n",
       "      <th>1406893</th>\n",
       "      <td>1406893</td>\n",
       "      <td>2020-04-25 04:30:00</td>\n",
       "      <td>7480.68</td>\n",
       "      <td>7510.00</td>\n",
       "      <td>7480.68</td>\n",
       "      <td>7507.27</td>\n",
       "      <td>132.747600</td>\n",
       "      <td>2020-04-25 04:30:00</td>\n",
       "      <td>0 days 02:31:00</td>\n",
       "    </tr>\n",
       "    <tr>\n",
       "      <th>1498903</th>\n",
       "      <td>1498903</td>\n",
       "      <td>2020-06-28 05:30:00</td>\n",
       "      <td>8971.86</td>\n",
       "      <td>8977.42</td>\n",
       "      <td>8971.86</td>\n",
       "      <td>8972.56</td>\n",
       "      <td>40.705756</td>\n",
       "      <td>2020-06-28 05:30:00</td>\n",
       "      <td>0 days 03:31:00</td>\n",
       "    </tr>\n",
       "    <tr>\n",
       "      <th>1722133</th>\n",
       "      <td>1722133</td>\n",
       "      <td>2020-11-30 07:00:00</td>\n",
       "      <td>18520.27</td>\n",
       "      <td>18559.77</td>\n",
       "      <td>18512.90</td>\n",
       "      <td>18528.76</td>\n",
       "      <td>65.068932</td>\n",
       "      <td>2020-11-30 07:00:00</td>\n",
       "      <td>0 days 01:01:00</td>\n",
       "    </tr>\n",
       "    <tr>\n",
       "      <th>1752781</th>\n",
       "      <td>1752781</td>\n",
       "      <td>2020-12-21 18:00:00</td>\n",
       "      <td>22693.65</td>\n",
       "      <td>22800.00</td>\n",
       "      <td>22621.44</td>\n",
       "      <td>22788.26</td>\n",
       "      <td>171.424128</td>\n",
       "      <td>2020-12-21 18:00:00</td>\n",
       "      <td>0 days 04:13:00</td>\n",
       "    </tr>\n",
       "    <tr>\n",
       "      <th>1757581</th>\n",
       "      <td>1757581</td>\n",
       "      <td>2020-12-25 03:00:00</td>\n",
       "      <td>23597.20</td>\n",
       "      <td>23597.20</td>\n",
       "      <td>23488.00</td>\n",
       "      <td>23505.80</td>\n",
       "      <td>226.905963</td>\n",
       "      <td>2020-12-25 03:00:00</td>\n",
       "      <td>0 days 01:01:00</td>\n",
       "    </tr>\n",
       "    <tr>\n",
       "      <th>1826742</th>\n",
       "      <td>1826742</td>\n",
       "      <td>2021-02-11 05:00:00</td>\n",
       "      <td>44583.71</td>\n",
       "      <td>44866.52</td>\n",
       "      <td>44583.71</td>\n",
       "      <td>44861.04</td>\n",
       "      <td>200.585889</td>\n",
       "      <td>2021-02-11 05:00:00</td>\n",
       "      <td>0 days 01:20:00</td>\n",
       "    </tr>\n",
       "    <tr>\n",
       "      <th>1859682</th>\n",
       "      <td>1859682</td>\n",
       "      <td>2021-03-06 03:30:00</td>\n",
       "      <td>48647.37</td>\n",
       "      <td>48700.00</td>\n",
       "      <td>48635.63</td>\n",
       "      <td>48680.94</td>\n",
       "      <td>34.030205</td>\n",
       "      <td>2021-03-06 03:30:00</td>\n",
       "      <td>0 days 01:31:00</td>\n",
       "    </tr>\n",
       "    <tr>\n",
       "      <th>1924392</th>\n",
       "      <td>1924392</td>\n",
       "      <td>2021-04-20 04:30:00</td>\n",
       "      <td>54764.13</td>\n",
       "      <td>54787.37</td>\n",
       "      <td>54567.79</td>\n",
       "      <td>54636.86</td>\n",
       "      <td>66.740941</td>\n",
       "      <td>2021-04-20 04:30:00</td>\n",
       "      <td>0 days 02:31:00</td>\n",
       "    </tr>\n",
       "    <tr>\n",
       "      <th>1931563</th>\n",
       "      <td>1931563</td>\n",
       "      <td>2021-04-25 08:45:00</td>\n",
       "      <td>49683.95</td>\n",
       "      <td>49878.13</td>\n",
       "      <td>49683.94</td>\n",
       "      <td>49864.18</td>\n",
       "      <td>50.297182</td>\n",
       "      <td>2021-04-25 08:45:00</td>\n",
       "      <td>0 days 04:45:00</td>\n",
       "    </tr>\n",
       "    <tr>\n",
       "      <th>2089558</th>\n",
       "      <td>2089558</td>\n",
       "      <td>2021-08-13 06:30:00</td>\n",
       "      <td>44847.27</td>\n",
       "      <td>45281.17</td>\n",
       "      <td>44847.27</td>\n",
       "      <td>45280.48</td>\n",
       "      <td>342.302760</td>\n",
       "      <td>2021-08-13 06:30:00</td>\n",
       "      <td>0 days 04:31:00</td>\n",
       "    </tr>\n",
       "    <tr>\n",
       "      <th>2157268</th>\n",
       "      <td>2157268</td>\n",
       "      <td>2021-09-29 09:00:00</td>\n",
       "      <td>42442.00</td>\n",
       "      <td>42442.02</td>\n",
       "      <td>42000.00</td>\n",
       "      <td>42250.01</td>\n",
       "      <td>35.691960</td>\n",
       "      <td>2021-09-29 09:00:00</td>\n",
       "      <td>0 days 02:01:00</td>\n",
       "    </tr>\n",
       "    <tr>\n",
       "      <th>2936528</th>\n",
       "      <td>2936528</td>\n",
       "      <td>2023-03-24 14:00:00</td>\n",
       "      <td>28079.99</td>\n",
       "      <td>28079.99</td>\n",
       "      <td>27901.06</td>\n",
       "      <td>27925.59</td>\n",
       "      <td>293.305870</td>\n",
       "      <td>2023-03-24 14:00:00</td>\n",
       "      <td>0 days 01:21:00</td>\n",
       "    </tr>\n",
       "  </tbody>\n",
       "</table>\n",
       "</div>"
      ],
      "text/plain": [
       "         Unnamed: 0            timestamp      open      high       low  \\\n",
       "0                 0  2017-08-17 08:00:00   4333.32   4349.99   4333.32   \n",
       "29281         29281  2017-09-06 23:00:00   4619.43   4619.64   4619.43   \n",
       "156422       156422  2017-12-04 06:49:00  11464.01  11490.00  11460.00   \n",
       "176774       176774  2017-12-18 10:14:00  18680.91  18680.95  18657.25   \n",
       "176910       176910  2017-12-18 13:34:00  19161.00  19201.00  18850.00   \n",
       "200757       200757  2018-01-04 05:06:00  15119.97  15119.97  14850.00   \n",
       "250880       250880  2018-02-09 10:00:00   7789.90   8290.00   7789.90   \n",
       "252080       252080  2018-02-10 06:15:00   8842.98   8905.00   8842.98   \n",
       "253386       253386  2018-02-11 04:35:00   7976.74   8098.00   7976.49   \n",
       "447631       447631  2018-06-26 12:00:00   6228.00   6228.00   6180.00   \n",
       "449131       449131  2018-06-27 14:45:00   6087.84   6087.84   6053.01   \n",
       "458349       458349  2018-07-04 08:00:00   6481.72   6490.00   6455.20   \n",
       "612309       612309  2018-10-19 09:30:00   6588.00   6597.50   6583.00   \n",
       "649299       649299  2018-11-14 09:00:00   6469.00   6472.73   6468.36   \n",
       "818799       818799  2019-03-12 08:00:00   3834.69   3881.00   3831.23   \n",
       "910659       910659  2019-05-15 13:00:00   7946.71   8019.57   7946.58   \n",
       "944273       944273  2019-06-07 22:15:00   7930.85   7972.07   7928.02   \n",
       "1042418     1042418  2019-08-15 10:00:00  10085.65  10085.65   9945.86   \n",
       "1171538     1171538  2019-11-13 04:20:00   8767.01   8767.01   8767.01   \n",
       "1171608     1171608  2019-11-13 05:33:00   8738.43   8738.43   8737.08   \n",
       "1188675     1188675  2019-11-25 04:00:00   6717.21   6725.66   6645.75   \n",
       "1297995     1297995  2020-02-09 03:00:00   9938.86   9960.00   9937.92   \n",
       "1312911     1312911  2020-02-19 17:30:00  10149.99  10250.00  10138.00   \n",
       "1332583     1332583  2020-03-04 11:30:00   8795.06   8795.06   8720.00   \n",
       "1406893     1406893  2020-04-25 04:30:00   7480.68   7510.00   7480.68   \n",
       "1498903     1498903  2020-06-28 05:30:00   8971.86   8977.42   8971.86   \n",
       "1722133     1722133  2020-11-30 07:00:00  18520.27  18559.77  18512.90   \n",
       "1752781     1752781  2020-12-21 18:00:00  22693.65  22800.00  22621.44   \n",
       "1757581     1757581  2020-12-25 03:00:00  23597.20  23597.20  23488.00   \n",
       "1826742     1826742  2021-02-11 05:00:00  44583.71  44866.52  44583.71   \n",
       "1859682     1859682  2021-03-06 03:30:00  48647.37  48700.00  48635.63   \n",
       "1924392     1924392  2021-04-20 04:30:00  54764.13  54787.37  54567.79   \n",
       "1931563     1931563  2021-04-25 08:45:00  49683.95  49878.13  49683.94   \n",
       "2089558     2089558  2021-08-13 06:30:00  44847.27  45281.17  44847.27   \n",
       "2157268     2157268  2021-09-29 09:00:00  42442.00  42442.02  42000.00   \n",
       "2936528     2936528  2023-03-24 14:00:00  28079.99  28079.99  27901.06   \n",
       "\n",
       "            close      volume            datetime            diff  \n",
       "0         4349.99    0.144289 2017-08-17 08:00:00             NaT  \n",
       "29281     4619.64    2.226911 2017-09-06 23:00:00 0 days 07:00:00  \n",
       "156422   11460.00    0.634925 2017-12-04 06:49:00 0 days 00:49:00  \n",
       "176774   18680.95    0.276016 2017-12-18 10:14:00 0 days 00:14:00  \n",
       "176910   18850.04   40.169844 2017-12-18 13:34:00 0 days 01:05:00  \n",
       "200757   14875.34   57.675828 2018-01-04 05:06:00 0 days 02:06:00  \n",
       "250880    8290.00  210.243307 2018-02-09 10:00:00 1 days 09:32:00  \n",
       "252080    8894.04   29.915880 2018-02-10 06:15:00 0 days 00:16:00  \n",
       "253386    8077.23  135.346530 2018-02-11 04:35:00 0 days 00:35:00  \n",
       "447631    6190.00   73.507996 2018-06-26 12:00:00 0 days 10:01:00  \n",
       "449131    6055.06   54.565334 2018-06-27 14:45:00 0 days 01:46:00  \n",
       "458349    6470.00   42.120444 2018-07-04 08:00:00 0 days 07:38:00  \n",
       "612309    6595.00   33.263950 2018-10-19 09:30:00 0 days 03:31:00  \n",
       "649299    6472.73    4.756144 2018-11-14 09:00:00 0 days 07:01:00  \n",
       "818799    3862.13  209.086626 2019-03-12 08:00:00 0 days 06:01:00  \n",
       "910659    8005.66  111.915511 2019-05-15 13:00:00 0 days 10:01:00  \n",
       "944273    7970.68  104.486154 2019-06-07 22:15:00 0 days 01:02:00  \n",
       "1042418   9992.68  314.071138 2019-08-15 10:00:00 0 days 08:01:00  \n",
       "1171538   8767.01    0.690465 2019-11-13 04:20:00 0 days 02:21:00  \n",
       "1171608   8738.43    0.161097 2019-11-13 05:33:00 0 days 00:04:00  \n",
       "1188675   6663.39  197.295453 2019-11-25 04:00:00 0 days 02:01:00  \n",
       "1297995   9959.17  242.141738 2020-02-09 03:00:00 0 days 01:01:00  \n",
       "1312911  10197.67  693.851074 2020-02-19 17:30:00 0 days 05:55:00  \n",
       "1332583   8731.09  276.890336 2020-03-04 11:30:00 0 days 02:09:00  \n",
       "1406893   7507.27  132.747600 2020-04-25 04:30:00 0 days 02:31:00  \n",
       "1498903   8972.56   40.705756 2020-06-28 05:30:00 0 days 03:31:00  \n",
       "1722133  18528.76   65.068932 2020-11-30 07:00:00 0 days 01:01:00  \n",
       "1752781  22788.26  171.424128 2020-12-21 18:00:00 0 days 04:13:00  \n",
       "1757581  23505.80  226.905963 2020-12-25 03:00:00 0 days 01:01:00  \n",
       "1826742  44861.04  200.585889 2021-02-11 05:00:00 0 days 01:20:00  \n",
       "1859682  48680.94   34.030205 2021-03-06 03:30:00 0 days 01:31:00  \n",
       "1924392  54636.86   66.740941 2021-04-20 04:30:00 0 days 02:31:00  \n",
       "1931563  49864.18   50.297182 2021-04-25 08:45:00 0 days 04:45:00  \n",
       "2089558  45280.48  342.302760 2021-08-13 06:30:00 0 days 04:31:00  \n",
       "2157268  42250.01   35.691960 2021-09-29 09:00:00 0 days 02:01:00  \n",
       "2936528  27925.59  293.305870 2023-03-24 14:00:00 0 days 01:21:00  "
      ]
     },
     "execution_count": 4,
     "metadata": {},
     "output_type": "execute_result"
    }
   ],
   "source": [
    "df_CEX = pd.read_csv(\"Data/Binance/BTC/BTC_USD_original.csv\")\n",
    "df_CEX['datetime']=pd.to_datetime(df_CEX['timestamp'])\n",
    "df_CEX['diff'] = df_CEX['datetime'] - df_CEX['datetime'].shift(1)\n",
    "df_CEX[ df_CEX['diff']!= '0 days 00:01:00']"
   ]
  },
  {
   "cell_type": "code",
   "execution_count": 9,
   "id": "596b303a-2a67-4b2a-aa75-0ad7d25b14a9",
   "metadata": {
    "tags": []
   },
   "outputs": [],
   "source": [
    "df_CEX= df_CEX[ ['datetime','close','volume'] ]  \n",
    "df_CEX.set_index( 'datetime',inplace=True)\n",
    "df_CEX=df_CEX.resample('T').ffill()"
   ]
  },
  {
   "cell_type": "code",
   "execution_count": 10,
   "id": "f7acfd9f-934c-4eec-a20c-2e5329b882c1",
   "metadata": {
    "tags": []
   },
   "outputs": [
    {
     "data": {
      "text/html": [
       "<div>\n",
       "<style scoped>\n",
       "    .dataframe tbody tr th:only-of-type {\n",
       "        vertical-align: middle;\n",
       "    }\n",
       "\n",
       "    .dataframe tbody tr th {\n",
       "        vertical-align: top;\n",
       "    }\n",
       "\n",
       "    .dataframe thead th {\n",
       "        text-align: right;\n",
       "    }\n",
       "</style>\n",
       "<table border=\"1\" class=\"dataframe\">\n",
       "  <thead>\n",
       "    <tr style=\"text-align: right;\">\n",
       "      <th></th>\n",
       "      <th>datetime</th>\n",
       "      <th>close</th>\n",
       "      <th>volume</th>\n",
       "      <th>diff</th>\n",
       "    </tr>\n",
       "  </thead>\n",
       "  <tbody>\n",
       "    <tr>\n",
       "      <th>0</th>\n",
       "      <td>2017-08-17 08:00:00</td>\n",
       "      <td>4349.99</td>\n",
       "      <td>0.144289</td>\n",
       "      <td>NaT</td>\n",
       "    </tr>\n",
       "  </tbody>\n",
       "</table>\n",
       "</div>"
      ],
      "text/plain": [
       "             datetime    close    volume diff\n",
       "0 2017-08-17 08:00:00  4349.99  0.144289  NaT"
      ]
     },
     "execution_count": 10,
     "metadata": {},
     "output_type": "execute_result"
    }
   ],
   "source": [
    "tt= df_CEX\n",
    "tt=tt.reset_index()\n",
    "tt['diff']=tt['datetime']-tt['datetime'].shift(1)\n",
    "tt[ tt['diff'] != \"0 days 00:01:00\"] #indeed no gap for datetime now"
   ]
  },
  {
   "cell_type": "markdown",
   "id": "6a40c148-4ae8-4769-be89-a30c988867c5",
   "metadata": {},
   "source": [
    "### Resample and output to csv\n",
    "We consider the same intervals as pool resampled data as before. For daily frequency, we will choose different starting/end times in a day (e.g 1pm to 1pm instead of 0am to 0am etc). "
   ]
  },
  {
   "cell_type": "code",
   "execution_count": 4,
   "id": "bbffb5d6-7ad6-419c-8a14-2e91dfbfba4e",
   "metadata": {
    "tags": []
   },
   "outputs": [],
   "source": [
    "# df_CEX = pd.read_csv('Data/Binance/ETH_USD_original.csv' ,index_col='datetime')\n",
    "# df_CEX.index = pd.to_datetime(df_CEX.index)"
   ]
  },
  {
   "cell_type": "code",
   "execution_count": 11,
   "id": "6dc8f711-3ae3-4c85-b2f5-8c824c26721f",
   "metadata": {
    "tags": []
   },
   "outputs": [],
   "source": [
    "time_list =['5min', '10min','30min','1H','6H','12H','1D','1W','1M','1Q' ]\n",
    "for T in time_list:\n",
    "    df = df_CEX.resample(T).last()\n",
    "    path= f'Data/Binance/{token_0}/{token_0}_{token_1}_{T}.csv'\n",
    "    df.to_csv(path)"
   ]
  },
  {
   "cell_type": "code",
   "execution_count": 15,
   "id": "f338d5e1-19eb-4ece-a99f-1f21c7ed38d9",
   "metadata": {
    "tags": []
   },
   "outputs": [],
   "source": [
    "df_list = []\n",
    "for t in range(24):\n",
    "    time = f'{t}H'\n",
    "    if t == 0:\n",
    "        df = df_CEX.resample('1D').last()\n",
    "    else:\n",
    "        df = df_CEX.resample('1D',offset=time).last()\n",
    "    df['start'] = time\n",
    "    df_list.append(df)\n",
    "df_CEX_daily =pd.concat(df_list)\n",
    "df_CEX_daily\n",
    "df_CEX_daily.to_csv(f'Data/Binance/{token_0}/{token_0}_{token_1}_daily.csv')"
   ]
  },
  {
   "cell_type": "markdown",
   "id": "33224c57-7746-45cc-b388-a6e31df37f8c",
   "metadata": {},
   "source": [
    "Also we'll create another daily-frequency dataframe whose timeframe aligns with traditional CEXs. The start time(open) is 9:30 a.m EST/EDT and end time (close): 16:00 p.m EST. We choose the start date to be 2021 9/1 UTC."
   ]
  },
  {
   "cell_type": "code",
   "execution_count": 13,
   "id": "8698562e-63de-4b69-986e-8bd072f300c2",
   "metadata": {
    "tags": []
   },
   "outputs": [],
   "source": [
    "copy = df_CEX.copy()\n",
    "\n",
    "#Change to EST/EDT\n",
    "copy.index= copy.index.tz_localize('UTC')\n",
    "copy.index = copy.index.tz_convert('America/New_York')\n",
    "copy.index= copy.index.tz_localize(None)\n",
    "\n",
    "df_open0 =copy[ (copy.index.hour ==9) &(copy.index.minute ==30)]\n",
    "df_open1 = df_open0.reset_index()\n",
    "df_open1['datetime'] = df_open1['datetime'].apply(lambda x: x.date())\n",
    "df_open0 = df_open1[ ['datetime' , 'close']]\n",
    "df_open0.set_index('datetime',inplace=True)\n",
    "df_open0=df_open0.rename( columns={'close':'open'})\n",
    "\n",
    "\n",
    "df_close0 = copy[ (copy.index.hour == 16) &(copy.index.minute ==0)]\n",
    "df_close1 = df_close0.reset_index()\n",
    "df_close1['datetime'] = df_close1['datetime'].apply(lambda x: x.date())\n",
    "df_close0 = df_close1[ ['datetime' , 'close']]\n",
    "df_close0.set_index('datetime',inplace=True)\n",
    "\n",
    "df_CEX_9to16 = pd.concat([df_open0 ,df_close0] , axis=1) \n",
    "df_CEX_9to16\n",
    "df_CEX_9to16.to_csv(f'Data/Binance/BTC/{token_0}_{token_1}_9to16.csv' )"
   ]
  },
  {
   "cell_type": "code",
   "execution_count": 14,
   "id": "6206751a-5ed3-4a58-90a5-0f8c60617984",
   "metadata": {
    "tags": []
   },
   "outputs": [
    {
     "data": {
      "text/html": [
       "<div>\n",
       "<style scoped>\n",
       "    .dataframe tbody tr th:only-of-type {\n",
       "        vertical-align: middle;\n",
       "    }\n",
       "\n",
       "    .dataframe tbody tr th {\n",
       "        vertical-align: top;\n",
       "    }\n",
       "\n",
       "    .dataframe thead th {\n",
       "        text-align: right;\n",
       "    }\n",
       "</style>\n",
       "<table border=\"1\" class=\"dataframe\">\n",
       "  <thead>\n",
       "    <tr style=\"text-align: right;\">\n",
       "      <th></th>\n",
       "      <th>open</th>\n",
       "      <th>close</th>\n",
       "    </tr>\n",
       "    <tr>\n",
       "      <th>datetime</th>\n",
       "      <th></th>\n",
       "      <th></th>\n",
       "    </tr>\n",
       "  </thead>\n",
       "  <tbody>\n",
       "    <tr>\n",
       "      <th>2017-08-17</th>\n",
       "      <td>4435.12</td>\n",
       "      <td>4325.23</td>\n",
       "    </tr>\n",
       "    <tr>\n",
       "      <th>2017-08-18</th>\n",
       "      <td>4262.96</td>\n",
       "      <td>4135.00</td>\n",
       "    </tr>\n",
       "    <tr>\n",
       "      <th>2017-08-19</th>\n",
       "      <td>4059.92</td>\n",
       "      <td>4088.71</td>\n",
       "    </tr>\n",
       "    <tr>\n",
       "      <th>2017-08-20</th>\n",
       "      <td>4125.00</td>\n",
       "      <td>4161.59</td>\n",
       "    </tr>\n",
       "    <tr>\n",
       "      <th>2017-08-21</th>\n",
       "      <td>4007.19</td>\n",
       "      <td>4027.05</td>\n",
       "    </tr>\n",
       "    <tr>\n",
       "      <th>...</th>\n",
       "      <td>...</td>\n",
       "      <td>...</td>\n",
       "    </tr>\n",
       "    <tr>\n",
       "      <th>2023-10-14</th>\n",
       "      <td>26885.17</td>\n",
       "      <td>26858.80</td>\n",
       "    </tr>\n",
       "    <tr>\n",
       "      <th>2023-10-15</th>\n",
       "      <td>26941.23</td>\n",
       "      <td>27030.36</td>\n",
       "    </tr>\n",
       "    <tr>\n",
       "      <th>2023-10-16</th>\n",
       "      <td>29887.85</td>\n",
       "      <td>28486.68</td>\n",
       "    </tr>\n",
       "    <tr>\n",
       "      <th>2023-10-17</th>\n",
       "      <td>28258.51</td>\n",
       "      <td>28507.95</td>\n",
       "    </tr>\n",
       "    <tr>\n",
       "      <th>2023-10-18</th>\n",
       "      <td>28354.99</td>\n",
       "      <td>28224.08</td>\n",
       "    </tr>\n",
       "  </tbody>\n",
       "</table>\n",
       "<p>2254 rows × 2 columns</p>\n",
       "</div>"
      ],
      "text/plain": [
       "                open     close\n",
       "datetime                      \n",
       "2017-08-17   4435.12   4325.23\n",
       "2017-08-18   4262.96   4135.00\n",
       "2017-08-19   4059.92   4088.71\n",
       "2017-08-20   4125.00   4161.59\n",
       "2017-08-21   4007.19   4027.05\n",
       "...              ...       ...\n",
       "2023-10-14  26885.17  26858.80\n",
       "2023-10-15  26941.23  27030.36\n",
       "2023-10-16  29887.85  28486.68\n",
       "2023-10-17  28258.51  28507.95\n",
       "2023-10-18  28354.99  28224.08\n",
       "\n",
       "[2254 rows x 2 columns]"
      ]
     },
     "execution_count": 14,
     "metadata": {},
     "output_type": "execute_result"
    }
   ],
   "source": [
    "df_CEX_9to16"
   ]
  },
  {
   "cell_type": "code",
   "execution_count": null,
   "id": "b813de95-cd7c-4f17-85ba-c28a4475ba0e",
   "metadata": {},
   "outputs": [],
   "source": []
  },
  {
   "cell_type": "code",
   "execution_count": null,
   "id": "2089852f-7568-4c3e-8c67-9226e561fc16",
   "metadata": {},
   "outputs": [],
   "source": []
  },
  {
   "cell_type": "markdown",
   "id": "102e9c8d-44d2-4caa-81b5-72a361c33f60",
   "metadata": {
    "tags": []
   },
   "source": [
    "# Price from Coinbase"
   ]
  },
  {
   "cell_type": "markdown",
   "id": "880a87cf-4ff6-43d0-aa07-4eb16477b80f",
   "metadata": {
    "jp-MarkdownHeadingCollapsed": true,
    "tags": []
   },
   "source": [
    "## ETH"
   ]
  },
  {
   "cell_type": "markdown",
   "id": "3cfa5a1a-af00-428e-9863-2fa1cbc37fd5",
   "metadata": {
    "tags": []
   },
   "source": [
    "### Fetch the data and check\n",
    "Time is  from '2016-05-18 ' to '2023-11-05. "
   ]
  },
  {
   "cell_type": "code",
   "execution_count": 5,
   "id": "ad4dcfed-15bf-462c-a4bc-bf330c8674de",
   "metadata": {
    "tags": []
   },
   "outputs": [],
   "source": [
    "df_CEX_cb = pd.read_csv('Data/coinbase/ETH.csv')[['date','close','volume']]\n",
    "df_CEX_cb['date'] = pd.to_datetime(df_CEX_cb['date'])"
   ]
  },
  {
   "cell_type": "markdown",
   "id": "6a2ea96e-8883-48cd-9d44-3070615224a8",
   "metadata": {},
   "source": [
    "For coinbase, the minimal interval is one hour."
   ]
  },
  {
   "cell_type": "code",
   "execution_count": null,
   "id": "8f7b7a1c-38d1-4e96-b087-16e15c4966b3",
   "metadata": {
    "tags": []
   },
   "outputs": [],
   "source": [
    "#show the jump \n",
    "df_CEX_cb['diff'] = df_CEX_cb['date'] - df_CEX_cb['date'].shift(1)\n",
    "df_CEX_cb[ df_CEX_cb['diff']!= '0 days 01:00:00']"
   ]
  },
  {
   "cell_type": "code",
   "execution_count": 8,
   "id": "af084d26-b4ec-4303-80a1-5bf13107465c",
   "metadata": {
    "tags": []
   },
   "outputs": [],
   "source": [
    "df_CEX_cb.rename(columns ={'date':'datetime'},inplace = True)\n",
    "df_CEX_cb.set_index('datetime',inplace=True)\n",
    "\n",
    "close = df_CEX_cb['close'].resample('1H').ffill()\n",
    "volume = df_CEX_cb['volume'].resample('1H').asfreq().fillna(0)\n",
    "\n",
    "df_CEX_cb_1H = pd.concat([close,volume],axis=1)"
   ]
  },
  {
   "cell_type": "markdown",
   "id": "27c10300-d97d-4f36-97c5-cd8471b83586",
   "metadata": {
    "tags": []
   },
   "source": [
    "### Resample and output to csv\n",
    "We consider the intervals: 1H, 6H, 12H, 1D, 1W,1M, 1Q (but maybe we won't use 1M and 1Q data for analysis since the number is too small).\n",
    "Note that the volume here is positive, we'll sum the volume when resampling. We also consider the same additional daily data as Binance."
   ]
  },
  {
   "cell_type": "code",
   "execution_count": 9,
   "id": "549ea775-0e56-4570-a11b-45eed7bc59c4",
   "metadata": {
    "tags": []
   },
   "outputs": [],
   "source": [
    "# different freq\n",
    "token_0 = 'ETH'\n",
    "token_1 = 'USD'\n",
    "time_list = ['1H','6H','12H','1D','1W','1M','1Q']\n",
    "for T in time_list:\n",
    "    df = df_CEX_cb_1H.resample(T).last()\n",
    "    path= f'Data/coinbase/{token_0}_{token_1}_{T}.csv'\n",
    "    df.to_csv(path)"
   ]
  },
  {
   "cell_type": "code",
   "execution_count": 5,
   "id": "ec8a7d8e-e08d-4e23-a052-76d9aee6074b",
   "metadata": {
    "tags": []
   },
   "outputs": [],
   "source": [
    "# daily, different starting time\n",
    "df_list = []\n",
    "for t in range(24):\n",
    "    time = f'{t}H'\n",
    "    if t == 0:\n",
    "        df = df_CEX_cb_1H.resample('1D').last()\n",
    "    else:\n",
    "        df = df_CEX_cb_1H.resample('1D',offset=time).last()\n",
    "    df['start'] = time\n",
    "    df_list.append(df)\n",
    "df_CEX_cb_daily =pd.concat(df_list)\n",
    "df_CEX_cb_daily\n",
    "df_CEX_cb_daily.to_csv('Data/coinbase/ETH_USD_daily.csv')"
   ]
  },
  {
   "cell_type": "code",
   "execution_count": null,
   "id": "ada4642c-684c-4b80-9074-af5ce24ac49b",
   "metadata": {
    "tags": []
   },
   "outputs": [],
   "source": []
  },
  {
   "cell_type": "code",
   "execution_count": 11,
   "id": "d559dd85-0193-41bb-ba10-5b7f07cc9957",
   "metadata": {
    "tags": []
   },
   "outputs": [],
   "source": [
    "# daily, 9:00 am to 16:30 pm EST/EDT\n",
    "copy = df_CEX_cb_1H.copy()\n",
    "\n",
    "#Change to EST/EDT\n",
    "copy.index = copy.index.tz_convert('America/New_York')\n",
    "copy.index= copy.index.tz_localize(None)\n",
    "\n",
    "df_open0 =copy[ (copy.index.hour ==9) &(copy.index.minute ==30)]\n",
    "df_open1 = df_open0.reset_index()\n",
    "df_open1['datetime'] = df_open1['datetime'].apply(lambda x: x.date())\n",
    "df_open0 = df_open1[ ['datetime' , 'close']]\n",
    "df_open0.set_index('datetime',inplace=True)\n",
    "df_open0=df_open0.rename( columns={'close':'open'})\n",
    "\n",
    "\n",
    "df_close0 = copy[ (copy.index.hour == 16) &(copy.index.minute ==0)]\n",
    "df_close1 = df_close0.reset_index()\n",
    "df_close1['datetime'] = df_close1['datetime'].apply(lambda x: x.date())\n",
    "df_close0 = df_close1[ ['datetime' , 'close']]\n",
    "df_close0.set_index('datetime',inplace=True)\n",
    "\n",
    "df_CEX_9to16 = pd.concat([df_open0 ,df_close0] , axis=1) \n",
    "df_CEX_9to16\n",
    "df_CEX_9to16.to_csv('Data/coinbase/ETH_USD_9to16.csv' )"
   ]
  },
  {
   "cell_type": "code",
   "execution_count": null,
   "id": "b0edadd0-dd92-4086-932d-b93ce5a4b0bd",
   "metadata": {},
   "outputs": [],
   "source": []
  },
  {
   "cell_type": "markdown",
   "id": "dc909a0f-75cf-49ca-b5ea-dfda8537427b",
   "metadata": {
    "tags": []
   },
   "source": [
    "## BTC"
   ]
  },
  {
   "cell_type": "code",
   "execution_count": null,
   "id": "cfc705a5-4244-470d-b198-87c4b2dd28a1",
   "metadata": {},
   "outputs": [],
   "source": []
  },
  {
   "cell_type": "markdown",
   "id": "95f48a4e-5756-4d2e-85ec-1adb7497fccd",
   "metadata": {
    "tags": []
   },
   "source": [
    "### Fetch the data and check\n",
    "Time is  from '2016-05-18 ' to '2023-11-05. "
   ]
  },
  {
   "cell_type": "code",
   "execution_count": 128,
   "id": "5ae1c350-6221-4046-ae97-a260f339e4b6",
   "metadata": {
    "tags": []
   },
   "outputs": [],
   "source": [
    "token_0 = 'BTC'\n",
    "token_1 = 'USD'\n",
    "df_CEX_cb = pd.read_csv(f'Data/coinbase/all tokens/{token_0}.csv')[['date','close','volume']]\n",
    "df_CEX_cb['date'] = pd.to_datetime(df_CEX_cb['date'])"
   ]
  },
  {
   "cell_type": "markdown",
   "id": "c829d1dd-7902-492d-8430-2abd7dcdd70f",
   "metadata": {},
   "source": [
    "For coinbase, the minimal interval is one hour."
   ]
  },
  {
   "cell_type": "code",
   "execution_count": 129,
   "id": "f50d0ac4-a073-4b83-b154-c3688ec05062",
   "metadata": {
    "collapsed": true,
    "jupyter": {
     "outputs_hidden": true
    },
    "tags": []
   },
   "outputs": [
    {
     "data": {
      "text/html": [
       "<div>\n",
       "<style scoped>\n",
       "    .dataframe tbody tr th:only-of-type {\n",
       "        vertical-align: middle;\n",
       "    }\n",
       "\n",
       "    .dataframe tbody tr th {\n",
       "        vertical-align: top;\n",
       "    }\n",
       "\n",
       "    .dataframe thead th {\n",
       "        text-align: right;\n",
       "    }\n",
       "</style>\n",
       "<table border=\"1\" class=\"dataframe\">\n",
       "  <thead>\n",
       "    <tr style=\"text-align: right;\">\n",
       "      <th></th>\n",
       "      <th>date</th>\n",
       "      <th>close</th>\n",
       "      <th>volume</th>\n",
       "      <th>diff</th>\n",
       "    </tr>\n",
       "  </thead>\n",
       "  <tbody>\n",
       "    <tr>\n",
       "      <th>0</th>\n",
       "      <td>2016-01-01 00:00:00+00:00</td>\n",
       "      <td>430.61</td>\n",
       "      <td>160.179593</td>\n",
       "      <td>NaT</td>\n",
       "    </tr>\n",
       "    <tr>\n",
       "      <th>6291</th>\n",
       "      <td>2016-09-19 05:00:00+00:00</td>\n",
       "      <td>611.21</td>\n",
       "      <td>9.100386</td>\n",
       "      <td>0 days 03:00:00</td>\n",
       "    </tr>\n",
       "    <tr>\n",
       "      <th>10194</th>\n",
       "      <td>2017-03-01 01:00:00+00:00</td>\n",
       "      <td>1197.69</td>\n",
       "      <td>114.229500</td>\n",
       "      <td>0 days 06:00:00</td>\n",
       "    </tr>\n",
       "    <tr>\n",
       "      <th>11293</th>\n",
       "      <td>2017-04-15 23:00:00+00:00</td>\n",
       "      <td>1178.85</td>\n",
       "      <td>489.405359</td>\n",
       "      <td>0 days 04:00:00</td>\n",
       "    </tr>\n",
       "    <tr>\n",
       "      <th>15191</th>\n",
       "      <td>2017-09-25 11:00:00+00:00</td>\n",
       "      <td>3765.65</td>\n",
       "      <td>99.704633</td>\n",
       "      <td>0 days 03:00:00</td>\n",
       "    </tr>\n",
       "    <tr>\n",
       "      <th>16795</th>\n",
       "      <td>2017-12-01 08:00:00+00:00</td>\n",
       "      <td>9790.06</td>\n",
       "      <td>800.974645</td>\n",
       "      <td>0 days 02:00:00</td>\n",
       "    </tr>\n",
       "    <tr>\n",
       "      <th>17057</th>\n",
       "      <td>2017-12-12 07:00:00+00:00</td>\n",
       "      <td>16918.17</td>\n",
       "      <td>1236.735946</td>\n",
       "      <td>0 days 02:00:00</td>\n",
       "    </tr>\n",
       "    <tr>\n",
       "      <th>18279</th>\n",
       "      <td>2018-02-01 08:00:00+00:00</td>\n",
       "      <td>9851.48</td>\n",
       "      <td>753.633467</td>\n",
       "      <td>0 days 04:00:00</td>\n",
       "    </tr>\n",
       "    <tr>\n",
       "      <th>20627</th>\n",
       "      <td>2018-05-10 05:00:00+00:00</td>\n",
       "      <td>9288.05</td>\n",
       "      <td>133.459813</td>\n",
       "      <td>0 days 02:00:00</td>\n",
       "    </tr>\n",
       "    <tr>\n",
       "      <th>21105</th>\n",
       "      <td>2018-05-30 04:00:00+00:00</td>\n",
       "      <td>7489.01</td>\n",
       "      <td>116.893211</td>\n",
       "      <td>0 days 02:00:00</td>\n",
       "    </tr>\n",
       "    <tr>\n",
       "      <th>21224</th>\n",
       "      <td>2018-06-04 04:00:00+00:00</td>\n",
       "      <td>7696.21</td>\n",
       "      <td>34.964389</td>\n",
       "      <td>0 days 02:00:00</td>\n",
       "    </tr>\n",
       "    <tr>\n",
       "      <th>22829</th>\n",
       "      <td>2018-08-10 16:00:00+00:00</td>\n",
       "      <td>6369.99</td>\n",
       "      <td>534.809697</td>\n",
       "      <td>0 days 16:00:00</td>\n",
       "    </tr>\n",
       "    <tr>\n",
       "      <th>26127</th>\n",
       "      <td>2018-12-26 03:00:00+00:00</td>\n",
       "      <td>3837.01</td>\n",
       "      <td>267.369455</td>\n",
       "      <td>0 days 02:00:00</td>\n",
       "    </tr>\n",
       "    <tr>\n",
       "      <th>28681</th>\n",
       "      <td>2019-04-11 14:00:00+00:00</td>\n",
       "      <td>5049.08</td>\n",
       "      <td>109.670479</td>\n",
       "      <td>0 days 02:00:00</td>\n",
       "    </tr>\n",
       "    <tr>\n",
       "      <th>30362</th>\n",
       "      <td>2019-06-20 16:00:00+00:00</td>\n",
       "      <td>9368.09</td>\n",
       "      <td>8.275619</td>\n",
       "      <td>0 days 02:00:00</td>\n",
       "    </tr>\n",
       "    <tr>\n",
       "      <th>33558</th>\n",
       "      <td>2019-10-31 21:00:00+00:00</td>\n",
       "      <td>9140.35</td>\n",
       "      <td>450.494353</td>\n",
       "      <td>0 days 02:00:00</td>\n",
       "    </tr>\n",
       "    <tr>\n",
       "      <th>35738</th>\n",
       "      <td>2020-01-30 18:00:00+00:00</td>\n",
       "      <td>9486.90</td>\n",
       "      <td>491.641361</td>\n",
       "      <td>0 days 02:00:00</td>\n",
       "    </tr>\n",
       "    <tr>\n",
       "      <th>40975</th>\n",
       "      <td>2020-09-05 00:00:00+00:00</td>\n",
       "      <td>10483.31</td>\n",
       "      <td>330.922143</td>\n",
       "      <td>0 days 02:00:00</td>\n",
       "    </tr>\n",
       "    <tr>\n",
       "      <th>42075</th>\n",
       "      <td>2020-10-20 21:00:00+00:00</td>\n",
       "      <td>11931.73</td>\n",
       "      <td>418.942547</td>\n",
       "      <td>0 days 02:00:00</td>\n",
       "    </tr>\n",
       "    <tr>\n",
       "      <th>62831</th>\n",
       "      <td>2023-03-04 21:00:00+00:00</td>\n",
       "      <td>22220.21</td>\n",
       "      <td>33.944998</td>\n",
       "      <td>0 days 05:00:00</td>\n",
       "    </tr>\n",
       "  </tbody>\n",
       "</table>\n",
       "</div>"
      ],
      "text/plain": [
       "                           date     close       volume            diff\n",
       "0     2016-01-01 00:00:00+00:00    430.61   160.179593             NaT\n",
       "6291  2016-09-19 05:00:00+00:00    611.21     9.100386 0 days 03:00:00\n",
       "10194 2017-03-01 01:00:00+00:00   1197.69   114.229500 0 days 06:00:00\n",
       "11293 2017-04-15 23:00:00+00:00   1178.85   489.405359 0 days 04:00:00\n",
       "15191 2017-09-25 11:00:00+00:00   3765.65    99.704633 0 days 03:00:00\n",
       "16795 2017-12-01 08:00:00+00:00   9790.06   800.974645 0 days 02:00:00\n",
       "17057 2017-12-12 07:00:00+00:00  16918.17  1236.735946 0 days 02:00:00\n",
       "18279 2018-02-01 08:00:00+00:00   9851.48   753.633467 0 days 04:00:00\n",
       "20627 2018-05-10 05:00:00+00:00   9288.05   133.459813 0 days 02:00:00\n",
       "21105 2018-05-30 04:00:00+00:00   7489.01   116.893211 0 days 02:00:00\n",
       "21224 2018-06-04 04:00:00+00:00   7696.21    34.964389 0 days 02:00:00\n",
       "22829 2018-08-10 16:00:00+00:00   6369.99   534.809697 0 days 16:00:00\n",
       "26127 2018-12-26 03:00:00+00:00   3837.01   267.369455 0 days 02:00:00\n",
       "28681 2019-04-11 14:00:00+00:00   5049.08   109.670479 0 days 02:00:00\n",
       "30362 2019-06-20 16:00:00+00:00   9368.09     8.275619 0 days 02:00:00\n",
       "33558 2019-10-31 21:00:00+00:00   9140.35   450.494353 0 days 02:00:00\n",
       "35738 2020-01-30 18:00:00+00:00   9486.90   491.641361 0 days 02:00:00\n",
       "40975 2020-09-05 00:00:00+00:00  10483.31   330.922143 0 days 02:00:00\n",
       "42075 2020-10-20 21:00:00+00:00  11931.73   418.942547 0 days 02:00:00\n",
       "62831 2023-03-04 21:00:00+00:00  22220.21    33.944998 0 days 05:00:00"
      ]
     },
     "execution_count": 129,
     "metadata": {},
     "output_type": "execute_result"
    }
   ],
   "source": [
    "#show the jump \n",
    "df_CEX_cb['diff'] = df_CEX_cb['date'] - df_CEX_cb['date'].shift(1)\n",
    "df_CEX_cb[ df_CEX_cb['diff']!= '0 days 01:00:00']"
   ]
  },
  {
   "cell_type": "code",
   "execution_count": 130,
   "id": "73c254ec-313d-4b21-8c86-2f5be94da6b6",
   "metadata": {
    "tags": []
   },
   "outputs": [],
   "source": [
    "df_CEX_cb.rename(columns ={'date':'datetime'},inplace = True)\n",
    "df_CEX_cb.set_index('datetime',inplace=True)\n",
    "\n",
    "close = df_CEX_cb['close'].resample('1H').ffill()\n",
    "volume = df_CEX_cb['volume'].resample('1H').asfreq().fillna(0)\n",
    "\n",
    "df_CEX_cb_1H = pd.concat([close,volume],axis=1)"
   ]
  },
  {
   "cell_type": "markdown",
   "id": "04f68937-882a-4226-9456-09300447d5e1",
   "metadata": {
    "tags": []
   },
   "source": [
    "### Resample and output to csv\n",
    "We consider the intervals: 1H, 6H, 12H, 1D, 1W,1M, 1Q (but maybe we won't use 1M and 1Q data for analysis since the number is too small).\n",
    "Note that the volume here is positive, we'll sum the volume when resampling. We also consider the same additional daily data as Binance."
   ]
  },
  {
   "cell_type": "code",
   "execution_count": 131,
   "id": "d4196282-4a4f-49c9-befc-8044bef2c88b",
   "metadata": {
    "tags": []
   },
   "outputs": [],
   "source": [
    "# different freq\n",
    "time_list = ['1H','6H','12H','1D','1W','1M','1Q']\n",
    "for T in time_list:\n",
    "    df = df_CEX_cb_1H.resample(T).last()\n",
    "    path= f'Data/coinbase/{token_0}_{token_1}_{T}.csv'\n",
    "    df.to_csv(path)"
   ]
  },
  {
   "cell_type": "code",
   "execution_count": 132,
   "id": "bf1ce372-0fb2-491c-a3b9-dc35d70894d9",
   "metadata": {
    "tags": []
   },
   "outputs": [],
   "source": [
    "# daily, different starting time\n",
    "df_list = []\n",
    "for t in range(24):\n",
    "    time = f'{t}H'\n",
    "    if t == 0:\n",
    "        df = df_CEX_cb_1H.resample('1D').last()\n",
    "    else:\n",
    "        df = df_CEX_cb_1H.resample('1D',offset=time).last()\n",
    "    df['start'] = time\n",
    "    df_list.append(df)\n",
    "df_CEX_cb_daily =pd.concat(df_list)\n",
    "df_CEX_cb_daily\n",
    "df_CEX_cb_daily.to_csv(f'Data/coinbase/{token_0}_{token_1}_daily.csv')"
   ]
  },
  {
   "cell_type": "code",
   "execution_count": null,
   "id": "200d1564-b9ba-4b13-a464-25aa03e7ac5f",
   "metadata": {
    "tags": []
   },
   "outputs": [],
   "source": []
  },
  {
   "cell_type": "code",
   "execution_count": 133,
   "id": "4664b377-ca29-47c2-8c54-6d53466d1b7e",
   "metadata": {
    "tags": []
   },
   "outputs": [],
   "source": [
    "# daily, 9:00 am to 16:30 pm EST/EDT\n",
    "copy = df_CEX_cb_1H.copy()\n",
    "\n",
    "#Change to EST/EDT\n",
    "copy.index = copy.index.tz_convert('America/New_York')\n",
    "copy.index= copy.index.tz_localize(None)\n",
    "\n",
    "df_open0 =copy[ (copy.index.hour ==9) &(copy.index.minute ==30)]\n",
    "df_open1 = df_open0.reset_index()\n",
    "df_open1['datetime'] = df_open1['datetime'].apply(lambda x: x.date())\n",
    "df_open0 = df_open1[ ['datetime' , 'close']]\n",
    "df_open0.set_index('datetime',inplace=True)\n",
    "df_open0=df_open0.rename( columns={'close':'open'})\n",
    "\n",
    "\n",
    "df_close0 = copy[ (copy.index.hour == 16) &(copy.index.minute ==0)]\n",
    "df_close1 = df_close0.reset_index()\n",
    "df_close1['datetime'] = df_close1['datetime'].apply(lambda x: x.date())\n",
    "df_close0 = df_close1[ ['datetime' , 'close']]\n",
    "df_close0.set_index('datetime',inplace=True)\n",
    "\n",
    "df_CEX_9to16 = pd.concat([df_open0 ,df_close0] , axis=1) \n",
    "df_CEX_9to16\n",
    "df_CEX_9to16.to_csv(f'Data/coinbase/{token_0}_{token_1}_9to16.csv' )"
   ]
  },
  {
   "cell_type": "code",
   "execution_count": null,
   "id": "e1c406e8-0067-4457-87d4-3747cc228b3d",
   "metadata": {},
   "outputs": [],
   "source": []
  },
  {
   "cell_type": "markdown",
   "id": "31f53dcb-c178-4208-8e81-00ec42036393",
   "metadata": {
    "jp-MarkdownHeadingCollapsed": true,
    "tags": []
   },
   "source": [
    "## Other tokens"
   ]
  },
  {
   "cell_type": "code",
   "execution_count": 2,
   "id": "b7523dad-5ddd-4a02-aa07-684860d1498f",
   "metadata": {},
   "outputs": [],
   "source": [
    "csv_files = []\n",
    "path = 'Data/coinbase/all tokens'\n",
    "for filename in os.listdir(path):\n",
    "    if filename.endswith('.csv'):  # 检查文件名是否以 .csv 结尾\n",
    "        csv_files.append(filename)  # 将文件名添加到列表中"
   ]
  },
  {
   "cell_type": "code",
   "execution_count": 3,
   "id": "987737fb-0f4b-453b-8603-83def0305982",
   "metadata": {
    "tags": []
   },
   "outputs": [],
   "source": [
    "def check_token(token_list):\n",
    "    for s in token_list:\n",
    "        ss=s+'.csv'\n",
    "        if ss not in csv_files:\n",
    "            print(f'we dont have {s} from cb')\n",
    "            continue\n",
    "        df = pd.read_csv(path+f'/{ss}',index_col='date')[['low','high','open','close','volume','pair']]\n",
    "        df.index = pd.to_datetime(df.index)\n",
    "        day = (df.index[-1] - df.index[0])\n",
    "        if day <  timedelta(days=365):\n",
    "            print(f'{s} is less than 1yr')"
   ]
  },
  {
   "cell_type": "code",
   "execution_count": 4,
   "id": "9eff533f-7615-41fa-855a-ae199cad5b1d",
   "metadata": {
    "tags": []
   },
   "outputs": [],
   "source": [
    "L1 = ['BTC','ETH','BNB','SOL','XRP','ADA','AVAX','DOT','TRX','LTC','BCH','ATOM','ALGO','RUNE','FTM','GNO']\n",
    "L2 = ['OP','ARB','MATIC']\n",
    "Oracle = ['LINK']\n",
    "DeFi = ['UNI','INJ','AAVE','SNX','MRK','OSMO','FXS','CRV','GMX','CVX','BAL']\n",
    "Gaming =['SAND','AXS']\n",
    "Shitcoin = ['DOGE','SHIB','PEPE']\n",
    "Stable = ['USDT','USDC','DAI','FRAX','LUSD','MIM']\n",
    "token_list = L1 + L2 + Oracle + DeFi + Gaming + Shitcoin + Stable + Stable"
   ]
  },
  {
   "cell_type": "code",
   "execution_count": 6,
   "id": "4f0b0b07-31cd-46b2-8e5f-4b0c3c65ad59",
   "metadata": {
    "tags": []
   },
   "outputs": [],
   "source": [
    "def processing(L) :\n",
    "    df_list = []\n",
    "    for s in L:\n",
    "        ss=s+'.csv'\n",
    "        if ss not in csv_files:\n",
    "            continue\n",
    "        df = pd.read_csv(path+f'/{ss}',index_col='date')[['close','volume','pair']]\n",
    "        df.rename_axis('datetime',inplace = True)\n",
    "        df.index = pd.to_datetime(df.index)\n",
    "        df['label']= 'coinbase'\n",
    "        df['token']= df.apply(lambda r: r.pair.replace('-USD',' & USD') ,axis=1)\n",
    "        df.drop('pair',axis=1,inplace=True)\n",
    "        day = (df.index[-1] - df.index[0])\n",
    "        if day <  timedelta(days=365):\n",
    "            continue\n",
    "        \n",
    "        df=df.resample('1H').ffill()\n",
    "        df_list.append(df)\n",
    "    return df_list"
   ]
  },
  {
   "cell_type": "code",
   "execution_count": 21,
   "id": "8d3d2168-dd9a-4035-a899-a25004496734",
   "metadata": {
    "tags": []
   },
   "outputs": [],
   "source": [
    "df_list = processing(Stable)\n",
    "typ= 'Stable'\n",
    "for df in df_list:\n",
    "    name = df.token[0].replace(' & USD','')\n",
    "    df.to_csv(f'Data/coinbase/{typ}/{name}_1H.csv')"
   ]
  },
  {
   "cell_type": "code",
   "execution_count": null,
   "id": "4dd45686-6296-4207-a3de-4bebc5fe62b2",
   "metadata": {},
   "outputs": [],
   "source": []
  },
  {
   "cell_type": "code",
   "execution_count": null,
   "id": "d8bee4d1-7e52-463a-9ffa-5c362de25d9d",
   "metadata": {},
   "outputs": [],
   "source": []
  },
  {
   "cell_type": "code",
   "execution_count": null,
   "id": "e0ace46e-a5dc-438c-a386-b9e344fb5806",
   "metadata": {},
   "outputs": [],
   "source": []
  },
  {
   "cell_type": "code",
   "execution_count": null,
   "id": "68e4a9f9-5a13-44f4-8938-373a38717f97",
   "metadata": {},
   "outputs": [],
   "source": []
  },
  {
   "cell_type": "code",
   "execution_count": null,
   "id": "fc695790-18d4-406c-b228-3b403b240188",
   "metadata": {},
   "outputs": [],
   "source": []
  },
  {
   "cell_type": "code",
   "execution_count": null,
   "id": "fb5822eb-4b76-4ed7-8e64-fc0cea16bf99",
   "metadata": {},
   "outputs": [],
   "source": []
  },
  {
   "cell_type": "code",
   "execution_count": null,
   "id": "ee0c6c58-2270-48f9-b5b4-47172a742df6",
   "metadata": {},
   "outputs": [],
   "source": []
  },
  {
   "cell_type": "markdown",
   "id": "d9629da1-f518-490d-afb0-793094802e21",
   "metadata": {},
   "source": [
    "# Stop"
   ]
  },
  {
   "cell_type": "markdown",
   "id": "dfb53e44-1c82-4cea-83f6-5722345a1221",
   "metadata": {
    "tags": [],
    "toc-hr-collapsed": true
   },
   "source": [
    "# To do\n",
    "\n",
    "- [ ] arrival histogram may be wrong! fix! and then fit! (read ref)\n",
    "\n",
    "- [ ] why pool vs CEX deviate so much? what is effective fee?(use mispricing process to find), plot! good!\n",
    "\n"
   ]
  },
  {
   "cell_type": "markdown",
   "id": "60b86223-bdd5-4f22-841d-89f562b5b525",
   "metadata": {},
   "source": [
    "### Hawk process\n",
    "* Self-excite (one event happens, stimulating more events to happen)\n",
    "* intensity is random and given by : ($\\lambda_0 (t)$ is the base intensity)\n",
    "\n",
    "    $$\n",
    "    \\lambda_0(t) + \\sum_{i=1}^{N(t)} \\phi(t-t_i)\n",
    "    $$\n",
    "    i.e each event before time t contribute additional intensity $\\phi(t-t_i)$. Usually $\\phi$ is decreasing, so that $\\phi(t-s)$ is increasing on $[0,t]$, which means"
   ]
  },
  {
   "cell_type": "code",
   "execution_count": null,
   "id": "6aa4f269-b87b-4f15-8064-cdad9d7df9e4",
   "metadata": {},
   "outputs": [],
   "source": []
  },
  {
   "cell_type": "code",
   "execution_count": null,
   "id": "9d6e30ed-be61-40bf-a7a7-1f4b5d4007cb",
   "metadata": {},
   "outputs": [],
   "source": []
  },
  {
   "cell_type": "markdown",
   "id": "4a2489f9-449d-4f1d-a50c-083919384655",
   "metadata": {},
   "source": [
    "## TEST"
   ]
  },
  {
   "cell_type": "code",
   "execution_count": null,
   "id": "9342097c-4e30-4623-9de2-b28fa6ca6738",
   "metadata": {},
   "outputs": [],
   "source": []
  },
  {
   "cell_type": "code",
   "execution_count": 67,
   "id": "d202b757-f113-40b3-aa87-81a1fc0d095d",
   "metadata": {
    "tags": []
   },
   "outputs": [],
   "source": []
  },
  {
   "cell_type": "code",
   "execution_count": 68,
   "id": "d47b438a-4374-4deb-ac89-fe3f54f37160",
   "metadata": {
    "tags": []
   },
   "outputs": [
    {
     "data": {
      "text/plain": [
       "(3310076, 398196, 226.0364899414654, 25.974593485142304)"
      ]
     },
     "execution_count": 68,
     "metadata": {},
     "output_type": "execute_result"
    }
   ],
   "source": [
    "#USDC\n"
   ]
  },
  {
   "cell_type": "code",
   "execution_count": 84,
   "id": "f726b635-bcf6-4ad3-b9b0-bd2d03d35f5b",
   "metadata": {
    "tags": []
   },
   "outputs": [
    {
     "data": {
      "text/html": [
       "<div>\n",
       "<style scoped>\n",
       "    .dataframe tbody tr th:only-of-type {\n",
       "        vertical-align: middle;\n",
       "    }\n",
       "\n",
       "    .dataframe tbody tr th {\n",
       "        vertical-align: top;\n",
       "    }\n",
       "\n",
       "    .dataframe thead th {\n",
       "        text-align: right;\n",
       "    }\n",
       "</style>\n",
       "<table border=\"1\" class=\"dataframe\">\n",
       "  <thead>\n",
       "    <tr style=\"text-align: right;\">\n",
       "      <th></th>\n",
       "      <th>tot arrival</th>\n",
       "      <th>mean waiting</th>\n",
       "    </tr>\n",
       "  </thead>\n",
       "  <tbody>\n",
       "    <tr>\n",
       "      <th>arb3000 WETH USDT</th>\n",
       "      <td>398196</td>\n",
       "      <td>226.036490</td>\n",
       "    </tr>\n",
       "    <tr>\n",
       "      <th>arb500 WETH USDC</th>\n",
       "      <td>6711932</td>\n",
       "      <td>15.902595</td>\n",
       "    </tr>\n",
       "    <tr>\n",
       "      <th>arb500 WETH USDT</th>\n",
       "      <td>3310076</td>\n",
       "      <td>25.974593</td>\n",
       "    </tr>\n",
       "    <tr>\n",
       "      <th>arb3000 WETH DAI</th>\n",
       "      <td>136993</td>\n",
       "      <td>559.018271</td>\n",
       "    </tr>\n",
       "    <tr>\n",
       "      <th>m500 WETH USDC</th>\n",
       "      <td>4231932</td>\n",
       "      <td>28.524367</td>\n",
       "    </tr>\n",
       "    <tr>\n",
       "      <th>m3000 WETH USDC</th>\n",
       "      <td>320676</td>\n",
       "      <td>248.661938</td>\n",
       "    </tr>\n",
       "    <tr>\n",
       "      <th>m3000 WETH USDT</th>\n",
       "      <td>315754</td>\n",
       "      <td>234.042809</td>\n",
       "    </tr>\n",
       "    <tr>\n",
       "      <th>m 3000 DAI</th>\n",
       "      <td>128958</td>\n",
       "      <td>573.056150</td>\n",
       "    </tr>\n",
       "  </tbody>\n",
       "</table>\n",
       "</div>"
      ],
      "text/plain": [
       "                   tot arrival  mean waiting\n",
       "arb3000 WETH USDT       398196    226.036490\n",
       "arb500 WETH USDC       6711932     15.902595\n",
       "arb500 WETH USDT       3310076     25.974593\n",
       "arb3000 WETH DAI        136993    559.018271\n",
       "m500 WETH USDC         4231932     28.524367\n",
       "m3000 WETH USDC         320676    248.661938\n",
       "m3000 WETH USDT         315754    234.042809\n",
       "m 3000 DAI              128958    573.056150"
      ]
     },
     "execution_count": 84,
     "metadata": {},
     "output_type": "execute_result"
    }
   ],
   "source": [
    "arrival_stat= pd.DataFrame({ 'tot arrival':[\n",
    "arrival_3000['No.'].sum(), arrival_500['No.'].sum(),arrival_USDT_500['No.'].sum(), arrival_DAI_3000['No.'].sum(), \n",
    "    arrival_m_USDC_500['No.'].sum(), arrival_m_USDC_3000['No.'].sum(),  arrival_m_USDT_3000['No.'].sum() ,\n",
    "     arrival_m_DAI_3000['No.'].sum()\n",
    "],\n",
    "'mean waiting':[arrival_3000['interval'].mean(), arrival_500['interval'].mean() ,arrival_USDT_500['interval'].mean()\n",
    ",arrival_DAI_3000['interval'].mean(), arrival_m_USDC_500['interval'].mean(),arrival_m_USDC_3000['interval'].mean()\n",
    " , arrival_m_USDT_3000['interval'].mean() ,arrival_m_DAI_3000['interval'].mean()             \n",
    "               ]  } , index= ['arb3000 WETH USDT' ,'arb500 WETH USDC', 'arb500 WETH USDT','arb3000 WETH DAI','m500 WETH USDC',\n",
    "                 'm3000 WETH USDC', 'm3000 WETH USDT', 'm 3000 DAI'  ])\n",
    "arrival_stat"
   ]
  },
  {
   "cell_type": "code",
   "execution_count": null,
   "id": "13a18c3a-79f7-410a-83a5-34f79c9ca3b8",
   "metadata": {},
   "outputs": [],
   "source": []
  },
  {
   "cell_type": "code",
   "execution_count": null,
   "id": "ff87e276-d7e7-44e7-a797-c727fb389659",
   "metadata": {},
   "outputs": [],
   "source": []
  }
 ],
 "metadata": {
  "kernelspec": {
   "display_name": "Python 3 (ipykernel)",
   "language": "python",
   "name": "python3"
  },
  "language_info": {
   "codemirror_mode": {
    "name": "ipython",
    "version": 3
   },
   "file_extension": ".py",
   "mimetype": "text/x-python",
   "name": "python",
   "nbconvert_exporter": "python",
   "pygments_lexer": "ipython3",
   "version": "3.10.13"
  }
 },
 "nbformat": 4,
 "nbformat_minor": 5
}
